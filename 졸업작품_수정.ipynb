{
  "nbformat": 4,
  "nbformat_minor": 0,
  "metadata": {
    "colab": {
      "name": "졸업작품_수정.ipynb",
      "provenance": [],
      "collapsed_sections": [
        "13_JzSdF7jCT",
        "6gyo67NY7Adf"
      ],
      "authorship_tag": "ABX9TyMxLbDXiowraW6Fpkd1nroU"
    },
    "kernelspec": {
      "name": "python3",
      "display_name": "Python 3"
    },
    "language_info": {
      "name": "python"
    }
  },
  "cells": [
    {
      "cell_type": "markdown",
      "metadata": {
        "id": "8SHN8TSsd5jm"
      },
      "source": [
        "# 201884052 이지혁 "
      ]
    },
    {
      "cell_type": "markdown",
      "metadata": {
        "id": "LrKkJad3Qtti"
      },
      "source": [
        "# 데이터 불러오기"
      ]
    },
    {
      "cell_type": "code",
      "metadata": {
        "id": "Kn5Ms-NXSU3V"
      },
      "source": [
        "import pandas as pd"
      ],
      "execution_count": null,
      "outputs": []
    },
    {
      "cell_type": "code",
      "metadata": {
        "id": "4gcpVB8fStjb"
      },
      "source": [
        "df=pd.read_csv('/content/drive/MyDrive/test/2019.csv', encoding='euc-kr')#한글\n",
        "df.head(3)"
      ],
      "execution_count": null,
      "outputs": []
    },
    {
      "cell_type": "markdown",
      "metadata": {
        "id": "Mjmv4e6nQYmL"
      },
      "source": [
        "- 컬럼순서나 컬럼명이 다른 컬럼 확인 후 동일한 컬럼명으로 통일"
      ]
    },
    {
      "cell_type": "code",
      "metadata": {
        "id": "Hmnupr-ES3ig"
      },
      "source": [
        "df.columns"
      ],
      "execution_count": null,
      "outputs": []
    },
    {
      "cell_type": "code",
      "metadata": {
        "id": "x5bDDL_jVJLL"
      },
      "source": [
        "df = df[['기준년도', '성별코드', '연령대 코드(5세단위)', '시도코드', '신장(5Cm단위)',\n",
        "       '체중(5Kg 단위)', '허리둘레', '수축기 혈압',\n",
        "       '이완기 혈압', '식전혈당(공복혈당)', '총 콜레스테롤', '트리글리세라이드', 'HDL 콜레스테롤', 'LDL 콜레스테롤',\n",
        "       '혈색소', '요단백', '혈청크레아티닌', '(혈청지오티)AST', '(혈청지오티)ALT', '감마 지티피', '흡연상태',\n",
        "       '음주여부']]"
      ],
      "execution_count": null,
      "outputs": []
    },
    {
      "cell_type": "code",
      "metadata": {
        "id": "sdiQmZDiV7O0"
      },
      "source": [
        "df.columns = ['HCHK_YEAR', 'SEX', 'AGE_GROUP', 'SIDO', 'HEIGHT', 'WEIGHT', 'WAIST','BP_HIGH','BP_LWST','BLDS',\n",
        "     'TOT_CHOLE','TRIGLYCERIDE','HDL_CHOLE','LDL_CHOLE','HMG','OLIG_PROTE_CD','CREATININE','SGOT_AST','SGPT_ALT','GAMMA_GTP', \n",
        "     'SMK_STAT_TYPE_CD','DRK_YN']\n",
        "df.head()"
      ],
      "execution_count": null,
      "outputs": []
    },
    {
      "cell_type": "code",
      "metadata": {
        "id": "ehutPaYfXO_a"
      },
      "source": [
        "#데이터 저장\n",
        "df.to_csv('/content/drive/MyDrive/test/h19.csv', encoding='euc-kr', index=False)"
      ],
      "execution_count": null,
      "outputs": []
    },
    {
      "cell_type": "code",
      "metadata": {
        "id": "odR0zMnacp_o"
      },
      "source": [
        "#12~19년도 데이터 합침\n",
        "h12=pd.read_csv('/content/drive/MyDrive/test/h12.csv', encoding='euc-kr')\n",
        "h13=pd.read_csv('/content/drive/MyDrive/test/h13.csv', encoding='euc-kr')\n",
        "h14=pd.read_csv('/content/drive/MyDrive/test/h14.csv', encoding='euc-kr')\n",
        "h15=pd.read_csv('/content/drive/MyDrive/test/h15.csv', encoding='euc-kr')\n",
        "h16=pd.read_csv('/content/drive/MyDrive/test/h16.csv', encoding='euc-kr')\n",
        "h17=pd.read_csv('/content/drive/MyDrive/test/h17.csv', encoding='euc-kr')\n",
        "h18=pd.read_csv('/content/drive/MyDrive/test/h18.csv', encoding='euc-kr')\n",
        "h19=pd.read_csv('/content/drive/MyDrive/test/h19.csv', encoding='euc-kr')"
      ],
      "execution_count": null,
      "outputs": []
    },
    {
      "cell_type": "code",
      "metadata": {
        "id": "VL0FnI2BYPnU"
      },
      "source": [
        "merge = pd.concat([h12,h13,h14,h15,h16,h17,h18,h19], ignore_index=True)\n",
        "merge"
      ],
      "execution_count": null,
      "outputs": []
    },
    {
      "cell_type": "code",
      "metadata": {
        "id": "M0Io7GbydL--"
      },
      "source": [
        "#합친 데이터 저장\n",
        "merge.to_csv('/content/drive/MyDrive/test/merge.csv', encoding='euc-kr', index=False)"
      ],
      "execution_count": null,
      "outputs": []
    },
    {
      "cell_type": "markdown",
      "metadata": {
        "id": "WfpsRWq0oRZX"
      },
      "source": [
        "# 데이터 탐색"
      ]
    },
    {
      "cell_type": "code",
      "metadata": {
        "id": "H5KPfHNYHIF4"
      },
      "source": [
        "##########################################################################\n",
        "#라이브러리 호출\n",
        "import numpy as np\n",
        "import pandas as pd\n",
        "import seaborn as sns\n",
        "import matplotlib.pyplot as plt\n",
        "import plotly.express as px\n",
        "import plotly.graph_objects as go\n",
        "#warning\n",
        "import warnings\n",
        "warnings.filterwarnings('ignore')"
      ],
      "execution_count": null,
      "outputs": []
    },
    {
      "cell_type": "code",
      "metadata": {
        "colab": {
          "base_uri": "https://localhost:8080/"
        },
        "id": "by7M9ZiHd_cO",
        "outputId": "375c4e0d-c9a0-46c4-cc50-ccaa8e2d0cfa"
      },
      "source": [
        "#합친 데이터 불러오기\n",
        "df=pd.read_csv('/content/drive/MyDrive/test/merge.csv', encoding='euc-kr')\n",
        "df.head(1)"
      ],
      "execution_count": null,
      "outputs": [
        {
          "output_type": "execute_result",
          "data": {
            "text/html": [
              "<div>\n",
              "<style scoped>\n",
              "    .dataframe tbody tr th:only-of-type {\n",
              "        vertical-align: middle;\n",
              "    }\n",
              "\n",
              "    .dataframe tbody tr th {\n",
              "        vertical-align: top;\n",
              "    }\n",
              "\n",
              "    .dataframe thead th {\n",
              "        text-align: right;\n",
              "    }\n",
              "</style>\n",
              "<table border=\"1\" class=\"dataframe\">\n",
              "  <thead>\n",
              "    <tr style=\"text-align: right;\">\n",
              "      <th></th>\n",
              "      <th>HCHK_YEAR</th>\n",
              "      <th>SEX</th>\n",
              "      <th>AGE_GROUP</th>\n",
              "      <th>SIDO</th>\n",
              "      <th>HEIGHT</th>\n",
              "      <th>WEIGHT</th>\n",
              "      <th>WAIST</th>\n",
              "      <th>BP_HIGH</th>\n",
              "      <th>BP_LWST</th>\n",
              "      <th>BLDS</th>\n",
              "      <th>TOT_CHOLE</th>\n",
              "      <th>TRIGLYCERIDE</th>\n",
              "      <th>HDL_CHOLE</th>\n",
              "      <th>LDL_CHOLE</th>\n",
              "      <th>HMG</th>\n",
              "      <th>OLIG_PROTE_CD</th>\n",
              "      <th>CREATININE</th>\n",
              "      <th>SGOT_AST</th>\n",
              "      <th>SGPT_ALT</th>\n",
              "      <th>GAMMA_GTP</th>\n",
              "      <th>SMK_STAT_TYPE_CD</th>\n",
              "      <th>DRK_YN</th>\n",
              "    </tr>\n",
              "  </thead>\n",
              "  <tbody>\n",
              "    <tr>\n",
              "      <th>0</th>\n",
              "      <td>2012</td>\n",
              "      <td>2</td>\n",
              "      <td>14</td>\n",
              "      <td>46</td>\n",
              "      <td>150.0</td>\n",
              "      <td>45.0</td>\n",
              "      <td>72.0</td>\n",
              "      <td>121.0</td>\n",
              "      <td>76.0</td>\n",
              "      <td>132.0</td>\n",
              "      <td>198.0</td>\n",
              "      <td>64.0</td>\n",
              "      <td>37.0</td>\n",
              "      <td>149.0</td>\n",
              "      <td>10.4</td>\n",
              "      <td>NaN</td>\n",
              "      <td>1.2</td>\n",
              "      <td>25.0</td>\n",
              "      <td>14.0</td>\n",
              "      <td>11.0</td>\n",
              "      <td>1.0</td>\n",
              "      <td>N</td>\n",
              "    </tr>\n",
              "  </tbody>\n",
              "</table>\n",
              "</div>"
            ],
            "text/plain": [
              "   HCHK_YEAR  SEX  AGE_GROUP  ...  GAMMA_GTP  SMK_STAT_TYPE_CD  DRK_YN\n",
              "0       2012    2         14  ...       11.0               1.0       N\n",
              "\n",
              "[1 rows x 22 columns]"
            ]
          },
          "metadata": {},
          "execution_count": 4
        }
      ]
    },
    {
      "cell_type": "code",
      "metadata": {
        "colab": {
          "base_uri": "https://localhost:8080/"
        },
        "id": "qdHLIO20NaB6",
        "outputId": "b528f70c-1c6b-48df-bb73-fffdd0a0a741"
      },
      "source": [
        "#데이터 모양 확인\n",
        "df.shape"
      ],
      "execution_count": null,
      "outputs": [
        {
          "output_type": "execute_result",
          "data": {
            "text/plain": [
              "(8000000, 22)"
            ]
          },
          "metadata": {},
          "execution_count": 5
        }
      ]
    },
    {
      "cell_type": "code",
      "metadata": {
        "id": "nvqk__8reMZ-",
        "colab": {
          "base_uri": "https://localhost:8080/"
        },
        "outputId": "866d79ce-2895-47c5-f4ac-9d5ad9f23137"
      },
      "source": [
        "df.columns"
      ],
      "execution_count": null,
      "outputs": [
        {
          "output_type": "execute_result",
          "data": {
            "text/plain": [
              "Index(['HCHK_YEAR', 'SEX', 'AGE_GROUP', 'SIDO', 'HEIGHT', 'WEIGHT', 'WAIST',\n",
              "       'BP_HIGH', 'BP_LWST', 'BLDS', 'TOT_CHOLE', 'TRIGLYCERIDE', 'HDL_CHOLE',\n",
              "       'LDL_CHOLE', 'HMG', 'OLIG_PROTE_CD', 'CREATININE', 'SGOT_AST',\n",
              "       'SGPT_ALT', 'GAMMA_GTP', 'SMK_STAT_TYPE_CD', 'DRK_YN'],\n",
              "      dtype='object')"
            ]
          },
          "metadata": {},
          "execution_count": 6
        }
      ]
    },
    {
      "cell_type": "code",
      "metadata": {
        "colab": {
          "base_uri": "https://localhost:8080/"
        },
        "id": "y_vO-JBiqEz9",
        "outputId": "b04d7a3f-95f9-4f90-c1d3-3c2e82e21e5f"
      },
      "source": [
        "#나이 데이터 수치로 바꾸기\n",
        "df['AGE_GROUP']= np.where(df['HCHK_YEAR']<2014, df['AGE_GROUP']+4,df['AGE_GROUP'])\n",
        "df['AGE_GROUP']=df['AGE_GROUP']*5-5\n",
        "df['AGE_GROUP'].unique()"
      ],
      "execution_count": null,
      "outputs": [
        {
          "output_type": "execute_result",
          "data": {
            "text/plain": [
              "array([85, 20, 25, 30, 35, 40, 45, 50, 55, 60, 65, 70, 75, 80])"
            ]
          },
          "metadata": {},
          "execution_count": 7
        }
      ]
    },
    {
      "cell_type": "markdown",
      "metadata": {
        "id": "vXrGVXaXUhtW"
      },
      "source": [
        "- 컬럼별 데이터 확인\n"
      ]
    },
    {
      "cell_type": "code",
      "metadata": {
        "colab": {
          "base_uri": "https://localhost:8080/"
        },
        "id": "SWqwdzABupdw",
        "outputId": "9d1a819a-e942-4719-b46d-b42115511939"
      },
      "source": [
        "print('HCHK_YEAR',df['HCHK_YEAR'].unique())#2012~2019\n",
        "print('SEX', df['SEX'].unique())#1남자 2여자\n",
        "print('AGE_GROUP', df['AGE_GROUP'].unique())#20~85\n",
        "print('SIDO', df['SIDO'].unique())#50오기 -> 49변경\n",
        "print('HEIGHT', df['HEIGHT'].unique())#NA값 100~205\n",
        "print('WEIGHT', df['WEIGHT'].unique())#NA값 20~175\n",
        "print('OLIG_PROTE_CD', df['OLIG_PROTE_CD'].unique())#NA값 1:- 2:+- 3:1 4:2 5:3 6:4\n",
        "print('SMK_STAT_TYPE_CD', df['SMK_STAT_TYPE_CD'].unique())#NA값 1안핌 2끊음 3핌 -> 0안핌 1핌 변경\n",
        "print('DRK_YN', df['DRK_YN'].unique())#NA값, N,Y 문자형->숫자 인코딩 0안마심 1마심"
      ],
      "execution_count": null,
      "outputs": [
        {
          "output_type": "stream",
          "name": "stdout",
          "text": [
            "HCHK_YEAR [2012 2013 2014 2015 2016 2017 2018 2019]\n",
            "SEX [2 1]\n",
            "AGE_GROUP [85 20 25 30 35 40 45 50 55 60 65 70 75 80]\n",
            "SIDO [46 45 26 11 28 41 47 44 43 27 42 30 48 31 29 49 36 50]\n",
            "HEIGHT [150. 145. 140. 155. 160. 165. 170. 175. 180. 185. 190. 135. 130. 120.\n",
            " 125. 195. 200.  nan 105. 110. 115. 100. 205.]\n",
            "WEIGHT [ 45.  30.  40.  35.  50.  55.  60.  75.  65.  70.  80.  85. 100. 115.\n",
            "  90.  95. 105. 110. 120. 125.  25. 130. 135. 140. 145. 170.  nan 155.\n",
            " 150. 160. 165.  20. 175.]\n",
            "OLIG_PROTE_CD [nan  1.  3.  4.  2.  5.  6.]\n",
            "SMK_STAT_TYPE_CD [ 1.  3.  2. nan]\n",
            "DRK_YN ['N' 'Y' nan '1.0' 1.0 0.0]\n"
          ]
        }
      ]
    },
    {
      "cell_type": "code",
      "metadata": {
        "colab": {
          "base_uri": "https://localhost:8080/"
        },
        "id": "-N7IZa8qwr_q",
        "outputId": "9d735672-5a6b-4775-9e54-d83d6d4b3996"
      },
      "source": [
        "#시도 데이터 50->49로 변환\n",
        "df['SIDO']= np.where(df['SIDO']==50, df['SIDO']-1,df['SIDO'])\n",
        "df['SIDO'].unique()"
      ],
      "execution_count": null,
      "outputs": [
        {
          "output_type": "execute_result",
          "data": {
            "text/plain": [
              "array([46, 45, 26, 11, 28, 41, 47, 44, 43, 27, 42, 30, 48, 31, 29, 49, 36])"
            ]
          },
          "metadata": {},
          "execution_count": 9
        }
      ]
    },
    {
      "cell_type": "code",
      "metadata": {
        "colab": {
          "base_uri": "https://localhost:8080/"
        },
        "id": "nuvRukIJ2fjy",
        "outputId": "8b9fda7e-1f75-4e45-cd69-0165dff7d01b"
      },
      "source": [
        "#음주 데이터 N,Y값 0,1로 변경\n",
        "df['DRK_YN']= np.where(df['DRK_YN']==1.0,1,df['DRK_YN'])\n",
        "df['DRK_YN']= np.where(df['DRK_YN']=='1.0',1,df['DRK_YN'])\n",
        "df['DRK_YN']= np.where(df['DRK_YN']==0.0,0,df['DRK_YN'])\n",
        "df['DRK_YN']= np.where(df['DRK_YN']=='N',0,df['DRK_YN'])\n",
        "df['DRK_YN']= np.where(df['DRK_YN']=='Y',1,df['DRK_YN'])\n",
        "print('DRK_YN', df['DRK_YN'].unique())\n",
        "df['DRK_YN']=df['DRK_YN'].astype(float)"
      ],
      "execution_count": null,
      "outputs": [
        {
          "output_type": "stream",
          "name": "stdout",
          "text": [
            "DRK_YN [0 1 nan]\n"
          ]
        }
      ]
    },
    {
      "cell_type": "code",
      "metadata": {
        "colab": {
          "base_uri": "https://localhost:8080/"
        },
        "id": "-2q2AtPPDE7z",
        "outputId": "5679c94f-249b-4926-bbe8-4b35ae85bdb7"
      },
      "source": [
        "#흡연 데이터 1,2를 0으로 합치기 \n",
        "#0:안핌 1:핌\n",
        "df['SMK_STAT_TYPE_CD']= np.where(df['SMK_STAT_TYPE_CD']==2,1,df['SMK_STAT_TYPE_CD'])\n",
        "df['SMK_STAT_TYPE_CD']= np.where(df['SMK_STAT_TYPE_CD']==1,0,df['SMK_STAT_TYPE_CD'])\n",
        "df['SMK_STAT_TYPE_CD']= np.where(df['SMK_STAT_TYPE_CD']==3,1,df['SMK_STAT_TYPE_CD'])\n",
        "print('SMK_STAT_TYPE_CD', df['SMK_STAT_TYPE_CD'].unique())"
      ],
      "execution_count": null,
      "outputs": [
        {
          "output_type": "stream",
          "name": "stdout",
          "text": [
            "SMK_STAT_TYPE_CD [ 0.  1. nan]\n"
          ]
        }
      ]
    },
    {
      "cell_type": "code",
      "metadata": {
        "colab": {
          "base_uri": "https://localhost:8080/"
        },
        "id": "fSfNA6XLSHNP",
        "outputId": "35edec8f-062f-4695-b960-c9217306813e"
      },
      "source": [
        "#성별 데이터 1,2를 0,1로 바꾸기\n",
        "#0:남자 1:여자\n",
        "df['SEX']= np.where(df['SEX']==1,0,df['SEX'])\n",
        "df['SEX']= np.where(df['SEX']==2,1,df['SEX'])\n",
        "print('SEX', df['SEX'].unique())"
      ],
      "execution_count": null,
      "outputs": [
        {
          "output_type": "stream",
          "name": "stdout",
          "text": [
            "SEX [1 0]\n"
          ]
        }
      ]
    },
    {
      "cell_type": "code",
      "metadata": {
        "colab": {
          "base_uri": "https://localhost:8080/"
        },
        "id": "H2mtm-6ZvBDS",
        "outputId": "dfeaef5b-c5fe-4b88-90a7-8146ae477508"
      },
      "source": [
        "#결측값 확인 1백만개 넘는 결측치들은 특정 년도의 데이터가 누락\n",
        "df.isna().sum()"
      ],
      "execution_count": null,
      "outputs": [
        {
          "output_type": "execute_result",
          "data": {
            "text/plain": [
              "HCHK_YEAR                 0\n",
              "SEX                       0\n",
              "AGE_GROUP                 0\n",
              "SIDO                      0\n",
              "HEIGHT                  897\n",
              "WEIGHT                  897\n",
              "WAIST                  1276\n",
              "BP_HIGH               11261\n",
              "BP_LWST               11262\n",
              "BLDS                  11528\n",
              "TOT_CHOLE           1333781\n",
              "TRIGLYCERIDE        1333797\n",
              "HDL_CHOLE           1333804\n",
              "LDL_CHOLE           1376315\n",
              "HMG                   11551\n",
              "OLIG_PROTE_CD         48053\n",
              "CREATININE            11520\n",
              "SGOT_AST              11511\n",
              "SGPT_ALT              11514\n",
              "GAMMA_GTP             11524\n",
              "SMK_STAT_TYPE_CD       1670\n",
              "DRK_YN              1712654\n",
              "dtype: int64"
            ]
          },
          "metadata": {},
          "execution_count": 13
        }
      ]
    },
    {
      "cell_type": "code",
      "metadata": {
        "colab": {
          "base_uri": "https://localhost:8080/"
        },
        "id": "Hy5H0UkU8ZTD",
        "outputId": "620b4c14-73d7-4fba-e4fd-7f55eedcb065"
      },
      "source": [
        "df.columns.nunique()"
      ],
      "execution_count": null,
      "outputs": [
        {
          "output_type": "execute_result",
          "data": {
            "text/plain": [
              "22"
            ]
          },
          "metadata": {},
          "execution_count": 14
        }
      ]
    },
    {
      "cell_type": "markdown",
      "metadata": {
        "id": "0EgMG0WnflNP"
      },
      "source": [
        "# 파생변수 생성"
      ]
    },
    {
      "cell_type": "code",
      "metadata": {
        "colab": {
          "base_uri": "https://localhost:8080/"
        },
        "id": "oM20Zt_u-GIz",
        "outputId": "714ef4d8-159b-489a-9714-3b7e13b5f025"
      },
      "source": [
        "#파생변수 생성 비만도\n",
        "df['BMI'] = (df['WEIGHT']/df['HEIGHT']/df['HEIGHT'])*10000\n",
        "df['BMI']"
      ],
      "execution_count": null,
      "outputs": [
        {
          "output_type": "execute_result",
          "data": {
            "text/plain": [
              "0          20.000000\n",
              "1          14.268728\n",
              "2          20.408163\n",
              "3          20.408163\n",
              "4          20.408163\n",
              "             ...    \n",
              "7999995    22.491349\n",
              "7999996    19.031142\n",
              "7999997    25.390625\n",
              "7999998    25.951557\n",
              "7999999    27.055151\n",
              "Name: BMI, Length: 8000000, dtype: float64"
            ]
          },
          "metadata": {},
          "execution_count": 15
        }
      ]
    },
    {
      "cell_type": "code",
      "metadata": {
        "colab": {
          "base_uri": "https://localhost:8080/"
        },
        "id": "HWuATjky_dFC",
        "outputId": "b439fd67-5e17-4600-afed-80d2c232e637"
      },
      "source": [
        "#파생변수 생성 추정사구체여과율 https://medcalc.co.kr/7\n",
        "df['eGFR'] = np.where(df['SEX']==1, 175*df['CREATININE']**-1.154*df['AGE_GROUP']**-0.203*0.742, \n",
        "                        175*df['CREATININE']**-1.154*df['AGE_GROUP']**-0.203)#여성이면 위, 남성이면 아래\n",
        "df['eGFR']"
      ],
      "execution_count": null,
      "outputs": [
        {
          "output_type": "execute_result",
          "data": {
            "text/plain": [
              "0           42.696744\n",
              "1           79.529229\n",
              "2          211.991074\n",
              "3          127.451902\n",
              "4           79.824647\n",
              "              ...    \n",
              "7999995     57.313086\n",
              "7999996     93.459621\n",
              "7999997     76.220772\n",
              "7999998     85.033927\n",
              "7999999     90.489185\n",
              "Name: eGFR, Length: 8000000, dtype: float64"
            ]
          },
          "metadata": {},
          "execution_count": 16
        }
      ]
    },
    {
      "cell_type": "markdown",
      "metadata": {
        "id": "Bxtt3jCNplh1"
      },
      "source": [
        "# 결측치 제거"
      ]
    },
    {
      "cell_type": "code",
      "metadata": {
        "colab": {
          "base_uri": "https://localhost:8080/"
        },
        "id": "RdjxWxrn7Ek-",
        "outputId": "5cb22da0-3813-413a-f94a-006f1e2fc2db"
      },
      "source": [
        "df.isna().sum()"
      ],
      "execution_count": null,
      "outputs": [
        {
          "output_type": "execute_result",
          "data": {
            "text/plain": [
              "HCHK_YEAR                 0\n",
              "SEX                       0\n",
              "AGE_GROUP                 0\n",
              "SIDO                      0\n",
              "HEIGHT                  897\n",
              "WEIGHT                  897\n",
              "WAIST                  1276\n",
              "BP_HIGH               11261\n",
              "BP_LWST               11262\n",
              "BLDS                  11528\n",
              "TOT_CHOLE           1333781\n",
              "TRIGLYCERIDE        1333797\n",
              "HDL_CHOLE           1333804\n",
              "LDL_CHOLE           1376315\n",
              "HMG                   11551\n",
              "OLIG_PROTE_CD         48053\n",
              "CREATININE            11520\n",
              "SGOT_AST              11511\n",
              "SGPT_ALT              11514\n",
              "GAMMA_GTP             11524\n",
              "SMK_STAT_TYPE_CD       1670\n",
              "DRK_YN              1712654\n",
              "BMI                     898\n",
              "eGFR                  11520\n",
              "dtype: int64"
            ]
          },
          "metadata": {},
          "execution_count": 17
        }
      ]
    },
    {
      "cell_type": "code",
      "metadata": {
        "colab": {
          "base_uri": "https://localhost:8080/"
        },
        "id": "G-2N2TyW7hlT",
        "outputId": "df6eeeeb-2de1-4d25-f297-da29cbfbb704"
      },
      "source": [
        "#결측치가 1백만개 넘는 행 제거 5363799 rows × 30 columns\n",
        "temp = df.copy()\n",
        "temp = temp.dropna(how='any' ,subset=['TOT_CHOLE','TRIGLYCERIDE','HDL_CHOLE','LDL_CHOLE','DRK_YN'])#subset 결측치 포함 행 삭제\n",
        "\n",
        "#결측치 평균값(반올림) 대체\n",
        "temp = temp.fillna(round(df.mean()))\n",
        "temp"
      ],
      "execution_count": null,
      "outputs": [
        {
          "output_type": "execute_result",
          "data": {
            "text/html": [
              "<div>\n",
              "<style scoped>\n",
              "    .dataframe tbody tr th:only-of-type {\n",
              "        vertical-align: middle;\n",
              "    }\n",
              "\n",
              "    .dataframe tbody tr th {\n",
              "        vertical-align: top;\n",
              "    }\n",
              "\n",
              "    .dataframe thead th {\n",
              "        text-align: right;\n",
              "    }\n",
              "</style>\n",
              "<table border=\"1\" class=\"dataframe\">\n",
              "  <thead>\n",
              "    <tr style=\"text-align: right;\">\n",
              "      <th></th>\n",
              "      <th>HCHK_YEAR</th>\n",
              "      <th>SEX</th>\n",
              "      <th>AGE_GROUP</th>\n",
              "      <th>SIDO</th>\n",
              "      <th>HEIGHT</th>\n",
              "      <th>WEIGHT</th>\n",
              "      <th>WAIST</th>\n",
              "      <th>BP_HIGH</th>\n",
              "      <th>BP_LWST</th>\n",
              "      <th>BLDS</th>\n",
              "      <th>TOT_CHOLE</th>\n",
              "      <th>TRIGLYCERIDE</th>\n",
              "      <th>HDL_CHOLE</th>\n",
              "      <th>LDL_CHOLE</th>\n",
              "      <th>HMG</th>\n",
              "      <th>OLIG_PROTE_CD</th>\n",
              "      <th>CREATININE</th>\n",
              "      <th>SGOT_AST</th>\n",
              "      <th>SGPT_ALT</th>\n",
              "      <th>GAMMA_GTP</th>\n",
              "      <th>SMK_STAT_TYPE_CD</th>\n",
              "      <th>DRK_YN</th>\n",
              "      <th>BMI</th>\n",
              "      <th>eGFR</th>\n",
              "    </tr>\n",
              "  </thead>\n",
              "  <tbody>\n",
              "    <tr>\n",
              "      <th>0</th>\n",
              "      <td>2012</td>\n",
              "      <td>1</td>\n",
              "      <td>85</td>\n",
              "      <td>46</td>\n",
              "      <td>150.0</td>\n",
              "      <td>45.0</td>\n",
              "      <td>72.0</td>\n",
              "      <td>121.0</td>\n",
              "      <td>76.0</td>\n",
              "      <td>132.0</td>\n",
              "      <td>198.0</td>\n",
              "      <td>64.0</td>\n",
              "      <td>37.0</td>\n",
              "      <td>149.0</td>\n",
              "      <td>10.4</td>\n",
              "      <td>1.0</td>\n",
              "      <td>1.2</td>\n",
              "      <td>25.0</td>\n",
              "      <td>14.0</td>\n",
              "      <td>11.0</td>\n",
              "      <td>0.0</td>\n",
              "      <td>0.0</td>\n",
              "      <td>20.000000</td>\n",
              "      <td>42.696744</td>\n",
              "    </tr>\n",
              "    <tr>\n",
              "      <th>1</th>\n",
              "      <td>2012</td>\n",
              "      <td>1</td>\n",
              "      <td>85</td>\n",
              "      <td>45</td>\n",
              "      <td>145.0</td>\n",
              "      <td>30.0</td>\n",
              "      <td>68.0</td>\n",
              "      <td>110.0</td>\n",
              "      <td>70.0</td>\n",
              "      <td>70.0</td>\n",
              "      <td>151.0</td>\n",
              "      <td>102.0</td>\n",
              "      <td>41.0</td>\n",
              "      <td>89.0</td>\n",
              "      <td>9.1</td>\n",
              "      <td>1.0</td>\n",
              "      <td>0.7</td>\n",
              "      <td>28.0</td>\n",
              "      <td>16.0</td>\n",
              "      <td>11.0</td>\n",
              "      <td>0.0</td>\n",
              "      <td>0.0</td>\n",
              "      <td>14.268728</td>\n",
              "      <td>79.529229</td>\n",
              "    </tr>\n",
              "    <tr>\n",
              "      <th>2</th>\n",
              "      <td>2012</td>\n",
              "      <td>0</td>\n",
              "      <td>20</td>\n",
              "      <td>26</td>\n",
              "      <td>140.0</td>\n",
              "      <td>40.0</td>\n",
              "      <td>68.0</td>\n",
              "      <td>100.0</td>\n",
              "      <td>70.0</td>\n",
              "      <td>77.0</td>\n",
              "      <td>171.0</td>\n",
              "      <td>96.0</td>\n",
              "      <td>28.0</td>\n",
              "      <td>123.0</td>\n",
              "      <td>13.0</td>\n",
              "      <td>1.0</td>\n",
              "      <td>0.5</td>\n",
              "      <td>33.0</td>\n",
              "      <td>17.0</td>\n",
              "      <td>25.0</td>\n",
              "      <td>0.0</td>\n",
              "      <td>0.0</td>\n",
              "      <td>20.408163</td>\n",
              "      <td>211.991074</td>\n",
              "    </tr>\n",
              "    <tr>\n",
              "      <th>3</th>\n",
              "      <td>2012</td>\n",
              "      <td>1</td>\n",
              "      <td>20</td>\n",
              "      <td>11</td>\n",
              "      <td>140.0</td>\n",
              "      <td>40.0</td>\n",
              "      <td>66.0</td>\n",
              "      <td>106.0</td>\n",
              "      <td>62.0</td>\n",
              "      <td>87.0</td>\n",
              "      <td>178.0</td>\n",
              "      <td>59.0</td>\n",
              "      <td>57.0</td>\n",
              "      <td>109.0</td>\n",
              "      <td>13.0</td>\n",
              "      <td>1.0</td>\n",
              "      <td>0.6</td>\n",
              "      <td>11.0</td>\n",
              "      <td>11.0</td>\n",
              "      <td>12.0</td>\n",
              "      <td>0.0</td>\n",
              "      <td>0.0</td>\n",
              "      <td>20.408163</td>\n",
              "      <td>127.451902</td>\n",
              "    </tr>\n",
              "    <tr>\n",
              "      <th>4</th>\n",
              "      <td>2012</td>\n",
              "      <td>1</td>\n",
              "      <td>20</td>\n",
              "      <td>28</td>\n",
              "      <td>140.0</td>\n",
              "      <td>40.0</td>\n",
              "      <td>77.0</td>\n",
              "      <td>101.0</td>\n",
              "      <td>63.0</td>\n",
              "      <td>96.0</td>\n",
              "      <td>164.0</td>\n",
              "      <td>160.0</td>\n",
              "      <td>54.0</td>\n",
              "      <td>78.0</td>\n",
              "      <td>11.4</td>\n",
              "      <td>1.0</td>\n",
              "      <td>0.9</td>\n",
              "      <td>25.0</td>\n",
              "      <td>14.0</td>\n",
              "      <td>24.0</td>\n",
              "      <td>0.0</td>\n",
              "      <td>0.0</td>\n",
              "      <td>20.408163</td>\n",
              "      <td>79.824647</td>\n",
              "    </tr>\n",
              "    <tr>\n",
              "      <th>...</th>\n",
              "      <td>...</td>\n",
              "      <td>...</td>\n",
              "      <td>...</td>\n",
              "      <td>...</td>\n",
              "      <td>...</td>\n",
              "      <td>...</td>\n",
              "      <td>...</td>\n",
              "      <td>...</td>\n",
              "      <td>...</td>\n",
              "      <td>...</td>\n",
              "      <td>...</td>\n",
              "      <td>...</td>\n",
              "      <td>...</td>\n",
              "      <td>...</td>\n",
              "      <td>...</td>\n",
              "      <td>...</td>\n",
              "      <td>...</td>\n",
              "      <td>...</td>\n",
              "      <td>...</td>\n",
              "      <td>...</td>\n",
              "      <td>...</td>\n",
              "      <td>...</td>\n",
              "      <td>...</td>\n",
              "      <td>...</td>\n",
              "    </tr>\n",
              "    <tr>\n",
              "      <th>7999965</th>\n",
              "      <td>2019</td>\n",
              "      <td>0</td>\n",
              "      <td>45</td>\n",
              "      <td>41</td>\n",
              "      <td>175.0</td>\n",
              "      <td>75.0</td>\n",
              "      <td>89.0</td>\n",
              "      <td>124.0</td>\n",
              "      <td>80.0</td>\n",
              "      <td>91.0</td>\n",
              "      <td>180.0</td>\n",
              "      <td>61.0</td>\n",
              "      <td>66.0</td>\n",
              "      <td>102.0</td>\n",
              "      <td>15.9</td>\n",
              "      <td>1.0</td>\n",
              "      <td>1.3</td>\n",
              "      <td>23.0</td>\n",
              "      <td>20.0</td>\n",
              "      <td>31.0</td>\n",
              "      <td>0.0</td>\n",
              "      <td>1.0</td>\n",
              "      <td>24.489796</td>\n",
              "      <td>59.696007</td>\n",
              "    </tr>\n",
              "    <tr>\n",
              "      <th>7999967</th>\n",
              "      <td>2019</td>\n",
              "      <td>0</td>\n",
              "      <td>45</td>\n",
              "      <td>26</td>\n",
              "      <td>175.0</td>\n",
              "      <td>80.0</td>\n",
              "      <td>87.0</td>\n",
              "      <td>118.0</td>\n",
              "      <td>62.0</td>\n",
              "      <td>89.0</td>\n",
              "      <td>183.0</td>\n",
              "      <td>86.0</td>\n",
              "      <td>53.0</td>\n",
              "      <td>112.0</td>\n",
              "      <td>16.4</td>\n",
              "      <td>1.0</td>\n",
              "      <td>0.9</td>\n",
              "      <td>17.0</td>\n",
              "      <td>16.0</td>\n",
              "      <td>21.0</td>\n",
              "      <td>0.0</td>\n",
              "      <td>1.0</td>\n",
              "      <td>26.122449</td>\n",
              "      <td>91.251508</td>\n",
              "    </tr>\n",
              "    <tr>\n",
              "      <th>7999976</th>\n",
              "      <td>2019</td>\n",
              "      <td>1</td>\n",
              "      <td>60</td>\n",
              "      <td>11</td>\n",
              "      <td>160.0</td>\n",
              "      <td>55.0</td>\n",
              "      <td>76.0</td>\n",
              "      <td>128.0</td>\n",
              "      <td>80.0</td>\n",
              "      <td>119.0</td>\n",
              "      <td>239.0</td>\n",
              "      <td>85.0</td>\n",
              "      <td>68.0</td>\n",
              "      <td>154.0</td>\n",
              "      <td>13.5</td>\n",
              "      <td>1.0</td>\n",
              "      <td>0.7</td>\n",
              "      <td>29.0</td>\n",
              "      <td>24.0</td>\n",
              "      <td>14.0</td>\n",
              "      <td>0.0</td>\n",
              "      <td>1.0</td>\n",
              "      <td>21.484375</td>\n",
              "      <td>85.356011</td>\n",
              "    </tr>\n",
              "    <tr>\n",
              "      <th>7999985</th>\n",
              "      <td>2019</td>\n",
              "      <td>0</td>\n",
              "      <td>60</td>\n",
              "      <td>29</td>\n",
              "      <td>165.0</td>\n",
              "      <td>75.0</td>\n",
              "      <td>90.0</td>\n",
              "      <td>111.0</td>\n",
              "      <td>73.0</td>\n",
              "      <td>109.0</td>\n",
              "      <td>206.0</td>\n",
              "      <td>124.0</td>\n",
              "      <td>65.0</td>\n",
              "      <td>116.0</td>\n",
              "      <td>15.1</td>\n",
              "      <td>1.0</td>\n",
              "      <td>1.3</td>\n",
              "      <td>16.0</td>\n",
              "      <td>21.0</td>\n",
              "      <td>20.0</td>\n",
              "      <td>0.0</td>\n",
              "      <td>1.0</td>\n",
              "      <td>27.548209</td>\n",
              "      <td>56.309636</td>\n",
              "    </tr>\n",
              "    <tr>\n",
              "      <th>7999996</th>\n",
              "      <td>2019</td>\n",
              "      <td>0</td>\n",
              "      <td>40</td>\n",
              "      <td>11</td>\n",
              "      <td>170.0</td>\n",
              "      <td>55.0</td>\n",
              "      <td>75.0</td>\n",
              "      <td>99.0</td>\n",
              "      <td>61.0</td>\n",
              "      <td>130.0</td>\n",
              "      <td>157.0</td>\n",
              "      <td>50.0</td>\n",
              "      <td>54.0</td>\n",
              "      <td>93.0</td>\n",
              "      <td>15.4</td>\n",
              "      <td>2.0</td>\n",
              "      <td>0.9</td>\n",
              "      <td>16.0</td>\n",
              "      <td>15.0</td>\n",
              "      <td>27.0</td>\n",
              "      <td>0.0</td>\n",
              "      <td>1.0</td>\n",
              "      <td>19.031142</td>\n",
              "      <td>93.459621</td>\n",
              "    </tr>\n",
              "  </tbody>\n",
              "</table>\n",
              "<p>5363799 rows × 24 columns</p>\n",
              "</div>"
            ],
            "text/plain": [
              "         HCHK_YEAR  SEX  AGE_GROUP  ...  DRK_YN        BMI        eGFR\n",
              "0             2012    1         85  ...     0.0  20.000000   42.696744\n",
              "1             2012    1         85  ...     0.0  14.268728   79.529229\n",
              "2             2012    0         20  ...     0.0  20.408163  211.991074\n",
              "3             2012    1         20  ...     0.0  20.408163  127.451902\n",
              "4             2012    1         20  ...     0.0  20.408163   79.824647\n",
              "...            ...  ...        ...  ...     ...        ...         ...\n",
              "7999965       2019    0         45  ...     1.0  24.489796   59.696007\n",
              "7999967       2019    0         45  ...     1.0  26.122449   91.251508\n",
              "7999976       2019    1         60  ...     1.0  21.484375   85.356011\n",
              "7999985       2019    0         60  ...     1.0  27.548209   56.309636\n",
              "7999996       2019    0         40  ...     1.0  19.031142   93.459621\n",
              "\n",
              "[5363799 rows x 24 columns]"
            ]
          },
          "metadata": {},
          "execution_count": 18
        }
      ]
    },
    {
      "cell_type": "code",
      "metadata": {
        "colab": {
          "base_uri": "https://localhost:8080/"
        },
        "id": "RF0tKmGL_T6d",
        "outputId": "3007505c-d6d1-45b3-c09d-a3872768f33c"
      },
      "source": [
        "#전체 결측치 확인\n",
        "temp.isna().sum().sum()"
      ],
      "execution_count": null,
      "outputs": [
        {
          "output_type": "execute_result",
          "data": {
            "text/plain": [
              "0"
            ]
          },
          "metadata": {},
          "execution_count": 22
        }
      ]
    },
    {
      "cell_type": "markdown",
      "metadata": {
        "id": "nBAbPKW76j82"
      },
      "source": [
        "- (사용X) 참고수치"
      ]
    },
    {
      "cell_type": "code",
      "metadata": {
        "colab": {
          "base_uri": "https://localhost:8080/",
          "height": 444
        },
        "id": "k92onPa656c7",
        "outputId": "8e79c4ef-396a-46d8-91cf-f44ec2861bcd"
      },
      "source": [
        "#(참고수치)결측치 전부 제거 5339282 rows × 30 columns\n",
        "# temp = df.copy()\n",
        "# temp.dropna()"
      ],
      "execution_count": null,
      "outputs": [
        {
          "output_type": "execute_result",
          "data": {
            "text/html": [
              "<div>\n",
              "<style scoped>\n",
              "    .dataframe tbody tr th:only-of-type {\n",
              "        vertical-align: middle;\n",
              "    }\n",
              "\n",
              "    .dataframe tbody tr th {\n",
              "        vertical-align: top;\n",
              "    }\n",
              "\n",
              "    .dataframe thead th {\n",
              "        text-align: right;\n",
              "    }\n",
              "</style>\n",
              "<table border=\"1\" class=\"dataframe\">\n",
              "  <thead>\n",
              "    <tr style=\"text-align: right;\">\n",
              "      <th></th>\n",
              "      <th>HCHK_YEAR</th>\n",
              "      <th>SEX</th>\n",
              "      <th>AGE_GROUP</th>\n",
              "      <th>SIDO</th>\n",
              "      <th>HEIGHT</th>\n",
              "      <th>WEIGHT</th>\n",
              "      <th>WAIST</th>\n",
              "      <th>BP_HIGH</th>\n",
              "      <th>BP_LWST</th>\n",
              "      <th>BLDS</th>\n",
              "      <th>TOT_CHOLE</th>\n",
              "      <th>TRIGLYCERIDE</th>\n",
              "      <th>HDL_CHOLE</th>\n",
              "      <th>LDL_CHOLE</th>\n",
              "      <th>HMG</th>\n",
              "      <th>OLIG_PROTE_CD</th>\n",
              "      <th>CREATININE</th>\n",
              "      <th>SGOT_AST</th>\n",
              "      <th>SGPT_ALT</th>\n",
              "      <th>GAMMA_GTP</th>\n",
              "      <th>SMK_STAT_TYPE_CD</th>\n",
              "      <th>DRK_YN</th>\n",
              "      <th>BMI</th>\n",
              "      <th>eGFR</th>\n",
              "      <th>diabetes2</th>\n",
              "      <th>anemia2</th>\n",
              "      <th>liver2</th>\n",
              "      <th>hypertension2</th>\n",
              "      <th>eGFR2</th>\n",
              "      <th>BMI2</th>\n",
              "    </tr>\n",
              "  </thead>\n",
              "  <tbody>\n",
              "    <tr>\n",
              "      <th>1</th>\n",
              "      <td>2012</td>\n",
              "      <td>2</td>\n",
              "      <td>85</td>\n",
              "      <td>45</td>\n",
              "      <td>145.0</td>\n",
              "      <td>30.0</td>\n",
              "      <td>68.0</td>\n",
              "      <td>110.0</td>\n",
              "      <td>70.0</td>\n",
              "      <td>70.0</td>\n",
              "      <td>151.0</td>\n",
              "      <td>102.0</td>\n",
              "      <td>41.0</td>\n",
              "      <td>89.0</td>\n",
              "      <td>9.1</td>\n",
              "      <td>1.0</td>\n",
              "      <td>0.7</td>\n",
              "      <td>28.0</td>\n",
              "      <td>16.0</td>\n",
              "      <td>11.0</td>\n",
              "      <td>1.0</td>\n",
              "      <td>0.0</td>\n",
              "      <td>14.268728</td>\n",
              "      <td>79.529229</td>\n",
              "      <td>0</td>\n",
              "      <td>1</td>\n",
              "      <td>0</td>\n",
              "      <td>0</td>\n",
              "      <td>1</td>\n",
              "      <td>1</td>\n",
              "    </tr>\n",
              "    <tr>\n",
              "      <th>2</th>\n",
              "      <td>2012</td>\n",
              "      <td>1</td>\n",
              "      <td>20</td>\n",
              "      <td>26</td>\n",
              "      <td>140.0</td>\n",
              "      <td>40.0</td>\n",
              "      <td>68.0</td>\n",
              "      <td>100.0</td>\n",
              "      <td>70.0</td>\n",
              "      <td>77.0</td>\n",
              "      <td>171.0</td>\n",
              "      <td>96.0</td>\n",
              "      <td>28.0</td>\n",
              "      <td>123.0</td>\n",
              "      <td>13.0</td>\n",
              "      <td>1.0</td>\n",
              "      <td>0.5</td>\n",
              "      <td>33.0</td>\n",
              "      <td>17.0</td>\n",
              "      <td>25.0</td>\n",
              "      <td>1.0</td>\n",
              "      <td>0.0</td>\n",
              "      <td>20.408163</td>\n",
              "      <td>211.991074</td>\n",
              "      <td>0</td>\n",
              "      <td>0</td>\n",
              "      <td>0</td>\n",
              "      <td>0</td>\n",
              "      <td>1</td>\n",
              "      <td>0</td>\n",
              "    </tr>\n",
              "    <tr>\n",
              "      <th>3</th>\n",
              "      <td>2012</td>\n",
              "      <td>2</td>\n",
              "      <td>20</td>\n",
              "      <td>11</td>\n",
              "      <td>140.0</td>\n",
              "      <td>40.0</td>\n",
              "      <td>66.0</td>\n",
              "      <td>106.0</td>\n",
              "      <td>62.0</td>\n",
              "      <td>87.0</td>\n",
              "      <td>178.0</td>\n",
              "      <td>59.0</td>\n",
              "      <td>57.0</td>\n",
              "      <td>109.0</td>\n",
              "      <td>13.0</td>\n",
              "      <td>1.0</td>\n",
              "      <td>0.6</td>\n",
              "      <td>11.0</td>\n",
              "      <td>11.0</td>\n",
              "      <td>12.0</td>\n",
              "      <td>1.0</td>\n",
              "      <td>0.0</td>\n",
              "      <td>20.408163</td>\n",
              "      <td>127.451902</td>\n",
              "      <td>0</td>\n",
              "      <td>0</td>\n",
              "      <td>0</td>\n",
              "      <td>0</td>\n",
              "      <td>1</td>\n",
              "      <td>0</td>\n",
              "    </tr>\n",
              "    <tr>\n",
              "      <th>4</th>\n",
              "      <td>2012</td>\n",
              "      <td>2</td>\n",
              "      <td>20</td>\n",
              "      <td>28</td>\n",
              "      <td>140.0</td>\n",
              "      <td>40.0</td>\n",
              "      <td>77.0</td>\n",
              "      <td>101.0</td>\n",
              "      <td>63.0</td>\n",
              "      <td>96.0</td>\n",
              "      <td>164.0</td>\n",
              "      <td>160.0</td>\n",
              "      <td>54.0</td>\n",
              "      <td>78.0</td>\n",
              "      <td>11.4</td>\n",
              "      <td>1.0</td>\n",
              "      <td>0.9</td>\n",
              "      <td>25.0</td>\n",
              "      <td>14.0</td>\n",
              "      <td>24.0</td>\n",
              "      <td>1.0</td>\n",
              "      <td>0.0</td>\n",
              "      <td>20.408163</td>\n",
              "      <td>79.824647</td>\n",
              "      <td>0</td>\n",
              "      <td>1</td>\n",
              "      <td>0</td>\n",
              "      <td>0</td>\n",
              "      <td>1</td>\n",
              "      <td>0</td>\n",
              "    </tr>\n",
              "    <tr>\n",
              "      <th>5</th>\n",
              "      <td>2012</td>\n",
              "      <td>2</td>\n",
              "      <td>20</td>\n",
              "      <td>41</td>\n",
              "      <td>140.0</td>\n",
              "      <td>45.0</td>\n",
              "      <td>69.0</td>\n",
              "      <td>100.0</td>\n",
              "      <td>61.0</td>\n",
              "      <td>93.0</td>\n",
              "      <td>164.0</td>\n",
              "      <td>76.0</td>\n",
              "      <td>58.0</td>\n",
              "      <td>90.0</td>\n",
              "      <td>13.0</td>\n",
              "      <td>1.0</td>\n",
              "      <td>1.0</td>\n",
              "      <td>23.0</td>\n",
              "      <td>21.0</td>\n",
              "      <td>17.0</td>\n",
              "      <td>1.0</td>\n",
              "      <td>0.0</td>\n",
              "      <td>22.959184</td>\n",
              "      <td>70.685912</td>\n",
              "      <td>0</td>\n",
              "      <td>0</td>\n",
              "      <td>0</td>\n",
              "      <td>0</td>\n",
              "      <td>1</td>\n",
              "      <td>0</td>\n",
              "    </tr>\n",
              "    <tr>\n",
              "      <th>...</th>\n",
              "      <td>...</td>\n",
              "      <td>...</td>\n",
              "      <td>...</td>\n",
              "      <td>...</td>\n",
              "      <td>...</td>\n",
              "      <td>...</td>\n",
              "      <td>...</td>\n",
              "      <td>...</td>\n",
              "      <td>...</td>\n",
              "      <td>...</td>\n",
              "      <td>...</td>\n",
              "      <td>...</td>\n",
              "      <td>...</td>\n",
              "      <td>...</td>\n",
              "      <td>...</td>\n",
              "      <td>...</td>\n",
              "      <td>...</td>\n",
              "      <td>...</td>\n",
              "      <td>...</td>\n",
              "      <td>...</td>\n",
              "      <td>...</td>\n",
              "      <td>...</td>\n",
              "      <td>...</td>\n",
              "      <td>...</td>\n",
              "      <td>...</td>\n",
              "      <td>...</td>\n",
              "      <td>...</td>\n",
              "      <td>...</td>\n",
              "      <td>...</td>\n",
              "      <td>...</td>\n",
              "    </tr>\n",
              "    <tr>\n",
              "      <th>7999961</th>\n",
              "      <td>2019</td>\n",
              "      <td>1</td>\n",
              "      <td>60</td>\n",
              "      <td>41</td>\n",
              "      <td>160.0</td>\n",
              "      <td>75.0</td>\n",
              "      <td>93.0</td>\n",
              "      <td>130.0</td>\n",
              "      <td>80.0</td>\n",
              "      <td>109.0</td>\n",
              "      <td>191.0</td>\n",
              "      <td>172.0</td>\n",
              "      <td>58.0</td>\n",
              "      <td>99.0</td>\n",
              "      <td>17.1</td>\n",
              "      <td>1.0</td>\n",
              "      <td>0.7</td>\n",
              "      <td>30.0</td>\n",
              "      <td>34.0</td>\n",
              "      <td>86.0</td>\n",
              "      <td>2.0</td>\n",
              "      <td>1.0</td>\n",
              "      <td>29.296875</td>\n",
              "      <td>115.035056</td>\n",
              "      <td>0</td>\n",
              "      <td>1</td>\n",
              "      <td>0</td>\n",
              "      <td>1</td>\n",
              "      <td>0</td>\n",
              "      <td>3</td>\n",
              "    </tr>\n",
              "    <tr>\n",
              "      <th>7999967</th>\n",
              "      <td>2019</td>\n",
              "      <td>1</td>\n",
              "      <td>45</td>\n",
              "      <td>26</td>\n",
              "      <td>175.0</td>\n",
              "      <td>80.0</td>\n",
              "      <td>87.0</td>\n",
              "      <td>118.0</td>\n",
              "      <td>62.0</td>\n",
              "      <td>89.0</td>\n",
              "      <td>183.0</td>\n",
              "      <td>86.0</td>\n",
              "      <td>53.0</td>\n",
              "      <td>112.0</td>\n",
              "      <td>16.4</td>\n",
              "      <td>1.0</td>\n",
              "      <td>0.9</td>\n",
              "      <td>17.0</td>\n",
              "      <td>16.0</td>\n",
              "      <td>21.0</td>\n",
              "      <td>2.0</td>\n",
              "      <td>1.0</td>\n",
              "      <td>26.122449</td>\n",
              "      <td>91.251508</td>\n",
              "      <td>0</td>\n",
              "      <td>0</td>\n",
              "      <td>0</td>\n",
              "      <td>0</td>\n",
              "      <td>0</td>\n",
              "      <td>3</td>\n",
              "    </tr>\n",
              "    <tr>\n",
              "      <th>7999976</th>\n",
              "      <td>2019</td>\n",
              "      <td>2</td>\n",
              "      <td>60</td>\n",
              "      <td>11</td>\n",
              "      <td>160.0</td>\n",
              "      <td>55.0</td>\n",
              "      <td>76.0</td>\n",
              "      <td>128.0</td>\n",
              "      <td>80.0</td>\n",
              "      <td>119.0</td>\n",
              "      <td>239.0</td>\n",
              "      <td>85.0</td>\n",
              "      <td>68.0</td>\n",
              "      <td>154.0</td>\n",
              "      <td>13.5</td>\n",
              "      <td>1.0</td>\n",
              "      <td>0.7</td>\n",
              "      <td>29.0</td>\n",
              "      <td>24.0</td>\n",
              "      <td>14.0</td>\n",
              "      <td>1.0</td>\n",
              "      <td>1.0</td>\n",
              "      <td>21.484375</td>\n",
              "      <td>85.356011</td>\n",
              "      <td>0</td>\n",
              "      <td>0</td>\n",
              "      <td>0</td>\n",
              "      <td>1</td>\n",
              "      <td>1</td>\n",
              "      <td>0</td>\n",
              "    </tr>\n",
              "    <tr>\n",
              "      <th>7999985</th>\n",
              "      <td>2019</td>\n",
              "      <td>1</td>\n",
              "      <td>60</td>\n",
              "      <td>29</td>\n",
              "      <td>165.0</td>\n",
              "      <td>75.0</td>\n",
              "      <td>90.0</td>\n",
              "      <td>111.0</td>\n",
              "      <td>73.0</td>\n",
              "      <td>109.0</td>\n",
              "      <td>206.0</td>\n",
              "      <td>124.0</td>\n",
              "      <td>65.0</td>\n",
              "      <td>116.0</td>\n",
              "      <td>15.1</td>\n",
              "      <td>1.0</td>\n",
              "      <td>1.3</td>\n",
              "      <td>16.0</td>\n",
              "      <td>21.0</td>\n",
              "      <td>20.0</td>\n",
              "      <td>2.0</td>\n",
              "      <td>1.0</td>\n",
              "      <td>27.548209</td>\n",
              "      <td>56.309636</td>\n",
              "      <td>0</td>\n",
              "      <td>0</td>\n",
              "      <td>0</td>\n",
              "      <td>0</td>\n",
              "      <td>1</td>\n",
              "      <td>3</td>\n",
              "    </tr>\n",
              "    <tr>\n",
              "      <th>7999996</th>\n",
              "      <td>2019</td>\n",
              "      <td>1</td>\n",
              "      <td>40</td>\n",
              "      <td>11</td>\n",
              "      <td>170.0</td>\n",
              "      <td>55.0</td>\n",
              "      <td>75.0</td>\n",
              "      <td>99.0</td>\n",
              "      <td>61.0</td>\n",
              "      <td>130.0</td>\n",
              "      <td>157.0</td>\n",
              "      <td>50.0</td>\n",
              "      <td>54.0</td>\n",
              "      <td>93.0</td>\n",
              "      <td>15.4</td>\n",
              "      <td>2.0</td>\n",
              "      <td>0.9</td>\n",
              "      <td>16.0</td>\n",
              "      <td>15.0</td>\n",
              "      <td>27.0</td>\n",
              "      <td>2.0</td>\n",
              "      <td>1.0</td>\n",
              "      <td>19.031142</td>\n",
              "      <td>93.459621</td>\n",
              "      <td>1</td>\n",
              "      <td>0</td>\n",
              "      <td>0</td>\n",
              "      <td>0</td>\n",
              "      <td>0</td>\n",
              "      <td>0</td>\n",
              "    </tr>\n",
              "  </tbody>\n",
              "</table>\n",
              "<p>5339282 rows × 30 columns</p>\n",
              "</div>"
            ],
            "text/plain": [
              "         HCHK_YEAR  SEX  AGE_GROUP  SIDO  ...  liver2  hypertension2  eGFR2  BMI2\n",
              "1             2012    2         85    45  ...       0              0      1     1\n",
              "2             2012    1         20    26  ...       0              0      1     0\n",
              "3             2012    2         20    11  ...       0              0      1     0\n",
              "4             2012    2         20    28  ...       0              0      1     0\n",
              "5             2012    2         20    41  ...       0              0      1     0\n",
              "...            ...  ...        ...   ...  ...     ...            ...    ...   ...\n",
              "7999961       2019    1         60    41  ...       0              1      0     3\n",
              "7999967       2019    1         45    26  ...       0              0      0     3\n",
              "7999976       2019    2         60    11  ...       0              1      1     0\n",
              "7999985       2019    1         60    29  ...       0              0      1     3\n",
              "7999996       2019    1         40    11  ...       0              0      0     0\n",
              "\n",
              "[5339282 rows x 30 columns]"
            ]
          },
          "metadata": {},
          "execution_count": 70
        }
      ]
    },
    {
      "cell_type": "code",
      "metadata": {
        "colab": {
          "base_uri": "https://localhost:8080/"
        },
        "id": "6vI_pbet97oz",
        "outputId": "b4ce9e12-ac10-429f-a37c-68c59bf621c9"
      },
      "source": [
        "5363799-5339282 "
      ],
      "execution_count": null,
      "outputs": [
        {
          "output_type": "execute_result",
          "data": {
            "text/plain": [
              "24517"
            ]
          },
          "metadata": {},
          "execution_count": 19
        }
      ]
    },
    {
      "cell_type": "code",
      "metadata": {
        "id": "i6vzD3IrANnc"
      },
      "source": [
        "#df_na del로 저장\n",
        "temp.to_csv('/content/drive/MyDrive/test/df_nadel.csv', encoding='euc-kr', index=False)"
      ],
      "execution_count": null,
      "outputs": []
    },
    {
      "cell_type": "markdown",
      "metadata": {
        "id": "0vBlQaIVpzaf"
      },
      "source": [
        "#데이터 분리, 전처리"
      ]
    },
    {
      "cell_type": "code",
      "metadata": {
        "id": "OGj4jIuVI3Vu"
      },
      "source": [
        "##########################################################################\n",
        "#라이브러리 호출\n",
        "import numpy as np\n",
        "import pandas as pd\n",
        "import seaborn as sns\n",
        "import matplotlib.pyplot as plt\n",
        "import plotly.express as px\n",
        "import plotly.graph_objects as go\n",
        "#warning\n",
        "import warnings\n",
        "warnings.filterwarnings('ignore')"
      ],
      "execution_count": null,
      "outputs": []
    },
    {
      "cell_type": "code",
      "metadata": {
        "colab": {
          "base_uri": "https://localhost:8080/",
          "height": 181
        },
        "id": "dKRbI4sULzHV",
        "outputId": "ee8d9c52-8494-488a-c82f-75833b598f2d"
      },
      "source": [
        "#######################################################################################################df_na del 이어서 불러오기(egfr 성별 수정값, 판별 컬럼 삭제)\n",
        "# df=pd.read_csv('/content/drive/MyDrive/test/df_nadel.csv', encoding='euc-kr', dtype = 'float')\n",
        "# df.head(3)\n",
        "\n",
        "#target합친 df불러오기(후반)\n",
        "df=pd.read_csv('/content/drive/MyDrive/test/merge_df_target.csv', encoding='euc-kr')\n",
        "df.head(3)"
      ],
      "execution_count": null,
      "outputs": [
        {
          "output_type": "execute_result",
          "data": {
            "text/html": [
              "<div>\n",
              "<style scoped>\n",
              "    .dataframe tbody tr th:only-of-type {\n",
              "        vertical-align: middle;\n",
              "    }\n",
              "\n",
              "    .dataframe tbody tr th {\n",
              "        vertical-align: top;\n",
              "    }\n",
              "\n",
              "    .dataframe thead th {\n",
              "        text-align: right;\n",
              "    }\n",
              "</style>\n",
              "<table border=\"1\" class=\"dataframe\">\n",
              "  <thead>\n",
              "    <tr style=\"text-align: right;\">\n",
              "      <th></th>\n",
              "      <th>HCHK_YEAR</th>\n",
              "      <th>SEX</th>\n",
              "      <th>AGE_GROUP</th>\n",
              "      <th>SIDO</th>\n",
              "      <th>HEIGHT</th>\n",
              "      <th>WEIGHT</th>\n",
              "      <th>WAIST</th>\n",
              "      <th>BP_HIGH</th>\n",
              "      <th>BP_LWST</th>\n",
              "      <th>BLDS</th>\n",
              "      <th>TOT_CHOLE</th>\n",
              "      <th>TRIGLYCERIDE</th>\n",
              "      <th>HDL_CHOLE</th>\n",
              "      <th>LDL_CHOLE</th>\n",
              "      <th>HMG</th>\n",
              "      <th>OLIG_PROTE_CD</th>\n",
              "      <th>CREATININE</th>\n",
              "      <th>SGOT_AST</th>\n",
              "      <th>SGPT_ALT</th>\n",
              "      <th>GAMMA_GTP</th>\n",
              "      <th>SMK_STAT_TYPE_CD</th>\n",
              "      <th>DRK_YN</th>\n",
              "      <th>BMI</th>\n",
              "      <th>eGFR</th>\n",
              "      <th>t_diabetes</th>\n",
              "      <th>t_anemia</th>\n",
              "      <th>t_liver</th>\n",
              "      <th>t_egfr</th>\n",
              "      <th>t_abdominal</th>\n",
              "      <th>t_bmi</th>\n",
              "      <th>t_hyperlipidemia</th>\n",
              "      <th>t_hypertension</th>\n",
              "    </tr>\n",
              "  </thead>\n",
              "  <tbody>\n",
              "    <tr>\n",
              "      <th>0</th>\n",
              "      <td>2012.0</td>\n",
              "      <td>1.0</td>\n",
              "      <td>85.0</td>\n",
              "      <td>46.0</td>\n",
              "      <td>150.0</td>\n",
              "      <td>45.0</td>\n",
              "      <td>72.0</td>\n",
              "      <td>121.0</td>\n",
              "      <td>76.0</td>\n",
              "      <td>132.0</td>\n",
              "      <td>198.0</td>\n",
              "      <td>64.0</td>\n",
              "      <td>37.0</td>\n",
              "      <td>149.0</td>\n",
              "      <td>10.4</td>\n",
              "      <td>1.0</td>\n",
              "      <td>1.2</td>\n",
              "      <td>25.0</td>\n",
              "      <td>14.0</td>\n",
              "      <td>11.0</td>\n",
              "      <td>0.0</td>\n",
              "      <td>0.0</td>\n",
              "      <td>20.000000</td>\n",
              "      <td>42.696744</td>\n",
              "      <td>의심</td>\n",
              "      <td>의심</td>\n",
              "      <td>정상</td>\n",
              "      <td>의심</td>\n",
              "      <td>정상</td>\n",
              "      <td>정상</td>\n",
              "      <td>경계위험</td>\n",
              "      <td>고혈압 전 단계</td>\n",
              "    </tr>\n",
              "    <tr>\n",
              "      <th>1</th>\n",
              "      <td>2012.0</td>\n",
              "      <td>1.0</td>\n",
              "      <td>85.0</td>\n",
              "      <td>45.0</td>\n",
              "      <td>145.0</td>\n",
              "      <td>30.0</td>\n",
              "      <td>68.0</td>\n",
              "      <td>110.0</td>\n",
              "      <td>70.0</td>\n",
              "      <td>70.0</td>\n",
              "      <td>151.0</td>\n",
              "      <td>102.0</td>\n",
              "      <td>41.0</td>\n",
              "      <td>89.0</td>\n",
              "      <td>9.1</td>\n",
              "      <td>1.0</td>\n",
              "      <td>0.7</td>\n",
              "      <td>28.0</td>\n",
              "      <td>16.0</td>\n",
              "      <td>11.0</td>\n",
              "      <td>0.0</td>\n",
              "      <td>0.0</td>\n",
              "      <td>14.268728</td>\n",
              "      <td>79.529229</td>\n",
              "      <td>정상</td>\n",
              "      <td>의심</td>\n",
              "      <td>정상</td>\n",
              "      <td>의심</td>\n",
              "      <td>정상</td>\n",
              "      <td>저체중</td>\n",
              "      <td>경계위험</td>\n",
              "      <td>정상</td>\n",
              "    </tr>\n",
              "    <tr>\n",
              "      <th>2</th>\n",
              "      <td>2012.0</td>\n",
              "      <td>0.0</td>\n",
              "      <td>20.0</td>\n",
              "      <td>26.0</td>\n",
              "      <td>140.0</td>\n",
              "      <td>40.0</td>\n",
              "      <td>68.0</td>\n",
              "      <td>100.0</td>\n",
              "      <td>70.0</td>\n",
              "      <td>77.0</td>\n",
              "      <td>171.0</td>\n",
              "      <td>96.0</td>\n",
              "      <td>28.0</td>\n",
              "      <td>123.0</td>\n",
              "      <td>13.0</td>\n",
              "      <td>1.0</td>\n",
              "      <td>0.5</td>\n",
              "      <td>33.0</td>\n",
              "      <td>17.0</td>\n",
              "      <td>25.0</td>\n",
              "      <td>0.0</td>\n",
              "      <td>0.0</td>\n",
              "      <td>20.408163</td>\n",
              "      <td>211.991074</td>\n",
              "      <td>정상</td>\n",
              "      <td>정상</td>\n",
              "      <td>정상</td>\n",
              "      <td>의심</td>\n",
              "      <td>정상</td>\n",
              "      <td>정상</td>\n",
              "      <td>경계위험</td>\n",
              "      <td>정상</td>\n",
              "    </tr>\n",
              "  </tbody>\n",
              "</table>\n",
              "</div>"
            ],
            "text/plain": [
              "   HCHK_YEAR  SEX  AGE_GROUP  ...  t_bmi  t_hyperlipidemia  t_hypertension\n",
              "0     2012.0  1.0       85.0  ...     정상              경계위험        고혈압 전 단계\n",
              "1     2012.0  1.0       85.0  ...    저체중              경계위험              정상\n",
              "2     2012.0  0.0       20.0  ...     정상              경계위험              정상\n",
              "\n",
              "[3 rows x 32 columns]"
            ]
          },
          "metadata": {},
          "execution_count": 4
        }
      ]
    },
    {
      "cell_type": "code",
      "metadata": {
        "id": "_2HMZX_i-26l"
      },
      "source": [
        "df.info()"
      ],
      "execution_count": null,
      "outputs": []
    },
    {
      "cell_type": "code",
      "metadata": {
        "id": "-hh3wxV2GypV"
      },
      "source": [
        "df.columns"
      ],
      "execution_count": null,
      "outputs": []
    },
    {
      "cell_type": "code",
      "metadata": {
        "colab": {
          "base_uri": "https://localhost:8080/"
        },
        "id": "s4sRR8ZvBNgC",
        "outputId": "92adc656-0832-4256-c1ca-4ba5679a2e84"
      },
      "source": [
        "#범주형수치/ 수치형데이터로 분리(사용할 컬럼만)\n",
        "df1 = df[['SEX', 'AGE_GROUP', 'HEIGHT', 'WEIGHT', 'SMK_STAT_TYPE_CD', 'DRK_YN']]\n",
        "#.astype('category')원핫인코딩하면은 입력할때도 60개로 늘어난 컬럼갯수 입력해야함 #6개 입력 데이터\n",
        "\n",
        "df2 = df[['WAIST','BP_HIGH', 'BP_LWST', 'BLDS', 'TOT_CHOLE', 'TRIGLYCERIDE', 'HDL_CHOLE',\n",
        "       'LDL_CHOLE', 'HMG', 'CREATININE', 'SGOT_AST','SGPT_ALT', 'GAMMA_GTP', 'BMI', 'eGFR']]#15개 출력 데이터\n",
        "\n",
        "Col_Lst = list(df2.columns) #컬럼명 받기\n",
        "print(len(Col_Lst),'\\n',Col_Lst)"
      ],
      "execution_count": null,
      "outputs": [
        {
          "output_type": "stream",
          "name": "stdout",
          "text": [
            "15 \n",
            " ['WAIST', 'BP_HIGH', 'BP_LWST', 'BLDS', 'TOT_CHOLE', 'TRIGLYCERIDE', 'HDL_CHOLE', 'LDL_CHOLE', 'HMG', 'CREATININE', 'SGOT_AST', 'SGPT_ALT', 'GAMMA_GTP', 'BMI', 'eGFR']\n"
          ]
        }
      ]
    },
    {
      "cell_type": "code",
      "metadata": {
        "id": "R-aG8Gi7NxF8"
      },
      "source": [
        "#df.iloc[:,1:7]\n",
        "#년도,시도,판별뺌"
      ],
      "execution_count": null,
      "outputs": []
    },
    {
      "cell_type": "code",
      "metadata": {
        "colab": {
          "base_uri": "https://localhost:8080/"
        },
        "id": "m5Qc_QQs1vb0",
        "outputId": "e98bb7df-378e-4b85-ba18-5d3b656b8eb3"
      },
      "source": [
        "print(df1.head(3),'\\n',df1.tail(3))"
      ],
      "execution_count": null,
      "outputs": [
        {
          "output_type": "stream",
          "name": "stdout",
          "text": [
            "   SEX  AGE_GROUP  HEIGHT  WEIGHT  SMK_STAT_TYPE_CD  DRK_YN\n",
            "0  1.0       85.0   150.0    45.0               0.0     0.0\n",
            "1  1.0       85.0   145.0    30.0               0.0     0.0\n",
            "2  0.0       20.0   140.0    40.0               0.0     0.0 \n",
            "          SEX  AGE_GROUP  HEIGHT  WEIGHT  SMK_STAT_TYPE_CD  DRK_YN\n",
            "5363796  1.0       60.0   160.0    55.0               0.0     1.0\n",
            "5363797  0.0       60.0   165.0    75.0               0.0     1.0\n",
            "5363798  0.0       40.0   170.0    55.0               0.0     1.0\n"
          ]
        }
      ]
    },
    {
      "cell_type": "code",
      "metadata": {
        "colab": {
          "base_uri": "https://localhost:8080/",
          "height": 300
        },
        "id": "eVz0bAPxVpGy",
        "outputId": "3772e23c-68ad-476a-d71d-f16a4a6db5a2"
      },
      "source": [
        "##############################이상치 처리 먼저 하기 \n",
        "#수치형 데이터가 'HMG'빼고 다 오른쪽 꼬리가 긴 분포 log1p 적용\n",
        "#되돌리기 expm1 적용\n",
        "df2_log1p = np.log1p(df2)\n",
        "df2_log1p.describe()"
      ],
      "execution_count": null,
      "outputs": [
        {
          "output_type": "execute_result",
          "data": {
            "text/html": [
              "<div>\n",
              "<style scoped>\n",
              "    .dataframe tbody tr th:only-of-type {\n",
              "        vertical-align: middle;\n",
              "    }\n",
              "\n",
              "    .dataframe tbody tr th {\n",
              "        vertical-align: top;\n",
              "    }\n",
              "\n",
              "    .dataframe thead th {\n",
              "        text-align: right;\n",
              "    }\n",
              "</style>\n",
              "<table border=\"1\" class=\"dataframe\">\n",
              "  <thead>\n",
              "    <tr style=\"text-align: right;\">\n",
              "      <th></th>\n",
              "      <th>WAIST</th>\n",
              "      <th>BP_HIGH</th>\n",
              "      <th>BP_LWST</th>\n",
              "      <th>BLDS</th>\n",
              "      <th>TOT_CHOLE</th>\n",
              "      <th>TRIGLYCERIDE</th>\n",
              "      <th>HDL_CHOLE</th>\n",
              "      <th>LDL_CHOLE</th>\n",
              "      <th>HMG</th>\n",
              "      <th>CREATININE</th>\n",
              "      <th>SGOT_AST</th>\n",
              "      <th>SGPT_ALT</th>\n",
              "      <th>GAMMA_GTP</th>\n",
              "      <th>BMI</th>\n",
              "      <th>eGFR</th>\n",
              "    </tr>\n",
              "  </thead>\n",
              "  <tbody>\n",
              "    <tr>\n",
              "      <th>count</th>\n",
              "      <td>5.363799e+06</td>\n",
              "      <td>5.363799e+06</td>\n",
              "      <td>5.363799e+06</td>\n",
              "      <td>5.363799e+06</td>\n",
              "      <td>5.363799e+06</td>\n",
              "      <td>5.363799e+06</td>\n",
              "      <td>5.363799e+06</td>\n",
              "      <td>5.363799e+06</td>\n",
              "      <td>5.363799e+06</td>\n",
              "      <td>5.363799e+06</td>\n",
              "      <td>5.363799e+06</td>\n",
              "      <td>5.363799e+06</td>\n",
              "      <td>5.363799e+06</td>\n",
              "      <td>5.363799e+06</td>\n",
              "      <td>5.363799e+06</td>\n",
              "    </tr>\n",
              "    <tr>\n",
              "      <th>mean</th>\n",
              "      <td>4.397264e+00</td>\n",
              "      <td>4.805687e+00</td>\n",
              "      <td>4.335710e+00</td>\n",
              "      <td>4.587281e+00</td>\n",
              "      <td>5.259524e+00</td>\n",
              "      <td>4.703627e+00</td>\n",
              "      <td>4.009748e+00</td>\n",
              "      <td>4.694806e+00</td>\n",
              "      <td>2.712217e+00</td>\n",
              "      <td>6.237674e-01</td>\n",
              "      <td>3.205066e+00</td>\n",
              "      <td>3.107299e+00</td>\n",
              "      <td>3.316514e+00</td>\n",
              "      <td>3.204117e+00</td>\n",
              "      <td>4.458220e+00</td>\n",
              "    </tr>\n",
              "    <tr>\n",
              "      <th>std</th>\n",
              "      <td>1.155605e-01</td>\n",
              "      <td>1.171347e-01</td>\n",
              "      <td>1.279516e-01</td>\n",
              "      <td>1.836601e-01</td>\n",
              "      <td>1.909947e-01</td>\n",
              "      <td>5.634859e-01</td>\n",
              "      <td>2.498184e-01</td>\n",
              "      <td>3.227423e-01</td>\n",
              "      <td>1.115072e-01</td>\n",
              "      <td>1.281190e-01</td>\n",
              "      <td>3.507859e-01</td>\n",
              "      <td>5.279753e-01</td>\n",
              "      <td>7.021469e-01</td>\n",
              "      <td>1.347162e-01</td>\n",
              "      <td>2.703523e-01</td>\n",
              "    </tr>\n",
              "    <tr>\n",
              "      <th>min</th>\n",
              "      <td>6.931472e-01</td>\n",
              "      <td>4.060443e+00</td>\n",
              "      <td>3.433987e+00</td>\n",
              "      <td>2.708050e+00</td>\n",
              "      <td>3.433987e+00</td>\n",
              "      <td>6.931472e-01</td>\n",
              "      <td>6.931472e-01</td>\n",
              "      <td>6.931472e-01</td>\n",
              "      <td>9.531018e-02</td>\n",
              "      <td>5.826891e-02</td>\n",
              "      <td>6.931472e-01</td>\n",
              "      <td>6.931472e-01</td>\n",
              "      <td>6.931472e-01</td>\n",
              "      <td>2.601726e+00</td>\n",
              "      <td>2.379792e-01</td>\n",
              "    </tr>\n",
              "    <tr>\n",
              "      <th>25%</th>\n",
              "      <td>4.317488e+00</td>\n",
              "      <td>4.709530e+00</td>\n",
              "      <td>4.262680e+00</td>\n",
              "      <td>4.477337e+00</td>\n",
              "      <td>5.135798e+00</td>\n",
              "      <td>4.304065e+00</td>\n",
              "      <td>3.850148e+00</td>\n",
              "      <td>4.510860e+00</td>\n",
              "      <td>2.646175e+00</td>\n",
              "      <td>5.306283e-01</td>\n",
              "      <td>2.995732e+00</td>\n",
              "      <td>2.772589e+00</td>\n",
              "      <td>2.833213e+00</td>\n",
              "      <td>3.112821e+00</td>\n",
              "      <td>4.315787e+00</td>\n",
              "    </tr>\n",
              "    <tr>\n",
              "      <th>50%</th>\n",
              "      <td>4.406719e+00</td>\n",
              "      <td>4.795791e+00</td>\n",
              "      <td>4.343805e+00</td>\n",
              "      <td>4.564348e+00</td>\n",
              "      <td>5.262690e+00</td>\n",
              "      <td>4.672829e+00</td>\n",
              "      <td>4.007333e+00</td>\n",
              "      <td>4.727388e+00</td>\n",
              "      <td>2.721295e+00</td>\n",
              "      <td>6.418539e-01</td>\n",
              "      <td>3.178054e+00</td>\n",
              "      <td>3.044522e+00</td>\n",
              "      <td>3.178054e+00</td>\n",
              "      <td>3.210086e+00</td>\n",
              "      <td>4.454742e+00</td>\n",
              "    </tr>\n",
              "    <tr>\n",
              "      <th>75%</th>\n",
              "      <td>4.477337e+00</td>\n",
              "      <td>4.875197e+00</td>\n",
              "      <td>4.406719e+00</td>\n",
              "      <td>4.653960e+00</td>\n",
              "      <td>5.389072e+00</td>\n",
              "      <td>5.068904e+00</td>\n",
              "      <td>4.174387e+00</td>\n",
              "      <td>4.912655e+00</td>\n",
              "      <td>2.791165e+00</td>\n",
              "      <td>6.931472e-01</td>\n",
              "      <td>3.367296e+00</td>\n",
              "      <td>3.401197e+00</td>\n",
              "      <td>3.688879e+00</td>\n",
              "      <td>3.294041e+00</td>\n",
              "      <td>4.605971e+00</td>\n",
              "    </tr>\n",
              "    <tr>\n",
              "      <th>max</th>\n",
              "      <td>6.907755e+00</td>\n",
              "      <td>5.707110e+00</td>\n",
              "      <td>5.252273e+00</td>\n",
              "      <td>6.880384e+00</td>\n",
              "      <td>7.779049e+00</td>\n",
              "      <td>9.158099e+00</td>\n",
              "      <td>9.000976e+00</td>\n",
              "      <td>9.210340e+00</td>\n",
              "      <td>3.258097e+00</td>\n",
              "      <td>4.614130e+00</td>\n",
              "      <td>9.210340e+00</td>\n",
              "      <td>8.883363e+00</td>\n",
              "      <td>6.907755e+00</td>\n",
              "      <td>3.868593e+00</td>\n",
              "      <td>7.364847e+00</td>\n",
              "    </tr>\n",
              "  </tbody>\n",
              "</table>\n",
              "</div>"
            ],
            "text/plain": [
              "              WAIST       BP_HIGH  ...           BMI          eGFR\n",
              "count  5.363799e+06  5.363799e+06  ...  5.363799e+06  5.363799e+06\n",
              "mean   4.397264e+00  4.805687e+00  ...  3.204117e+00  4.458220e+00\n",
              "std    1.155605e-01  1.171347e-01  ...  1.347162e-01  2.703523e-01\n",
              "min    6.931472e-01  4.060443e+00  ...  2.601726e+00  2.379792e-01\n",
              "25%    4.317488e+00  4.709530e+00  ...  3.112821e+00  4.315787e+00\n",
              "50%    4.406719e+00  4.795791e+00  ...  3.210086e+00  4.454742e+00\n",
              "75%    4.477337e+00  4.875197e+00  ...  3.294041e+00  4.605971e+00\n",
              "max    6.907755e+00  5.707110e+00  ...  3.868593e+00  7.364847e+00\n",
              "\n",
              "[8 rows x 15 columns]"
            ]
          },
          "metadata": {},
          "execution_count": 6
        }
      ]
    },
    {
      "cell_type": "code",
      "metadata": {
        "id": "0YAF4aSWihlm"
      },
      "source": [
        "#수치형 데이터 스케일링\n",
        "#Scikit-Learn에서는 다양한 종류의 스케일러를 제공하고 있다. 그중 대표적인 기법들이다.\n",
        "#  \t종류\t설명\n",
        "# 1\tStandardScaler\t기본 스케일. 평균과 표준편차 사용\n",
        "# 2\tMinMaxScaler\t최대/최소값이 각각 1, 0이 되도록 스케일링\n",
        "# 3\tMaxAbsScaler\t최대절대값과 0이 각각 1, 0이 되도록 스케일링\n",
        "# 4\tRobustScaler\t중앙값(median)과 IQR(interquartile range) 사용. 아웃라이어의 영향을 최소화\n",
        "from sklearn.preprocessing import  StandardScaler\n",
        "standardScaler = StandardScaler()\n",
        "from sklearn.preprocessing import RobustScaler\n",
        "robustScaler = RobustScaler()\n",
        "from sklearn.preprocessing import MinMaxScaler\n",
        "minMaxScaler = MinMaxScaler()\n",
        "from sklearn.preprocessing import MaxAbsScaler\n",
        "maxAbsScaler = MaxAbsScaler()"
      ],
      "execution_count": null,
      "outputs": []
    },
    {
      "cell_type": "code",
      "metadata": {
        "colab": {
          "base_uri": "https://localhost:8080/",
          "height": 300
        },
        "id": "X1qiZuvAfRi8",
        "outputId": "e61e097c-f1f2-4cd7-dac5-1ebdba45f53f"
      },
      "source": [
        "#############################################################log1p + RobustScaler\n",
        "# 객체생성\n",
        "scaler = RobustScaler()\n",
        "# fit -> transform\n",
        "scaler.fit(df2_log1p) # df는 2차원 이상의 값이어야 함\n",
        "df2_log1p_scaled = scaler.transform(df2_log1p)\n",
        "############ 배열형태로 반환되기 때문에 데이터 프레임으로 변환해주는 작업\n",
        "df2_log1p_scaled = pd.DataFrame(data = df2_log1p_scaled, columns=Col_Lst)\n",
        "df2_log1p_scaled.describe()"
      ],
      "execution_count": null,
      "outputs": [
        {
          "output_type": "execute_result",
          "data": {
            "text/html": [
              "<div>\n",
              "<style scoped>\n",
              "    .dataframe tbody tr th:only-of-type {\n",
              "        vertical-align: middle;\n",
              "    }\n",
              "\n",
              "    .dataframe tbody tr th {\n",
              "        vertical-align: top;\n",
              "    }\n",
              "\n",
              "    .dataframe thead th {\n",
              "        text-align: right;\n",
              "    }\n",
              "</style>\n",
              "<table border=\"1\" class=\"dataframe\">\n",
              "  <thead>\n",
              "    <tr style=\"text-align: right;\">\n",
              "      <th></th>\n",
              "      <th>WAIST</th>\n",
              "      <th>BP_HIGH</th>\n",
              "      <th>BP_LWST</th>\n",
              "      <th>BLDS</th>\n",
              "      <th>TOT_CHOLE</th>\n",
              "      <th>TRIGLYCERIDE</th>\n",
              "      <th>HDL_CHOLE</th>\n",
              "      <th>LDL_CHOLE</th>\n",
              "      <th>HMG</th>\n",
              "      <th>CREATININE</th>\n",
              "      <th>SGOT_AST</th>\n",
              "      <th>SGPT_ALT</th>\n",
              "      <th>GAMMA_GTP</th>\n",
              "      <th>BMI</th>\n",
              "      <th>eGFR</th>\n",
              "    </tr>\n",
              "  </thead>\n",
              "  <tbody>\n",
              "    <tr>\n",
              "      <th>count</th>\n",
              "      <td>5.363799e+06</td>\n",
              "      <td>5.363799e+06</td>\n",
              "      <td>5.363799e+06</td>\n",
              "      <td>5.363799e+06</td>\n",
              "      <td>5.363799e+06</td>\n",
              "      <td>5.363799e+06</td>\n",
              "      <td>5.363799e+06</td>\n",
              "      <td>5.363799e+06</td>\n",
              "      <td>5.363799e+06</td>\n",
              "      <td>5.363799e+06</td>\n",
              "      <td>5.363799e+06</td>\n",
              "      <td>5.363799e+06</td>\n",
              "      <td>5.363799e+06</td>\n",
              "      <td>5.363799e+06</td>\n",
              "      <td>5.363799e+06</td>\n",
              "    </tr>\n",
              "    <tr>\n",
              "      <th>mean</th>\n",
              "      <td>-5.915016e-02</td>\n",
              "      <td>5.973431e-02</td>\n",
              "      <td>-5.620052e-02</td>\n",
              "      <td>1.298428e-01</td>\n",
              "      <td>-1.250176e-02</td>\n",
              "      <td>4.026739e-02</td>\n",
              "      <td>7.446974e-03</td>\n",
              "      <td>-8.109096e-02</td>\n",
              "      <td>-6.261065e-02</td>\n",
              "      <td>-1.112883e-01</td>\n",
              "      <td>7.269832e-02</td>\n",
              "      <td>9.986556e-02</td>\n",
              "      <td>1.618151e-01</td>\n",
              "      <td>-3.293525e-02</td>\n",
              "      <td>1.198724e-02</td>\n",
              "    </tr>\n",
              "    <tr>\n",
              "      <th>std</th>\n",
              "      <td>7.229364e-01</td>\n",
              "      <td>7.070488e-01</td>\n",
              "      <td>8.883096e-01</td>\n",
              "      <td>1.039839e+00</td>\n",
              "      <td>7.541053e-01</td>\n",
              "      <td>7.367378e-01</td>\n",
              "      <td>7.704744e-01</td>\n",
              "      <td>8.032505e-01</td>\n",
              "      <td>7.690663e-01</td>\n",
              "      <td>7.883329e-01</td>\n",
              "      <td>9.440806e-01</td>\n",
              "      <td>8.399110e-01</td>\n",
              "      <td>8.205852e-01</td>\n",
              "      <td>7.433831e-01</td>\n",
              "      <td>9.316589e-01</td>\n",
              "    </tr>\n",
              "    <tr>\n",
              "      <th>min</th>\n",
              "      <td>-2.323179e+01</td>\n",
              "      <td>-4.438705e+00</td>\n",
              "      <td>-6.316455e+00</td>\n",
              "      <td>-1.050991e+01</td>\n",
              "      <td>-7.220276e+00</td>\n",
              "      <td>-5.203293e+00</td>\n",
              "      <td>-1.022141e+01</td>\n",
              "      <td>-1.004054e+01</td>\n",
              "      <td>-1.811145e+01</td>\n",
              "      <td>-3.590874e+00</td>\n",
              "      <td>-6.687703e+00</td>\n",
              "      <td>-3.740603e+00</td>\n",
              "      <td>-2.904061e+00</td>\n",
              "      <td>-3.357017e+00</td>\n",
              "      <td>-1.453135e+01</td>\n",
              "    </tr>\n",
              "    <tr>\n",
              "      <th>25%</th>\n",
              "      <td>-5.582225e-01</td>\n",
              "      <td>-5.206848e-01</td>\n",
              "      <td>-5.632179e-01</td>\n",
              "      <td>-4.926375e-01</td>\n",
              "      <td>-5.010072e-01</td>\n",
              "      <td>-4.821455e-01</td>\n",
              "      <td>-4.847821e-01</td>\n",
              "      <td>-5.389019e-01</td>\n",
              "      <td>-5.181079e-01</td>\n",
              "      <td>-6.843857e-01</td>\n",
              "      <td>-4.906874e-01</td>\n",
              "      <td>-4.325962e-01</td>\n",
              "      <td>-4.030082e-01</td>\n",
              "      <td>-5.367231e-01</td>\n",
              "      <td>-4.788492e-01</td>\n",
              "    </tr>\n",
              "    <tr>\n",
              "      <th>50%</th>\n",
              "      <td>0.000000e+00</td>\n",
              "      <td>0.000000e+00</td>\n",
              "      <td>0.000000e+00</td>\n",
              "      <td>0.000000e+00</td>\n",
              "      <td>0.000000e+00</td>\n",
              "      <td>0.000000e+00</td>\n",
              "      <td>0.000000e+00</td>\n",
              "      <td>0.000000e+00</td>\n",
              "      <td>0.000000e+00</td>\n",
              "      <td>0.000000e+00</td>\n",
              "      <td>0.000000e+00</td>\n",
              "      <td>0.000000e+00</td>\n",
              "      <td>0.000000e+00</td>\n",
              "      <td>0.000000e+00</td>\n",
              "      <td>0.000000e+00</td>\n",
              "    </tr>\n",
              "    <tr>\n",
              "      <th>75%</th>\n",
              "      <td>4.417775e-01</td>\n",
              "      <td>4.793152e-01</td>\n",
              "      <td>4.367821e-01</td>\n",
              "      <td>5.073625e-01</td>\n",
              "      <td>4.989928e-01</td>\n",
              "      <td>5.178545e-01</td>\n",
              "      <td>5.152179e-01</td>\n",
              "      <td>4.610981e-01</td>\n",
              "      <td>4.818921e-01</td>\n",
              "      <td>3.156143e-01</td>\n",
              "      <td>5.093126e-01</td>\n",
              "      <td>5.674038e-01</td>\n",
              "      <td>5.969918e-01</td>\n",
              "      <td>4.632769e-01</td>\n",
              "      <td>5.211508e-01</td>\n",
              "    </tr>\n",
              "    <tr>\n",
              "      <th>max</th>\n",
              "      <td>1.564627e+01</td>\n",
              "      <td>5.500909e+00</td>\n",
              "      <td>6.307081e+00</td>\n",
              "      <td>1.311284e+01</td>\n",
              "      <td>9.935349e+00</td>\n",
              "      <td>5.864332e+00</td>\n",
              "      <td>1.540109e+01</td>\n",
              "      <td>1.115730e+01</td>\n",
              "      <td>3.702324e+00</td>\n",
              "      <td>2.444193e+01</td>\n",
              "      <td>1.623487e+01</td>\n",
              "      <td>9.288514e+00</td>\n",
              "      <td>4.358828e+00</td>\n",
              "      <td>3.633738e+00</td>\n",
              "      <td>1.002849e+01</td>\n",
              "    </tr>\n",
              "  </tbody>\n",
              "</table>\n",
              "</div>"
            ],
            "text/plain": [
              "              WAIST       BP_HIGH  ...           BMI          eGFR\n",
              "count  5.363799e+06  5.363799e+06  ...  5.363799e+06  5.363799e+06\n",
              "mean  -5.915016e-02  5.973431e-02  ... -3.293525e-02  1.198724e-02\n",
              "std    7.229364e-01  7.070488e-01  ...  7.433831e-01  9.316589e-01\n",
              "min   -2.323179e+01 -4.438705e+00  ... -3.357017e+00 -1.453135e+01\n",
              "25%   -5.582225e-01 -5.206848e-01  ... -5.367231e-01 -4.788492e-01\n",
              "50%    0.000000e+00  0.000000e+00  ...  0.000000e+00  0.000000e+00\n",
              "75%    4.417775e-01  4.793152e-01  ...  4.632769e-01  5.211508e-01\n",
              "max    1.564627e+01  5.500909e+00  ...  3.633738e+00  1.002849e+01\n",
              "\n",
              "[8 rows x 15 columns]"
            ]
          },
          "metadata": {},
          "execution_count": 8
        }
      ]
    },
    {
      "cell_type": "code",
      "metadata": {
        "id": "cVR-7FXoBvi0"
      },
      "source": [
        "#스케일러 되돌리기\n",
        "#https://www.inflearn.com/questions/224124\n",
        "scaler = RobustScaler()\n",
        "scaler.fit(df2_log1p)\n",
        "df2_log1p_origin = scaler.inverse_transform(df2_log1p_scaled)\n",
        "df2_log1p_origin\n",
        "df2_log1p_origin = pd.DataFrame(data = df2_log1p_origin, columns=Col_Lst)\n",
        "df2_log1p_origin.describe()\n",
        "np.expm1(df2_log1p_origin)"
      ],
      "execution_count": null,
      "outputs": []
    },
    {
      "cell_type": "code",
      "metadata": {
        "id": "XkdMGpbwELFk"
      },
      "source": [
        "np.expm1(df2_log1p_origin)"
      ],
      "execution_count": null,
      "outputs": []
    },
    {
      "cell_type": "markdown",
      "metadata": {
        "id": "13_JzSdF7jCT"
      },
      "source": [
        "#그래프 생략"
      ]
    },
    {
      "cell_type": "code",
      "metadata": {
        "colab": {
          "base_uri": "https://localhost:8080/",
          "height": 192
        },
        "id": "ey9omxiJ59S7",
        "outputId": "64db5bfe-ac2d-42bd-f02f-e69a7e2edcb9"
      },
      "source": [
        "fig, ax = plt.subplots( figsize=(22,10))\n",
        "temp2_log1p_scaled.mean().plot()"
      ],
      "execution_count": null,
      "outputs": [
        {
          "output_type": "error",
          "ename": "NameError",
          "evalue": "ignored",
          "traceback": [
            "\u001b[0;31m---------------------------------------------------------------------------\u001b[0m",
            "\u001b[0;31mNameError\u001b[0m                                 Traceback (most recent call last)",
            "\u001b[0;32m<ipython-input-1-1743e3646467>\u001b[0m in \u001b[0;36m<module>\u001b[0;34m()\u001b[0m\n\u001b[0;32m----> 1\u001b[0;31m \u001b[0mfig\u001b[0m\u001b[0;34m,\u001b[0m \u001b[0max\u001b[0m \u001b[0;34m=\u001b[0m \u001b[0mplt\u001b[0m\u001b[0;34m.\u001b[0m\u001b[0msubplots\u001b[0m\u001b[0;34m(\u001b[0m \u001b[0mfigsize\u001b[0m\u001b[0;34m=\u001b[0m\u001b[0;34m(\u001b[0m\u001b[0;36m22\u001b[0m\u001b[0;34m,\u001b[0m\u001b[0;36m10\u001b[0m\u001b[0;34m)\u001b[0m\u001b[0;34m)\u001b[0m\u001b[0;34m\u001b[0m\u001b[0;34m\u001b[0m\u001b[0m\n\u001b[0m\u001b[1;32m      2\u001b[0m \u001b[0mtemp2_log1p_scaled\u001b[0m\u001b[0;34m.\u001b[0m\u001b[0mmean\u001b[0m\u001b[0;34m(\u001b[0m\u001b[0;34m)\u001b[0m\u001b[0;34m.\u001b[0m\u001b[0mplot\u001b[0m\u001b[0;34m(\u001b[0m\u001b[0;34m)\u001b[0m\u001b[0;34m\u001b[0m\u001b[0;34m\u001b[0m\u001b[0m\n",
            "\u001b[0;31mNameError\u001b[0m: name 'plt' is not defined"
          ]
        }
      ]
    },
    {
      "cell_type": "code",
      "metadata": {
        "id": "-g56F4PRx5Pa"
      },
      "source": [
        "#컬럼30개 탐색\n",
        "fig, ax = plt.subplots(2,3, figsize=(20,15))\n",
        "sns.histplot(temp1[\"HCHK_YEAR\"], ax=ax[0,0])\n",
        "sns.histplot(temp1[\"SEX\"], ax=ax[0,1])\n",
        "sns.histplot(temp1[\"AGE_GROUP\"], ax=ax[0,2])\n",
        "sns.histplot(temp1[\"SIDO\"], ax=ax[1,0])\n",
        "sns.histplot(temp1[\"HEIGHT\"], ax=ax[1,1])\n",
        "sns.histplot(temp1[\"WEIGHT\"], ax=ax[1,2])\n",
        "plt.show()"
      ],
      "execution_count": null,
      "outputs": []
    },
    {
      "cell_type": "code",
      "metadata": {
        "id": "6ZAp8vPTxk4A"
      },
      "source": [
        "fig, ax = plt.subplots(3,3, figsize=(20,15))\n",
        "sns.histplot(temp1[\"SMK_STAT_TYPE_CD\"], ax=ax[0,0])\n",
        "sns.histplot(temp1[\"DRK_YN\"], ax=ax[0,1])\n",
        "sns.histplot(temp1[\"diabetes2\"], ax=ax[0,2])\n",
        "sns.histplot(temp1[\"anemia2\"], ax=ax[1,0])\n",
        "sns.histplot(temp1[\"liver2\"], ax=ax[1,1])\n",
        "sns.histplot(temp1[\"hypertension2\"], ax=ax[1,2])\n",
        "sns.histplot(temp1[\"eGFR2\"], ax=ax[2,0])\n",
        "sns.histplot(temp1[\"BMI2\"], ax=ax[2,1])\n",
        "plt.show()"
      ],
      "execution_count": null,
      "outputs": []
    },
    {
      "cell_type": "code",
      "metadata": {
        "id": "vs1MbtGAxTqc"
      },
      "source": [
        "################################################temp2\n",
        "fig, ax = plt.subplots(2,3, figsize=(20,15))\n",
        "sns.histplot(temp2_log1p_scaled[\"WAIST\"], ax=ax[0,0])\n",
        "sns.histplot(temp2_log1p_scaled[\"BP_HIGH\"], ax=ax[0,1])\n",
        "sns.histplot(temp2_log1p_scaled[\"BP_LWST\"], ax=ax[0,2])\n",
        "sns.histplot(temp2_log1p_scaled[\"BLDS\"], ax=ax[1,0])\n",
        "sns.histplot(temp2_log1p_scaled[\"TOT_CHOLE\"], ax=ax[1,1])\n",
        "sns.histplot(temp2_log1p_scaled[\"TRIGLYCERIDE\"], ax=ax[1,2])\n",
        "plt.show()"
      ],
      "execution_count": null,
      "outputs": []
    },
    {
      "cell_type": "code",
      "metadata": {
        "id": "d261CXbausdC"
      },
      "source": [
        "fig, ax = plt.subplots(2,3, figsize=(20,15))\n",
        "sns.histplot(temp2_log1p_scaled[\"HDL_CHOLE\"], ax=ax[0,0])\n",
        "sns.histplot(temp2_log1p_scaled[\"LDL_CHOLE\"], ax=ax[0,1])\n",
        "sns.histplot(temp2_log1p_scaled[\"HMG\"], ax=ax[0,2])\n",
        "sns.histplot(temp2_log1p_scaled[\"OLIG_PROTE_CD\"], ax=ax[1,0])\n",
        "sns.histplot(temp2_log1p_scaled[\"CREATININE\"], ax=ax[1,1])\n",
        "sns.histplot(temp2_log1p_scaled[\"SGOT_AST\"], ax=ax[1,2])\n",
        "plt.show()"
      ],
      "execution_count": null,
      "outputs": []
    },
    {
      "cell_type": "code",
      "metadata": {
        "id": "XdWz636yKOJg"
      },
      "source": [
        "fig, ax = plt.subplots(2,2, figsize=(20,15))\n",
        "sns.histplot(temp2_log1p_scaled[\"SGPT_ALT\"], ax=ax[0,0])\n",
        "sns.histplot(temp2_log1p_scaled[\"GAMMA_GTP\"], ax=ax[0,1])\n",
        "sns.histplot(temp2_log1p_scaled[\"BMI\"], ax=ax[1,0])\n",
        "sns.histplot(temp2_log1p_scaled[\"eGFR\"], ax=ax[1,1])\n",
        "plt.show()"
      ],
      "execution_count": null,
      "outputs": []
    },
    {
      "cell_type": "markdown",
      "metadata": {
        "id": "hRM9-TSM7oPM"
      },
      "source": [
        "#모델 생성 및 학습"
      ]
    },
    {
      "cell_type": "code",
      "metadata": {
        "id": "uTKYy01BUANO"
      },
      "source": [
        "#텐서플로우 불러오기\n",
        "import tensorflow as tf"
      ],
      "execution_count": null,
      "outputs": []
    },
    {
      "cell_type": "markdown",
      "metadata": {
        "id": "eF4tHLyfGf79"
      },
      "source": [
        "- 샘플 데이터 나누기"
      ]
    },
    {
      "cell_type": "code",
      "metadata": {
        "colab": {
          "base_uri": "https://localhost:8080/"
        },
        "id": "vZBkniRDGVRg",
        "outputId": "ec1a55dc-f2de-42ee-db19-44a44e845ce7"
      },
      "source": [
        "#샘플 뽑기(너무 많아서) 테스트용\n",
        "X_sample = df1.sample(frac=0.1, replace=True, random_state=0)\n",
        "X_sample.shape\n",
        "X_sample.info()\n",
        "Y_sample = df2_log1p_scaled.sample(frac=0.1, replace=True, random_state=0)\n",
        "Y_sample.shape\n",
        "Y_sample.info()"
      ],
      "execution_count": null,
      "outputs": [
        {
          "output_type": "stream",
          "name": "stdout",
          "text": [
            "<class 'pandas.core.frame.DataFrame'>\n",
            "Int64Index: 536380 entries, 4500015 to 1838632\n",
            "Data columns (total 6 columns):\n",
            " #   Column            Non-Null Count   Dtype  \n",
            "---  ------            --------------   -----  \n",
            " 0   SEX               536380 non-null  float64\n",
            " 1   AGE_GROUP         536380 non-null  float64\n",
            " 2   HEIGHT            536380 non-null  float64\n",
            " 3   WEIGHT            536380 non-null  float64\n",
            " 4   SMK_STAT_TYPE_CD  536380 non-null  float64\n",
            " 5   DRK_YN            536380 non-null  float64\n",
            "dtypes: float64(6)\n",
            "memory usage: 28.6 MB\n",
            "<class 'pandas.core.frame.DataFrame'>\n",
            "Int64Index: 536380 entries, 4500015 to 1838632\n",
            "Data columns (total 15 columns):\n",
            " #   Column        Non-Null Count   Dtype  \n",
            "---  ------        --------------   -----  \n",
            " 0   WAIST         536380 non-null  float64\n",
            " 1   BP_HIGH       536380 non-null  float64\n",
            " 2   BP_LWST       536380 non-null  float64\n",
            " 3   BLDS          536380 non-null  float64\n",
            " 4   TOT_CHOLE     536380 non-null  float64\n",
            " 5   TRIGLYCERIDE  536380 non-null  float64\n",
            " 6   HDL_CHOLE     536380 non-null  float64\n",
            " 7   LDL_CHOLE     536380 non-null  float64\n",
            " 8   HMG           536380 non-null  float64\n",
            " 9   CREATININE    536380 non-null  float64\n",
            " 10  SGOT_AST      536380 non-null  float64\n",
            " 11  SGPT_ALT      536380 non-null  float64\n",
            " 12  GAMMA_GTP     536380 non-null  float64\n",
            " 13  BMI           536380 non-null  float64\n",
            " 14  eGFR          536380 non-null  float64\n",
            "dtypes: float64(15)\n",
            "memory usage: 65.5 MB\n"
          ]
        }
      ]
    },
    {
      "cell_type": "code",
      "metadata": {
        "id": "_KdYMj-EHmRd"
      },
      "source": [
        "#데이터나누기\n",
        "from sklearn.model_selection import train_test_split\n",
        "X_train,X_test,y_train,y_test = train_test_split(X_sample,Y_sample,test_size=0.2, random_state=0)"
      ],
      "execution_count": null,
      "outputs": []
    },
    {
      "cell_type": "code",
      "metadata": {
        "colab": {
          "base_uri": "https://localhost:8080/",
          "height": 206
        },
        "id": "C-6TvkSNUz-3",
        "outputId": "6ad9460a-f7e1-4182-e810-99582b14acd2"
      },
      "source": [
        "y_test.head()"
      ],
      "execution_count": null,
      "outputs": [
        {
          "output_type": "execute_result",
          "data": {
            "text/html": [
              "<div>\n",
              "<style scoped>\n",
              "    .dataframe tbody tr th:only-of-type {\n",
              "        vertical-align: middle;\n",
              "    }\n",
              "\n",
              "    .dataframe tbody tr th {\n",
              "        vertical-align: top;\n",
              "    }\n",
              "\n",
              "    .dataframe thead th {\n",
              "        text-align: right;\n",
              "    }\n",
              "</style>\n",
              "<table border=\"1\" class=\"dataframe\">\n",
              "  <thead>\n",
              "    <tr style=\"text-align: right;\">\n",
              "      <th></th>\n",
              "      <th>WAIST</th>\n",
              "      <th>BP_HIGH</th>\n",
              "      <th>BP_LWST</th>\n",
              "      <th>BLDS</th>\n",
              "      <th>TOT_CHOLE</th>\n",
              "      <th>TRIGLYCERIDE</th>\n",
              "      <th>HDL_CHOLE</th>\n",
              "      <th>LDL_CHOLE</th>\n",
              "      <th>HMG</th>\n",
              "      <th>CREATININE</th>\n",
              "      <th>SGOT_AST</th>\n",
              "      <th>SGPT_ALT</th>\n",
              "      <th>GAMMA_GTP</th>\n",
              "      <th>BMI</th>\n",
              "      <th>eGFR</th>\n",
              "    </tr>\n",
              "  </thead>\n",
              "  <tbody>\n",
              "    <tr>\n",
              "      <th>4286168</th>\n",
              "      <td>0.297957</td>\n",
              "      <td>-0.520685</td>\n",
              "      <td>0.178024</td>\n",
              "      <td>-0.823829</td>\n",
              "      <td>-0.275328</td>\n",
              "      <td>-0.592701</td>\n",
              "      <td>0.110160</td>\n",
              "      <td>-0.066968</td>\n",
              "      <td>0.090158</td>\n",
              "      <td>0.315614</td>\n",
              "      <td>-2.356175</td>\n",
              "      <td>-0.645020</td>\n",
              "      <td>-0.049739</td>\n",
              "      <td>0.199033</td>\n",
              "      <td>-0.173713</td>\n",
              "    </tr>\n",
              "    <tr>\n",
              "      <th>4110764</th>\n",
              "      <td>-0.500105</td>\n",
              "      <td>0.147833</td>\n",
              "      <td>0.604081</td>\n",
              "      <td>-0.179753</td>\n",
              "      <td>-0.319444</td>\n",
              "      <td>-0.734736</td>\n",
              "      <td>0.467401</td>\n",
              "      <td>-0.230612</td>\n",
              "      <td>-0.277770</td>\n",
              "      <td>-0.684386</td>\n",
              "      <td>-0.774247</td>\n",
              "      <td>-1.028664</td>\n",
              "      <td>-0.810067</td>\n",
              "      <td>-0.860771</td>\n",
              "      <td>0.618813</td>\n",
              "    </tr>\n",
              "    <tr>\n",
              "      <th>1419826</th>\n",
              "      <td>0.150752</td>\n",
              "      <td>0.880391</td>\n",
              "      <td>0.767442</td>\n",
              "      <td>1.494509</td>\n",
              "      <td>0.426211</td>\n",
              "      <td>1.109556</td>\n",
              "      <td>-0.484782</td>\n",
              "      <td>0.128761</td>\n",
              "      <td>0.971827</td>\n",
              "      <td>0.615826</td>\n",
              "      <td>0.109865</td>\n",
              "      <td>0.339757</td>\n",
              "      <td>1.267581</td>\n",
              "      <td>0.020870</td>\n",
              "      <td>-0.547847</td>\n",
              "    </tr>\n",
              "    <tr>\n",
              "      <th>1181660</th>\n",
              "      <td>0.370281</td>\n",
              "      <td>0.923354</td>\n",
              "      <td>1.159781</td>\n",
              "      <td>-0.622799</td>\n",
              "      <td>-0.253454</td>\n",
              "      <td>0.432924</td>\n",
              "      <td>-0.293950</td>\n",
              "      <td>-0.254893</td>\n",
              "      <td>0.566003</td>\n",
              "      <td>0.000000</td>\n",
              "      <td>0.316993</td>\n",
              "      <td>0.513473</td>\n",
              "      <td>0.473859</td>\n",
              "      <td>0.229937</td>\n",
              "      <td>0.521151</td>\n",
              "    </tr>\n",
              "    <tr>\n",
              "      <th>5210208</th>\n",
              "      <td>0.000000</td>\n",
              "      <td>0.000000</td>\n",
              "      <td>-1.617138</td>\n",
              "      <td>0.972975</td>\n",
              "      <td>-1.411185</td>\n",
              "      <td>-0.499934</td>\n",
              "      <td>0.163798</td>\n",
              "      <td>-1.454106</td>\n",
              "      <td>-0.616638</td>\n",
              "      <td>0.902070</td>\n",
              "      <td>0.316993</td>\n",
              "      <td>-0.077616</td>\n",
              "      <td>-0.273021</td>\n",
              "      <td>0.463277</td>\n",
              "      <td>-1.087051</td>\n",
              "    </tr>\n",
              "  </tbody>\n",
              "</table>\n",
              "</div>"
            ],
            "text/plain": [
              "            WAIST   BP_HIGH   BP_LWST  ...  GAMMA_GTP       BMI      eGFR\n",
              "4286168  0.297957 -0.520685  0.178024  ...  -0.049739  0.199033 -0.173713\n",
              "4110764 -0.500105  0.147833  0.604081  ...  -0.810067 -0.860771  0.618813\n",
              "1419826  0.150752  0.880391  0.767442  ...   1.267581  0.020870 -0.547847\n",
              "1181660  0.370281  0.923354  1.159781  ...   0.473859  0.229937  0.521151\n",
              "5210208  0.000000  0.000000 -1.617138  ...  -0.273021  0.463277 -1.087051\n",
              "\n",
              "[5 rows x 15 columns]"
            ]
          },
          "metadata": {},
          "execution_count": 15
        }
      ]
    },
    {
      "cell_type": "code",
      "metadata": {
        "id": "ArkC3l_fUqJV",
        "colab": {
          "base_uri": "https://localhost:8080/"
        },
        "outputId": "ccccb51e-02dd-44c3-b5b9-de15e0e54e32"
      },
      "source": [
        "#모델 구조 만들기\n",
        "from tensorflow.keras.optimizers import SGD\n",
        "from tensorflow.keras.optimizers import RMSprop\n",
        "from tensorflow.keras.optimizers import Adam\n",
        "X=tf.keras.layers.Input(shape=[6])#6개 입력층 생성\n",
        "Y=tf.keras.layers.Dense(15)(X) #15개 출력층 생성 #https://wikidocs.net/60683\n",
        "model = tf.keras.models.Model(X,Y)\n",
        "model.compile(optimizer=Adam(lr=1e-4),loss='mse', metrics='mae')#https://velog.io/@yuns_u/평균제곱오차MSE-평균절대오차MAE\n",
        "model.summary()"
      ],
      "execution_count": null,
      "outputs": [
        {
          "output_type": "stream",
          "name": "stdout",
          "text": [
            "Model: \"model_14\"\n",
            "_________________________________________________________________\n",
            " Layer (type)                Output Shape              Param #   \n",
            "=================================================================\n",
            " input_15 (InputLayer)       [(None, 6)]               0         \n",
            "                                                                 \n",
            " dense_14 (Dense)            (None, 15)                105       \n",
            "                                                                 \n",
            "=================================================================\n",
            "Total params: 105\n",
            "Trainable params: 105\n",
            "Non-trainable params: 0\n",
            "_________________________________________________________________\n"
          ]
        }
      ]
    },
    {
      "cell_type": "code",
      "metadata": {
        "colab": {
          "base_uri": "https://localhost:8080/"
        },
        "id": "MOdsj9cRo78B",
        "outputId": "9fa6d80a-e592-4a64-e7c6-dd5b08fe2308"
      },
      "source": [
        "float(1e-5)"
      ],
      "execution_count": null,
      "outputs": [
        {
          "output_type": "execute_result",
          "data": {
            "text/plain": [
              "1e-05"
            ]
          },
          "metadata": {},
          "execution_count": 66
        }
      ]
    },
    {
      "cell_type": "code",
      "metadata": {
        "colab": {
          "base_uri": "https://localhost:8080/"
        },
        "id": "2glrxSMzNGvu",
        "outputId": "625efdf4-5d16-4d7a-b669-9ea79b53995b"
      },
      "source": [
        "#optimizer 'adam' https://keras.io/api/optimizers/adam/ deafaults 0.001\n",
        "model.fit(X_train,y_train,epochs=8, validation_split=0.2)"
      ],
      "execution_count": null,
      "outputs": [
        {
          "output_type": "stream",
          "name": "stdout",
          "text": [
            "Epoch 1/8\n",
            "10728/10728 [==============================] - 43s 4ms/step - loss: 20.0312 - mae: 1.5452 - val_loss: 0.5273 - val_mae: 0.5217\n",
            "Epoch 2/8\n",
            "10728/10728 [==============================] - 42s 4ms/step - loss: 0.5361 - mae: 0.5230 - val_loss: 0.5355 - val_mae: 0.5269\n",
            "Epoch 3/8\n",
            "10728/10728 [==============================] - 47s 4ms/step - loss: 0.5357 - mae: 0.5220 - val_loss: 0.5285 - val_mae: 0.5175\n",
            "Epoch 4/8\n",
            "10728/10728 [==============================] - 42s 4ms/step - loss: 0.5349 - mae: 0.5210 - val_loss: 0.5482 - val_mae: 0.5345\n",
            "Epoch 5/8\n",
            "10728/10728 [==============================] - 42s 4ms/step - loss: 0.5349 - mae: 0.5204 - val_loss: 0.5293 - val_mae: 0.5159\n",
            "Epoch 6/8\n",
            "10728/10728 [==============================] - 48s 4ms/step - loss: 0.5344 - mae: 0.5197 - val_loss: 0.5300 - val_mae: 0.5186\n",
            "Epoch 7/8\n",
            "10728/10728 [==============================] - 48s 4ms/step - loss: 0.5346 - mae: 0.5196 - val_loss: 0.5269 - val_mae: 0.5155\n",
            "Epoch 8/8\n",
            "10728/10728 [==============================] - 47s 4ms/step - loss: 0.5345 - mae: 0.5194 - val_loss: 0.5312 - val_mae: 0.5168\n"
          ]
        },
        {
          "output_type": "execute_result",
          "data": {
            "text/plain": [
              "<keras.callbacks.History at 0x7f653525a290>"
            ]
          },
          "metadata": {},
          "execution_count": 24
        }
      ]
    },
    {
      "cell_type": "code",
      "metadata": {
        "colab": {
          "base_uri": "https://localhost:8080/"
        },
        "id": "APIcbKWIjy2X",
        "outputId": "c09c47b8-6309-4064-979d-2e4c8fbae76c"
      },
      "source": [
        "#optimizer adam lr0.01\n",
        "model.fit(X_train,y_train,epochs=5, validation_split=0.2)"
      ],
      "execution_count": null,
      "outputs": [
        {
          "output_type": "stream",
          "name": "stdout",
          "text": [
            "Epoch 1/5\n",
            "10728/10728 [==============================] - 45s 4ms/step - loss: 2.1477 - mae: 0.6599 - val_loss: 0.5815 - val_mae: 0.5562\n",
            "Epoch 2/5\n",
            "10728/10728 [==============================] - 49s 5ms/step - loss: 0.6096 - mae: 0.5652 - val_loss: 0.6486 - val_mae: 0.5822\n",
            "Epoch 3/5\n",
            "10728/10728 [==============================] - 49s 5ms/step - loss: 0.6103 - mae: 0.5651 - val_loss: 0.6588 - val_mae: 0.5933\n",
            "Epoch 4/5\n",
            "10728/10728 [==============================] - 43s 4ms/step - loss: 0.6108 - mae: 0.5651 - val_loss: 0.6093 - val_mae: 0.5686\n",
            "Epoch 5/5\n",
            "10728/10728 [==============================] - 43s 4ms/step - loss: 0.6085 - mae: 0.5640 - val_loss: 0.5739 - val_mae: 0.5389\n"
          ]
        },
        {
          "output_type": "execute_result",
          "data": {
            "text/plain": [
              "<keras.callbacks.History at 0x7f65373bef10>"
            ]
          },
          "metadata": {},
          "execution_count": 55
        }
      ]
    },
    {
      "cell_type": "code",
      "metadata": {
        "colab": {
          "base_uri": "https://localhost:8080/"
        },
        "id": "u-28wv_Ak7GZ",
        "outputId": "1c00add7-bc39-48be-a4c2-2d8f861319c6"
      },
      "source": [
        "############################################################모델 훈련 optimizer adam lr0.0001 #4분걸림\n",
        "history = model.fit(X_train,y_train,epochs=5, validation_split=0.2)\n",
        "print(history.history)"
      ],
      "execution_count": null,
      "outputs": [
        {
          "output_type": "stream",
          "name": "stdout",
          "text": [
            "Epoch 1/5\n",
            "10728/10728 [==============================] - 46s 4ms/step - loss: 369.0082 - mae: 9.1687 - val_loss: 2.5460 - val_mae: 1.1230\n",
            "Epoch 2/5\n",
            "10728/10728 [==============================] - 44s 4ms/step - loss: 0.9262 - mae: 0.6685 - val_loss: 0.5314 - val_mae: 0.5247\n",
            "Epoch 3/5\n",
            "10728/10728 [==============================] - 49s 5ms/step - loss: 0.5280 - mae: 0.5191 - val_loss: 0.5212 - val_mae: 0.5151\n",
            "Epoch 4/5\n",
            "10728/10728 [==============================] - 44s 4ms/step - loss: 0.5250 - mae: 0.5171 - val_loss: 0.5211 - val_mae: 0.5153\n",
            "Epoch 5/5\n",
            "10728/10728 [==============================] - 44s 4ms/step - loss: 0.5248 - mae: 0.5169 - val_loss: 0.5219 - val_mae: 0.5161\n"
          ]
        }
      ]
    },
    {
      "cell_type": "code",
      "metadata": {
        "colab": {
          "base_uri": "https://localhost:8080/"
        },
        "id": "pSBX155gkW5z",
        "outputId": "d1c828e3-e75a-41ac-c8c0-4adafdbf23af"
      },
      "source": [
        "#optimizer adam lr1e-5\n",
        "model.fit(X_train,y_train,epochs=5, validation_split=0.2)"
      ],
      "execution_count": null,
      "outputs": [
        {
          "output_type": "stream",
          "name": "stdout",
          "text": [
            "Epoch 1/5\n",
            "10728/10728 [==============================] - 50s 5ms/step - loss: 1962.2611 - mae: 32.9693 - val_loss: 1168.8846 - val_mae: 23.3527\n",
            "Epoch 2/5\n",
            "10728/10728 [==============================] - 50s 5ms/step - loss: 708.6890 - mae: 16.6850 - val_loss: 367.0643 - val_mae: 11.2665\n",
            "Epoch 3/5\n",
            "10728/10728 [==============================] - 51s 5ms/step - loss: 201.4496 - mae: 8.3008 - val_loss: 85.3016 - val_mae: 5.9562\n",
            "Epoch 4/5\n",
            "10728/10728 [==============================] - 46s 4ms/step - loss: 40.5217 - mae: 4.2441 - val_loss: 20.6114 - val_mae: 3.1766\n",
            "Epoch 5/5\n",
            "10728/10728 [==============================] - 50s 5ms/step - loss: 16.5817 - mae: 2.7919 - val_loss: 13.0291 - val_mae: 2.4329\n"
          ]
        },
        {
          "output_type": "execute_result",
          "data": {
            "text/plain": [
              "<keras.callbacks.History at 0x7f653853e8d0>"
            ]
          },
          "metadata": {},
          "execution_count": 70
        }
      ]
    },
    {
      "cell_type": "code",
      "metadata": {
        "colab": {
          "base_uri": "https://localhost:8080/"
        },
        "id": "jzLP-Or1qhSa",
        "outputId": "ecab768a-d374-4403-c6aa-02d8de261768"
      },
      "source": [
        "#optimizer adam lr1e-5 #2\n",
        "model.fit(X_train,y_train,epochs=5, validation_split=0.2)"
      ],
      "execution_count": null,
      "outputs": [
        {
          "output_type": "stream",
          "name": "stdout",
          "text": [
            "Epoch 1/5\n",
            "10728/10728 [==============================] - 46s 4ms/step - loss: 10.3415 - mae: 2.1426 - val_loss: 7.9529 - val_mae: 1.8714\n",
            "Epoch 2/5\n",
            "10728/10728 [==============================] - 46s 4ms/step - loss: 6.1767 - mae: 1.6421 - val_loss: 4.6126 - val_mae: 1.4200\n",
            "Epoch 3/5\n",
            "10728/10728 [==============================] - 45s 4ms/step - loss: 3.5408 - mae: 1.2412 - val_loss: 2.6271 - val_mae: 1.0762\n",
            "Epoch 4/5\n",
            "10728/10728 [==============================] - 50s 5ms/step - loss: 2.0429 - mae: 0.9521 - val_loss: 1.5556 - val_mae: 0.8403\n",
            "Epoch 5/5\n",
            "10728/10728 [==============================] - 45s 4ms/step - loss: 1.2736 - mae: 0.7640 - val_loss: 1.0394 - val_mae: 0.6967\n"
          ]
        },
        {
          "output_type": "execute_result",
          "data": {
            "text/plain": [
              "<keras.callbacks.History at 0x7f6537ec5d10>"
            ]
          },
          "metadata": {},
          "execution_count": 71
        }
      ]
    },
    {
      "cell_type": "code",
      "metadata": {
        "colab": {
          "base_uri": "https://localhost:8080/"
        },
        "id": "Dgt2WSDSsPS_",
        "outputId": "b81a16c4-d9e1-4b76-a5ee-ac39893500c9"
      },
      "source": [
        "print(history.history)"
      ],
      "execution_count": null,
      "outputs": [
        {
          "output_type": "stream",
          "name": "stdout",
          "text": [
            "{'loss': [369.00823974609375, 0.9261857867240906, 0.5279791355133057, 0.5249770283699036, 0.5248163938522339], 'mae': [9.168679237365723, 0.6684842705726624, 0.5191015601158142, 0.5171013474464417, 0.5169106721878052], 'val_loss': [2.5459556579589844, 0.5314079523086548, 0.5211646556854248, 0.5210540890693665, 0.5219205021858215], 'val_mae': [1.1229817867279053, 0.524678111076355, 0.5150571465492249, 0.5152667164802551, 0.5160970687866211]}\n"
          ]
        }
      ]
    },
    {
      "cell_type": "code",
      "metadata": {
        "colab": {
          "base_uri": "https://localhost:8080/",
          "height": 351
        },
        "id": "38u8hXtosY7p",
        "outputId": "c9991470-afee-48f5-b0d6-2c190e401b66"
      },
      "source": [
        "# 훈련 과정 시각화 (loss)\n",
        "plt.figure(figsize=(9, 5))#plot size\n",
        "plt.plot(history.history['loss'])\n",
        "plt.plot(history.history['val_loss'])\n",
        "plt.title('Model loss')\n",
        "plt.xlabel('Epoch')\n",
        "plt.ylabel('Loss')\n",
        "plt.legend(['Train', 'Test'], loc='upper right')\n",
        "plt.show()"
      ],
      "execution_count": null,
      "outputs": [
        {
          "output_type": "display_data",
          "data": {
            "image/png": "[encoded data removed]",
            "text/plain": [
              "<Figure size 648x360 with 1 Axes>"
            ]
          },
          "metadata": {
            "image/png": {
              "width": 556,
              "height": 334
            },
            "needs_background": "light"
          }
        }
      ]
    },
    {
      "cell_type": "code",
      "metadata": {
        "colab": {
          "base_uri": "https://localhost:8080/",
          "height": 351
        },
        "id": "VMCtDP9esXBb",
        "outputId": "d5bc68b7-bda9-4597-f5de-c9dc5bb19644"
      },
      "source": [
        "# 훈련 과정 시각화 (mae)\n",
        "plt.figure(figsize=(9, 5))#plot size\n",
        "plt.plot(history.history['mae'])\n",
        "plt.plot(history.history['val_mae'])\n",
        "plt.title('Model mae')\n",
        "plt.xlabel('Epoch')\n",
        "plt.ylabel('mae')\n",
        "plt.legend(['Train', 'Test'], loc='upper right')\n",
        "plt.show()"
      ],
      "execution_count": null,
      "outputs": [
        {
          "output_type": "display_data",
          "data": {
            "image/png": "[encoded data removed]",
            "text/plain": [
              "<Figure size 648x360 with 1 Axes>"
            ]
          },
          "metadata": {
            "image/png": {
              "width": 544,
              "height": 334
            },
            "needs_background": "light"
          }
        }
      ]
    },
    {
      "cell_type": "markdown",
      "metadata": {
        "id": "u8VwRtDev4XQ"
      },
      "source": [
        "- 샘플 모델 평가"
      ]
    },
    {
      "cell_type": "code",
      "metadata": {
        "colab": {
          "base_uri": "https://localhost:8080/"
        },
        "id": "1P1UkAM_vtLB",
        "outputId": "653a6afd-85d9-49a6-a6c6-f24a5cfec9e3"
      },
      "source": [
        "model.evaluate(X_test,y_test)"
      ],
      "execution_count": null,
      "outputs": [
        {
          "output_type": "stream",
          "name": "stdout",
          "text": [
            "3353/3353 [==============================] - 10s 3ms/step - loss: 0.5274 - mae: 0.5167\n"
          ]
        },
        {
          "output_type": "execute_result",
          "data": {
            "text/plain": [
              "[0.5273510217666626, 0.5166669487953186]"
            ]
          },
          "metadata": {},
          "execution_count": 92
        }
      ]
    },
    {
      "cell_type": "code",
      "metadata": {
        "id": "twh1ZPHcwDAm"
      },
      "source": [
        "model.save('/content/drive/MyDrive/test/X_sample.h5')"
      ],
      "execution_count": null,
      "outputs": []
    },
    {
      "cell_type": "markdown",
      "metadata": {
        "id": "rvsdqAMYxFI7"
      },
      "source": [
        "- 실제로 데이터 사용해서 구축"
      ]
    },
    {
      "cell_type": "code",
      "metadata": {
        "colab": {
          "base_uri": "https://localhost:8080/"
        },
        "id": "PjDEFlDtxAu5",
        "outputId": "7b456236-d697-4ac7-9bca-fcafd903e2e2"
      },
      "source": [
        "df1.shape\n",
        "df1.info()\n",
        "df2_log1p_scaled.shape\n",
        "df2_log1p_scaled.info()"
      ],
      "execution_count": null,
      "outputs": [
        {
          "output_type": "stream",
          "name": "stdout",
          "text": [
            "<class 'pandas.core.frame.DataFrame'>\n",
            "RangeIndex: 5363799 entries, 0 to 5363798\n",
            "Data columns (total 6 columns):\n",
            " #   Column            Dtype  \n",
            "---  ------            -----  \n",
            " 0   SEX               float64\n",
            " 1   AGE_GROUP         float64\n",
            " 2   HEIGHT            float64\n",
            " 3   WEIGHT            float64\n",
            " 4   SMK_STAT_TYPE_CD  float64\n",
            " 5   DRK_YN            float64\n",
            "dtypes: float64(6)\n",
            "memory usage: 245.5 MB\n",
            "<class 'pandas.core.frame.DataFrame'>\n",
            "RangeIndex: 5363799 entries, 0 to 5363798\n",
            "Data columns (total 15 columns):\n",
            " #   Column        Dtype  \n",
            "---  ------        -----  \n",
            " 0   WAIST         float64\n",
            " 1   BP_HIGH       float64\n",
            " 2   BP_LWST       float64\n",
            " 3   BLDS          float64\n",
            " 4   TOT_CHOLE     float64\n",
            " 5   TRIGLYCERIDE  float64\n",
            " 6   HDL_CHOLE     float64\n",
            " 7   LDL_CHOLE     float64\n",
            " 8   HMG           float64\n",
            " 9   CREATININE    float64\n",
            " 10  SGOT_AST      float64\n",
            " 11  SGPT_ALT      float64\n",
            " 12  GAMMA_GTP     float64\n",
            " 13  BMI           float64\n",
            " 14  eGFR          float64\n",
            "dtypes: float64(15)\n",
            "memory usage: 613.8 MB\n"
          ]
        }
      ]
    },
    {
      "cell_type": "code",
      "metadata": {
        "id": "Sa22SVGaxAu6"
      },
      "source": [
        "#데이터나누기\n",
        "from sklearn.model_selection import train_test_split\n",
        "X_train,X_test,y_train,y_test = train_test_split(df1,df2_log1p_scaled,test_size=0.2, random_state=0)"
      ],
      "execution_count": null,
      "outputs": []
    },
    {
      "cell_type": "code",
      "metadata": {
        "colab": {
          "base_uri": "https://localhost:8080/",
          "height": 206
        },
        "id": "DDk2F6qcxAu6",
        "outputId": "2c6c8a72-0662-48a6-d6ae-5b10ca34774f"
      },
      "source": [
        "y_test.head()"
      ],
      "execution_count": null,
      "outputs": [
        {
          "output_type": "execute_result",
          "data": {
            "text/html": [
              "<div>\n",
              "<style scoped>\n",
              "    .dataframe tbody tr th:only-of-type {\n",
              "        vertical-align: middle;\n",
              "    }\n",
              "\n",
              "    .dataframe tbody tr th {\n",
              "        vertical-align: top;\n",
              "    }\n",
              "\n",
              "    .dataframe thead th {\n",
              "        text-align: right;\n",
              "    }\n",
              "</style>\n",
              "<table border=\"1\" class=\"dataframe\">\n",
              "  <thead>\n",
              "    <tr style=\"text-align: right;\">\n",
              "      <th></th>\n",
              "      <th>WAIST</th>\n",
              "      <th>BP_HIGH</th>\n",
              "      <th>BP_LWST</th>\n",
              "      <th>BLDS</th>\n",
              "      <th>TOT_CHOLE</th>\n",
              "      <th>TRIGLYCERIDE</th>\n",
              "      <th>HDL_CHOLE</th>\n",
              "      <th>LDL_CHOLE</th>\n",
              "      <th>HMG</th>\n",
              "      <th>CREATININE</th>\n",
              "      <th>SGOT_AST</th>\n",
              "      <th>SGPT_ALT</th>\n",
              "      <th>GAMMA_GTP</th>\n",
              "      <th>BMI</th>\n",
              "      <th>eGFR</th>\n",
              "    </tr>\n",
              "  </thead>\n",
              "  <tbody>\n",
              "    <tr>\n",
              "      <th>682914</th>\n",
              "      <td>-1.648963</td>\n",
              "      <td>-1.211289</td>\n",
              "      <td>-1.393166</td>\n",
              "      <td>0.343242</td>\n",
              "      <td>0.370730</td>\n",
              "      <td>-1.461066</td>\n",
              "      <td>0.467401</td>\n",
              "      <td>0.568546</td>\n",
              "      <td>-1.239348</td>\n",
              "      <td>-1.057417</td>\n",
              "      <td>0.109865</td>\n",
              "      <td>-0.245225</td>\n",
              "      <td>0.093544</td>\n",
              "      <td>-1.910565</td>\n",
              "      <td>0.679676</td>\n",
              "    </tr>\n",
              "    <tr>\n",
              "      <th>813683</th>\n",
              "      <td>-0.901098</td>\n",
              "      <td>-0.856116</td>\n",
              "      <td>-1.731894</td>\n",
              "      <td>-0.622799</td>\n",
              "      <td>0.199452</td>\n",
              "      <td>-0.651695</td>\n",
              "      <td>1.231762</td>\n",
              "      <td>-0.089697</td>\n",
              "      <td>-0.420965</td>\n",
              "      <td>-0.332683</td>\n",
              "      <td>1.015423</td>\n",
              "      <td>0.399795</td>\n",
              "      <td>-0.213076</td>\n",
              "      <td>-1.257699</td>\n",
              "      <td>0.504819</td>\n",
              "    </tr>\n",
              "    <tr>\n",
              "      <th>2838841</th>\n",
              "      <td>-0.312861</td>\n",
              "      <td>0.479315</td>\n",
              "      <td>0.351596</td>\n",
              "      <td>0.058672</td>\n",
              "      <td>0.040705</td>\n",
              "      <td>0.323143</td>\n",
              "      <td>0.319334</td>\n",
              "      <td>-0.112636</td>\n",
              "      <td>0.090158</td>\n",
              "      <td>0.000000</td>\n",
              "      <td>0.774247</td>\n",
              "      <td>0.277364</td>\n",
              "      <td>0.407059</td>\n",
              "      <td>-1.021911</td>\n",
              "      <td>0.240458</td>\n",
              "    </tr>\n",
              "    <tr>\n",
              "      <th>26452</th>\n",
              "      <td>-1.079851</td>\n",
              "      <td>-0.520685</td>\n",
              "      <td>-0.182709</td>\n",
              "      <td>-0.428662</td>\n",
              "      <td>-0.061855</td>\n",
              "      <td>-0.517969</td>\n",
              "      <td>0.787525</td>\n",
              "      <td>-0.182748</td>\n",
              "      <td>-0.518108</td>\n",
              "      <td>-0.332683</td>\n",
              "      <td>-0.774247</td>\n",
              "      <td>-0.762912</td>\n",
              "      <td>-1.023143</td>\n",
              "      <td>-0.077072</td>\n",
              "      <td>0.093359</td>\n",
              "    </tr>\n",
              "    <tr>\n",
              "      <th>1129265</th>\n",
              "      <td>-1.357937</td>\n",
              "      <td>-1.719901</td>\n",
              "      <td>-1.617138</td>\n",
              "      <td>-0.689019</td>\n",
              "      <td>-1.590684</td>\n",
              "      <td>-0.631733</td>\n",
              "      <td>0.562305</td>\n",
              "      <td>-1.980018</td>\n",
              "      <td>-0.420965</td>\n",
              "      <td>0.615826</td>\n",
              "      <td>-0.114542</td>\n",
              "      <td>-0.432596</td>\n",
              "      <td>-0.403008</td>\n",
              "      <td>-0.860771</td>\n",
              "      <td>-0.267914</td>\n",
              "    </tr>\n",
              "  </tbody>\n",
              "</table>\n",
              "</div>"
            ],
            "text/plain": [
              "            WAIST   BP_HIGH   BP_LWST  ...  GAMMA_GTP       BMI      eGFR\n",
              "682914  -1.648963 -1.211289 -1.393166  ...   0.093544 -1.910565  0.679676\n",
              "813683  -0.901098 -0.856116 -1.731894  ...  -0.213076 -1.257699  0.504819\n",
              "2838841 -0.312861  0.479315  0.351596  ...   0.407059 -1.021911  0.240458\n",
              "26452   -1.079851 -0.520685 -0.182709  ...  -1.023143 -0.077072  0.093359\n",
              "1129265 -1.357937 -1.719901 -1.617138  ...  -0.403008 -0.860771 -0.267914\n",
              "\n",
              "[5 rows x 15 columns]"
            ]
          },
          "metadata": {},
          "execution_count": 15
        }
      ]
    },
    {
      "cell_type": "code",
      "metadata": {
        "colab": {
          "base_uri": "https://localhost:8080/"
        },
        "id": "z4FUVEmMxAu6",
        "outputId": "16aac71b-7c64-4905-d294-7f68bd93bad4"
      },
      "source": [
        "#모델 구조 만들기\n",
        "from tensorflow.keras.optimizers import SGD\n",
        "from tensorflow.keras.optimizers import RMSprop\n",
        "from tensorflow.keras.optimizers import Adam\n",
        "X=tf.keras.layers.Input(shape=[6])#6개 입력층 생성\n",
        "Y=tf.keras.layers.Dense(15)(X) #15개 출력층 생성 #https://wikidocs.net/60683\n",
        "model = tf.keras.models.Model(X,Y)\n",
        "model.compile(optimizer=Adam(lr=1e-4),loss='mse', metrics='mae')#https://velog.io/@yuns_u/평균제곱오차MSE-평균절대오차MAE\n",
        "model.summary()"
      ],
      "execution_count": null,
      "outputs": [
        {
          "output_type": "stream",
          "name": "stdout",
          "text": [
            "Model: \"model_1\"\n",
            "_________________________________________________________________\n",
            " Layer (type)                Output Shape              Param #   \n",
            "=================================================================\n",
            " input_2 (InputLayer)        [(None, 6)]               0         \n",
            "                                                                 \n",
            " dense_1 (Dense)             (None, 15)                105       \n",
            "                                                                 \n",
            "=================================================================\n",
            "Total params: 105\n",
            "Trainable params: 105\n",
            "Non-trainable params: 0\n",
            "_________________________________________________________________\n"
          ]
        }
      ]
    },
    {
      "cell_type": "code",
      "metadata": {
        "colab": {
          "base_uri": "https://localhost:8080/"
        },
        "id": "DR7fwvbzxAu7",
        "outputId": "bceff798-cf95-4b85-c808-a92e4b0a54ec"
      },
      "source": [
        "############################################################모델 훈련 optimizer adam lr0.0001 #에폭당7분\n",
        "history = model.fit(X_train,y_train,epochs=3, validation_split=0.2)\n",
        "print(history.history)"
      ],
      "execution_count": null,
      "outputs": [
        {
          "output_type": "stream",
          "name": "stdout",
          "text": [
            "Epoch 1/3\n",
            "107276/107276 [==============================] - 446s 4ms/step - loss: 58.4467 - mae: 1.7239 - val_loss: 0.5247 - val_mae: 0.5157\n",
            "Epoch 2/3\n",
            "107276/107276 [==============================] - 403s 4ms/step - loss: 0.5226 - mae: 0.5141 - val_loss: 0.5234 - val_mae: 0.5144\n",
            "Epoch 3/3\n",
            "107276/107276 [==============================] - 401s 4ms/step - loss: 0.5221 - mae: 0.5129 - val_loss: 0.5221 - val_mae: 0.5121\n",
            "{'loss': [58.44670104980469, 0.5225570201873779, 0.5220568180084229], 'mae': [1.7239030599594116, 0.5141064524650574, 0.5128878951072693], 'val_loss': [0.5246922373771667, 0.5234484672546387, 0.52205491065979], 'val_mae': [0.5157079100608826, 0.5143597722053528, 0.5121088624000549]}\n"
          ]
        }
      ]
    },
    {
      "cell_type": "code",
      "metadata": {
        "colab": {
          "base_uri": "https://localhost:8080/",
          "height": 297
        },
        "id": "ikuAnAoTxAu7",
        "outputId": "bb194b73-2d98-4dc3-f648-873bbb7887e8"
      },
      "source": [
        "# 훈련 과정 시각화 (loss)\n",
        "plt.figure(figsize=(9, 4))#plot size\n",
        "plt.plot(history.history['loss'])\n",
        "plt.plot(history.history['val_loss'])\n",
        "plt.title('Model loss')\n",
        "plt.xlabel('Epoch')\n",
        "plt.ylabel('Loss')\n",
        "plt.legend(['Train', 'Test'], loc='upper right')\n",
        "plt.show()"
      ],
      "execution_count": null,
      "outputs": [
        {
          "output_type": "display_data",
          "data": {
            "image/png": "[encoded data removed]",
            "text/plain": [
              "<Figure size 648x288 with 1 Axes>"
            ]
          },
          "metadata": {
            "image/png": {
              "width": 550,
              "height": 280
            },
            "needs_background": "light"
          }
        }
      ]
    },
    {
      "cell_type": "code",
      "metadata": {
        "colab": {
          "base_uri": "https://localhost:8080/",
          "height": 297
        },
        "id": "8AIXv2isxAu7",
        "outputId": "59f51f0d-9c54-40cc-a8c4-e9db7cf33e8e"
      },
      "source": [
        "# 훈련 과정 시각화 (mae)\n",
        "plt.figure(figsize=(9, 4))#plot size\n",
        "plt.plot(history.history['mae'])\n",
        "plt.plot(history.history['val_mae'])\n",
        "plt.title('Model mae')\n",
        "plt.xlabel('Epoch')\n",
        "plt.ylabel('mae')\n",
        "plt.legend(['Train', 'Test'], loc='upper right')\n",
        "plt.show()"
      ],
      "execution_count": null,
      "outputs": [
        {
          "output_type": "display_data",
          "data": {
            "image/png": "[encoded data removed]",
            "text/plain": [
              "<Figure size 648x288 with 1 Axes>"
            ]
          },
          "metadata": {
            "image/png": {
              "width": 553,
              "height": 280
            },
            "needs_background": "light"
          }
        }
      ]
    },
    {
      "cell_type": "markdown",
      "metadata": {
        "id": "VPa81HE5xAu8"
      },
      "source": [
        "- 모델 평가"
      ]
    },
    {
      "cell_type": "code",
      "metadata": {
        "colab": {
          "base_uri": "https://localhost:8080/"
        },
        "id": "WVjMFKWOxAu8",
        "outputId": "4e4fe910-9da0-4d17-bca9-e14e76dc3a45"
      },
      "source": [
        "model.evaluate(X_test,y_test)"
      ],
      "execution_count": null,
      "outputs": [
        {
          "output_type": "stream",
          "name": "stdout",
          "text": [
            "33524/33524 [==============================] - 105s 3ms/step - loss: 0.5208 - mae: 0.5119\n"
          ]
        },
        {
          "output_type": "execute_result",
          "data": {
            "text/plain": [
              "[0.5207517743110657, 0.51192307472229]"
            ]
          },
          "metadata": {},
          "execution_count": 24
        }
      ]
    },
    {
      "cell_type": "code",
      "metadata": {
        "id": "YHR6XZ1UxAu8"
      },
      "source": [
        "model.save('/content/drive/MyDrive/test/train_model.h5')"
      ],
      "execution_count": null,
      "outputs": []
    },
    {
      "cell_type": "markdown",
      "metadata": {
        "id": "6gyo67NY7Adf"
      },
      "source": [
        "# 모델 예측하기 생략"
      ]
    },
    {
      "cell_type": "code",
      "metadata": {
        "id": "TOvUTLmsWYVr"
      },
      "source": [
        "#텐서플로우 불러오기\n",
        "import tensorflow as tf\n",
        "#저장한 모델 불러오기\n",
        "model = tf.keras.models.load_model('/content/drive/MyDrive/test/train_model.h5')"
      ],
      "execution_count": null,
      "outputs": []
    },
    {
      "cell_type": "code",
      "metadata": {
        "colab": {
          "base_uri": "https://localhost:8080/",
          "height": 190
        },
        "id": "f17T0eAE7Lhu",
        "outputId": "384b55b7-8a7d-4fae-b001-e02b6a7d16f9"
      },
      "source": [
        "#테스트해보기\n",
        "sex = input(\"성별을 입력하세요(남자/여자): \")\n",
        "age = input(\"나이를 입력하세요(숫자만): \")\n",
        "height = input(\"키(cm)를 입력하세요: \")\n",
        "weight = input(\"몸무게(kg)를 입력하세요: \")\n",
        "흡연여부 = input(\"흡연여부를 입력하세요(안핌/핌): \")\n",
        "음주여부 = input(\"음주여부를 입력하세요(안함/함): \")\n",
        "data=[sex, age, height, weight, 흡연여부, 음주여부]#list\n",
        "data=pd.DataFrame([data],columns=['SEX', 'AGE_GROUP','HEIGHT', 'WEIGHT','SMK_STAT_TYPE_CD', 'DRK_YN'])#.astype('category') 원핫 안함 #data3=pd.get_dummies(data2)\n",
        "data=data.replace(['남자','안핌','안함'],0)\n",
        "data=data.replace(['여자','핌','함'],1)\n",
        "\n",
        "predicted_df = pd.DataFrame(model.predict(np.asarray(data).astype('float')),columns=['WAIST', 'BP_HIGH', 'BP_LWST', 'BLDS', 'TOT_CHOLE', 'TRIGLYCERIDE',\n",
        "       'HDL_CHOLE', 'LDL_CHOLE', 'HMG', 'CREATININE', 'SGOT_AST', 'SGPT_ALT','GAMMA_GTP', 'BMI', 'eGFR'])#list\n",
        "scaler = RobustScaler()\n",
        "scaler.fit(df2_log1p)\n",
        "predicted_df_rescaled = scaler.inverse_transform(predicted_df)\n",
        "predicted_df_rescaled_expm1 = np.expm1(predicted_df_rescaled)\n",
        "pred_df = pd.DataFrame(predicted_df_rescaled_expm1,columns=['WAIST', 'BP_HIGH', 'BP_LWST', 'BLDS', 'TOT_CHOLE', 'TRIGLYCERIDE',\n",
        "       'HDL_CHOLE', 'LDL_CHOLE', 'HMG', 'CREATININE', 'SGOT_AST', 'SGPT_ALT','GAMMA_GTP', 'BMI', 'eGFR'])\n",
        "pred_df"
      ],
      "execution_count": null,
      "outputs": [
        {
          "name": "stdout",
          "output_type": "stream",
          "text": [
            "성별을 입력하세요(남자/여자): 여자\n",
            "나이를 입력하세요(숫자만): 35\n",
            "키(cm)를 입력하세요: 160\n",
            "몸무게(kg)를 입력하세요: 95\n",
            "흡연여부를 입력하세요(안핌/핌): 안핌\n",
            "음주여부를 입력하세요(안함/함): 함\n"
          ]
        },
        {
          "output_type": "execute_result",
          "data": {
            "text/html": [
              "<div>\n",
              "<style scoped>\n",
              "    .dataframe tbody tr th:only-of-type {\n",
              "        vertical-align: middle;\n",
              "    }\n",
              "\n",
              "    .dataframe tbody tr th {\n",
              "        vertical-align: top;\n",
              "    }\n",
              "\n",
              "    .dataframe thead th {\n",
              "        text-align: right;\n",
              "    }\n",
              "</style>\n",
              "<table border=\"1\" class=\"dataframe\">\n",
              "  <thead>\n",
              "    <tr style=\"text-align: right;\">\n",
              "      <th></th>\n",
              "      <th>WAIST</th>\n",
              "      <th>BP_HIGH</th>\n",
              "      <th>BP_LWST</th>\n",
              "      <th>BLDS</th>\n",
              "      <th>TOT_CHOLE</th>\n",
              "      <th>TRIGLYCERIDE</th>\n",
              "      <th>HDL_CHOLE</th>\n",
              "      <th>LDL_CHOLE</th>\n",
              "      <th>HMG</th>\n",
              "      <th>CREATININE</th>\n",
              "      <th>SGOT_AST</th>\n",
              "      <th>SGPT_ALT</th>\n",
              "      <th>GAMMA_GTP</th>\n",
              "      <th>BMI</th>\n",
              "      <th>eGFR</th>\n",
              "    </tr>\n",
              "  </thead>\n",
              "  <tbody>\n",
              "    <tr>\n",
              "      <th>0</th>\n",
              "      <td>102.556679</td>\n",
              "      <td>129.185562</td>\n",
              "      <td>81.721153</td>\n",
              "      <td>102.079147</td>\n",
              "      <td>207.320435</td>\n",
              "      <td>160.929504</td>\n",
              "      <td>48.304932</td>\n",
              "      <td>121.074463</td>\n",
              "      <td>13.831966</td>\n",
              "      <td>0.75255</td>\n",
              "      <td>25.795347</td>\n",
              "      <td>34.76265</td>\n",
              "      <td>32.652451</td>\n",
              "      <td>38.442879</td>\n",
              "      <td>87.485367</td>\n",
              "    </tr>\n",
              "  </tbody>\n",
              "</table>\n",
              "</div>"
            ],
            "text/plain": [
              "        WAIST     BP_HIGH    BP_LWST  ...  GAMMA_GTP        BMI       eGFR\n",
              "0  102.556679  129.185562  81.721153  ...  32.652451  38.442879  87.485367\n",
              "\n",
              "[1 rows x 15 columns]"
            ]
          },
          "metadata": {},
          "execution_count": 13
        }
      ]
    },
    {
      "cell_type": "code",
      "metadata": {
        "colab": {
          "base_uri": "https://localhost:8080/"
        },
        "id": "T_1FYxoxDEyE",
        "outputId": "8d59acfd-ea9b-4636-b253-41e032a3bf4c"
      },
      "source": [
        "#df 새로 만들어서 출력?\n",
        "#아산병원 정보\n",
        "#당뇨병 https://www.amc.seoul.kr/asan/healthinfo/disease/diseaseDetail.do?contentId=31596\n",
        "#정상수치 : 공복혈당 126 미만\n",
        "#0:정상 1:의심\n",
        "pred_df['t_diabetes'] = np.where(pred_df['BLDS']>=126, '의심','정상')\n",
        "print('당뇨: ',pred_df['t_diabetes'])\n",
        "\n",
        "#빈혈 https://www.amc.seoul.kr/asan/healthinfo/management/managementDetail.do?managementId=119\n",
        "#정상수치 : 혈색소(헤모글로빈) 남자일 때 13~17, 여자일 때 12~16 \n",
        "#0:정상 1:의심\n",
        "conditions = [\n",
        "             (data['SEX'] == 0) & (pred_df['HMG']<13),\n",
        "             (data['SEX'] == 1) & (pred_df['HMG']<12),\n",
        "             (data['SEX'] == 0) & (pred_df['HMG']>17),\n",
        "             (data['SEX'] == 1) & (pred_df['HMG']>16),\n",
        "]\n",
        "vals = ['의심','의심','의심','의심']\n",
        "\n",
        "pred_df['t_anemia'] = np.select(conditions, vals)\n",
        "pred_df['t_anemia'] = np.where(pred_df['t_anemia']=='0', '정상',pred_df['t_anemia'])\n",
        "print('빈혈: ',pred_df['t_anemia'])\n",
        "\n",
        "#간수치 http://amc.seoul.kr/asan/mobile/healthinfo/management/managementDetail.do?managementId=36\n",
        "#정상수치 : AST&ALT 40이하, GTP 남자일 때 10~71, 여자일 때 6~42\n",
        "#0:정상 1:의심\n",
        "conditions = [\n",
        "             (data['SEX'] == 0) & (pred_df['GAMMA_GTP']<10) & (pred_df['SGOT_AST']>40) & (pred_df['SGPT_ALT']>40),\n",
        "             (data['SEX'] == 0) & (pred_df['GAMMA_GTP']>71) & (pred_df['SGOT_AST']>40) & (pred_df['SGPT_ALT']>40),\n",
        "             (data['SEX'] == 1) & (pred_df['GAMMA_GTP']<6) & (pred_df['SGOT_AST']>40) & (pred_df['SGPT_ALT']>40),\n",
        "             (data['SEX'] == 1) & (pred_df['GAMMA_GTP']>42) & (pred_df['SGOT_AST']>40) & (pred_df['SGPT_ALT']>40)\n",
        "]\n",
        "vals = ['의심','의심','의심','의심']\n",
        "\n",
        "pred_df['t_liver'] = np.select(conditions, vals)\n",
        "pred_df['t_liver'] = np.where(pred_df['t_liver']=='0', '정상', pred_df['t_liver'])\n",
        "print('간수치: ',pred_df['t_liver'])\n",
        "\n",
        "#사구체여과율 https://www.amc.seoul.kr/asan/healthinfo/body/bodyDetail.do?bodyId=133\n",
        "# 정상 사구체 여과율은 분당 90~120ml\n",
        "#0:정상 1:의심\n",
        "\n",
        "conditions = [\n",
        "             (pred_df['eGFR']<90),\n",
        "             (pred_df['eGFR']>120)\n",
        "]\n",
        "vals = ['의심', '의심']\n",
        "pred_df['t_egfr'] = np.select(conditions, vals)\n",
        "pred_df['t_egfr'] = np.where(pred_df['t_egfr']=='0', '정상',pred_df['t_egfr'])\n",
        "print('신장수치: ',pred_df['t_egfr'])\n",
        "\n",
        "#복부비만 https://www.amc.seoul.kr/asan/healthstory/medicalcolumn/medicalColumnDetail.do?medicalColumnId=33912\n",
        "#정상수치 : BMI 25미만, WAIST 남자일 때 90미만, 여자일 때 85미만\n",
        "#0:정상 1:의심\n",
        "conditions = [\n",
        "             (data['SEX'] == 0) & (pred_df['BMI']>=25) & (pred_df['WAIST']>=90),\n",
        "             (data['SEX'] == 1) & (pred_df['BMI']>=25) & (pred_df['WAIST']>=85)\n",
        "]\n",
        "vals = ['의심', '의심']\n",
        "\n",
        "pred_df['t_abdominal'] = np.select(conditions, vals)\n",
        "pred_df['t_abdominal'] = np.where(pred_df['t_abdominal']=='0', '정상',pred_df['t_abdominal'])\n",
        "print('복부비만: ',pred_df['t_abdominal'])\n",
        "\n",
        "#체질량지수 https://www.amc.seoul.kr/asan/healthinfo/management/managementDetail.do?managementId=143\n",
        "# 저체중 <18.5 # 정상 18.5~22.9 # 위험체중 23~24.9 # 1단계 비만 25~29.9 # 2단계 비만 >=30\n",
        "#0:정상 1:저체중 2:위험체중 3:1단계 비만 4:2단계 비만\n",
        "conditions = [\n",
        "             (pred_df['BMI']<18.5),(pred_df['BMI']<23),(pred_df['BMI']<25),(pred_df['BMI']<30),(pred_df['BMI']>=30)\n",
        "             ]\n",
        "vals = ['저체중', '정상', '위험체중', '1단계 비만', '2단계 비만']\n",
        "\n",
        "pred_df['t_bmi'] = np.select(conditions, vals)\n",
        "print('비만: ',pred_df['t_bmi'])\n",
        "\n",
        "#고지혈증 http://amc.seoul.kr/asan/depts/stroke/K/content.do?menuId=2191\n",
        "#정상수치 : 총콜레스테롤<=200,LDL콜레스테롤<=130, HDL콜레스테롤>=60, 중성지방<=200\n",
        "#경계위험수치 : 총콜레스테롤<240, LDL콜레스테롤<160, 중성지방<400\n",
        "#고위험수치 : 총콜레스테롤>=240,LDL콜레스테롤>=160, HDL콜레스테롤<35, 중성지방>=400\n",
        "#0:정상 1:경계 2: 위험\n",
        "conditions = [\n",
        "             (pred_df['TOT_CHOLE'] <=200) & (pred_df['LDL_CHOLE']<=130) & (pred_df['HDL_CHOLE']>=60)& (pred_df['TRIGLYCERIDE']<=200) ,\n",
        "             (pred_df['TOT_CHOLE'] <240)  & (pred_df['LDL_CHOLE']<160)& (pred_df['TRIGLYCERIDE']<400),\n",
        "             (pred_df['TOT_CHOLE'] >=240) & (pred_df['LDL_CHOLE']>=160) & (pred_df['HDL_CHOLE']<35)& (pred_df['TRIGLYCERIDE']>=400) \n",
        "]\n",
        "vals = ['정상','경계위험','고위험']\n",
        "\n",
        "pred_df['t_hyperlipidemia'] = np.select(conditions, vals)\n",
        "print('고지혈증: ',pred_df['t_hyperlipidemia'])\n",
        "\n",
        "#고혈압 https://www.amc.seoul.kr/asan/healthinfo/disease/diseaseDetail.do?contentId=31322\n",
        "# ① 정상 혈압 : 수축기 혈압 120mmHg 미만, 확장기 혈압 80mmHg 미만\n",
        "# ② 고혈압 전 단계 : 수축기 혈압 120~139mmHg이거나, 확장기 혈압 80~89mmHg\n",
        "# ③ 1기 고혈압(경도 고혈압) : 수축기 혈압 140~159mmHg이거나, 확장기 혈압 90~99mmHg\n",
        "# ④ 2기 고혈압(중등도 이상 고혈압) : 수축기 혈압 160mmHg 이상이거나, 확장기 혈압 100mmHg 이상\n",
        "\n",
        "#0:정상 1:고혈압 전 단계 2:경도 고혈압 3:중등도 이상 고혈압\n",
        "conditions = [\n",
        "             (pred_df['BP_HIGH']<120) & (pred_df['BP_LWST']<80),\n",
        "             (pred_df['BP_HIGH']<140) & (pred_df['BP_LWST']<90),\n",
        "             (pred_df['BP_HIGH']<160) & (pred_df['BP_LWST']<100),\n",
        "             (pred_df['BP_HIGH']>=160) & (pred_df['BP_LWST']>=100)\n",
        "]\n",
        "vals = ['정상','고혈압 전 단계','경도 고혈압','중등도 이상 고혈압']\n",
        "\n",
        "pred_df['t_hypertension'] = np.select(conditions, vals)\n",
        "print('고혈압: ',pred_df['t_hypertension'])"
      ],
      "execution_count": null,
      "outputs": [
        {
          "output_type": "stream",
          "name": "stdout",
          "text": [
            "당뇨:  0    정상\n",
            "Name: t_diabetes, dtype: object\n",
            "빈혈:  0    정상\n",
            "Name: t_anemia, dtype: object\n",
            "간수치:  0    정상\n",
            "Name: t_liver, dtype: object\n",
            "신장수치:  0    의심\n",
            "Name: t_egfr, dtype: object\n",
            "복부비만:  0    의심\n",
            "Name: t_abdominal, dtype: object\n",
            "비만:  0    2단계 비만\n",
            "Name: t_bmi, dtype: object\n",
            "고지혈증:  0    경계위험\n",
            "Name: t_hyperlipidemia, dtype: object\n",
            "고혈압:  0    고혈압 전 단계\n",
            "Name: t_hypertension, dtype: object\n"
          ]
        }
      ]
    },
    {
      "cell_type": "code",
      "metadata": {
        "colab": {
          "base_uri": "https://localhost:8080/",
          "height": 118
        },
        "id": "fLw4GXCuI1PF",
        "outputId": "a451aa1e-fc6b-433d-b02b-570eedb842e8"
      },
      "source": [
        "pred_df"
      ],
      "execution_count": null,
      "outputs": [
        {
          "output_type": "execute_result",
          "data": {
            "text/html": [
              "<div>\n",
              "<style scoped>\n",
              "    .dataframe tbody tr th:only-of-type {\n",
              "        vertical-align: middle;\n",
              "    }\n",
              "\n",
              "    .dataframe tbody tr th {\n",
              "        vertical-align: top;\n",
              "    }\n",
              "\n",
              "    .dataframe thead th {\n",
              "        text-align: right;\n",
              "    }\n",
              "</style>\n",
              "<table border=\"1\" class=\"dataframe\">\n",
              "  <thead>\n",
              "    <tr style=\"text-align: right;\">\n",
              "      <th></th>\n",
              "      <th>WAIST</th>\n",
              "      <th>BP_HIGH</th>\n",
              "      <th>BP_LWST</th>\n",
              "      <th>BLDS</th>\n",
              "      <th>TOT_CHOLE</th>\n",
              "      <th>TRIGLYCERIDE</th>\n",
              "      <th>HDL_CHOLE</th>\n",
              "      <th>LDL_CHOLE</th>\n",
              "      <th>HMG</th>\n",
              "      <th>CREATININE</th>\n",
              "      <th>SGOT_AST</th>\n",
              "      <th>SGPT_ALT</th>\n",
              "      <th>GAMMA_GTP</th>\n",
              "      <th>BMI</th>\n",
              "      <th>eGFR</th>\n",
              "      <th>t_diabetes</th>\n",
              "      <th>t_anemia</th>\n",
              "      <th>t_liver</th>\n",
              "      <th>t_egfr</th>\n",
              "      <th>t_abdominal</th>\n",
              "      <th>t_bmi</th>\n",
              "      <th>t_hyperlipidemia</th>\n",
              "      <th>t_hypertension</th>\n",
              "    </tr>\n",
              "  </thead>\n",
              "  <tbody>\n",
              "    <tr>\n",
              "      <th>0</th>\n",
              "      <td>102.556679</td>\n",
              "      <td>129.185562</td>\n",
              "      <td>81.721153</td>\n",
              "      <td>102.079147</td>\n",
              "      <td>207.320435</td>\n",
              "      <td>160.929504</td>\n",
              "      <td>48.304932</td>\n",
              "      <td>121.074463</td>\n",
              "      <td>13.831966</td>\n",
              "      <td>0.75255</td>\n",
              "      <td>25.795347</td>\n",
              "      <td>34.76265</td>\n",
              "      <td>32.652451</td>\n",
              "      <td>38.442879</td>\n",
              "      <td>87.485367</td>\n",
              "      <td>정상</td>\n",
              "      <td>정상</td>\n",
              "      <td>정상</td>\n",
              "      <td>의심</td>\n",
              "      <td>의심</td>\n",
              "      <td>2단계 비만</td>\n",
              "      <td>경계위험</td>\n",
              "      <td>고혈압 전 단계</td>\n",
              "    </tr>\n",
              "  </tbody>\n",
              "</table>\n",
              "</div>"
            ],
            "text/plain": [
              "        WAIST     BP_HIGH    BP_LWST  ...   t_bmi  t_hyperlipidemia  t_hypertension\n",
              "0  102.556679  129.185562  81.721153  ...  2단계 비만              경계위험        고혈압 전 단계\n",
              "\n",
              "[1 rows x 23 columns]"
            ]
          },
          "metadata": {},
          "execution_count": 33
        }
      ]
    },
    {
      "cell_type": "code",
      "metadata": {
        "colab": {
          "base_uri": "https://localhost:8080/"
        },
        "id": "yigEZqbpYnzX",
        "outputId": "13fbaa00-353e-4f69-a07a-d0396f535e7e"
      },
      "source": [
        "pred_df.info()"
      ],
      "execution_count": null,
      "outputs": [
        {
          "output_type": "stream",
          "name": "stdout",
          "text": [
            "<class 'pandas.core.frame.DataFrame'>\n",
            "RangeIndex: 1 entries, 0 to 0\n",
            "Data columns (total 23 columns):\n",
            " #   Column            Non-Null Count  Dtype  \n",
            "---  ------            --------------  -----  \n",
            " 0   WAIST             1 non-null      float32\n",
            " 1   BP_HIGH           1 non-null      float32\n",
            " 2   BP_LWST           1 non-null      float32\n",
            " 3   BLDS              1 non-null      float32\n",
            " 4   TOT_CHOLE         1 non-null      float32\n",
            " 5   TRIGLYCERIDE      1 non-null      float32\n",
            " 6   HDL_CHOLE         1 non-null      float32\n",
            " 7   LDL_CHOLE         1 non-null      float32\n",
            " 8   HMG               1 non-null      float32\n",
            " 9   CREATININE        1 non-null      float32\n",
            " 10  SGOT_AST          1 non-null      float32\n",
            " 11  SGPT_ALT          1 non-null      float32\n",
            " 12  GAMMA_GTP         1 non-null      float32\n",
            " 13  BMI               1 non-null      float32\n",
            " 14  eGFR              1 non-null      float32\n",
            " 15  t_diabetes        1 non-null      object \n",
            " 16  t_anemia          1 non-null      object \n",
            " 17  t_liver           1 non-null      object \n",
            " 18  t_egfr            1 non-null      object \n",
            " 19  t_abdominal       1 non-null      object \n",
            " 20  t_bmi             1 non-null      object \n",
            " 21  t_hyperlipidemia  1 non-null      object \n",
            " 22  t_hypertension    1 non-null      object \n",
            "dtypes: float32(15), object(8)\n",
            "memory usage: 252.0+ bytes\n"
          ]
        }
      ]
    },
    {
      "cell_type": "code",
      "metadata": {
        "id": "NwGWuEOzaiVX"
      },
      "source": [
        ""
      ],
      "execution_count": null,
      "outputs": []
    },
    {
      "cell_type": "code",
      "metadata": {
        "colab": {
          "base_uri": "https://localhost:8080/"
        },
        "id": "YpBS1XBj-YPq",
        "outputId": "14e0ac14-55e2-474c-e673-64a63e22207a"
      },
      "source": [
        "np.asarray(data, dtype=object)"
      ],
      "execution_count": null,
      "outputs": [
        {
          "output_type": "execute_result",
          "data": {
            "text/plain": [
              "array([[  1.,  35., 160.,  95.,   0.,   1.]])"
            ]
          },
          "metadata": {},
          "execution_count": 38
        }
      ]
    },
    {
      "cell_type": "code",
      "metadata": {
        "colab": {
          "base_uri": "https://localhost:8080/"
        },
        "id": "sv0QqEMO-K_e",
        "outputId": "024bda4b-a359-4b41-8c53-f91bb0e9b8ce"
      },
      "source": [
        "model.predict(np.asarray(data, dtype=float))"
      ],
      "execution_count": null,
      "outputs": [
        {
          "output_type": "execute_result",
          "data": {
            "text/plain": [
              "array([[ 1.4601284 ,  0.4416713 ,  0.4975712 ,  0.40282732,  0.30160058,\n",
              "         0.54172444, -0.33712423,  0.19224548, -0.1690498 , -0.49706277,\n",
              "         0.29651594,  0.8469205 ,  0.39505112,  2.564654  ,  0.09681973]],\n",
              "      dtype=float32)"
            ]
          },
          "metadata": {},
          "execution_count": 42
        }
      ]
    },
    {
      "cell_type": "markdown",
      "metadata": {
        "id": "rrfl4Z6Obay5"
      },
      "source": [
        "# 함수 정의"
      ]
    },
    {
      "cell_type": "code",
      "metadata": {
        "id": "uXkkyOQYbt4_"
      },
      "source": [
        "#텐서플로우 불러오기\n",
        "import tensorflow as tf\n",
        "#저장한 모델 불러오기\n",
        "model = tf.keras.models.load_model('/content/drive/MyDrive/test/train_model.h5')"
      ],
      "execution_count": null,
      "outputs": []
    },
    {
      "cell_type": "code",
      "metadata": {
        "id": "TB0ajaLUnmmg"
      },
      "source": [
        "#원본데이터(df)에 t컬럼 추가함 시각화에 사용\n",
        "df['t_diabetes'] = np.where(df['BLDS']>=126, '의심','정상')\n",
        "\n",
        "conditions = [\n",
        "            (df['SEX'] == 0) & (df['HMG']<13),\n",
        "            (df['SEX'] == 1) & (df['HMG']<12),\n",
        "            (df['SEX'] == 0) & (df['HMG']>17),\n",
        "            (df['SEX'] == 1) & (df['HMG']>16),\n",
        "]\n",
        "vals = ['의심','의심','의심','의심']\n",
        "\n",
        "df['t_anemia'] = np.select(conditions, vals)\n",
        "df['t_anemia'] = np.where(df['t_anemia']=='0', '정상',df['t_anemia'])\n",
        "\n",
        "conditions = [\n",
        "            (df['SEX'] == 0) & (df['GAMMA_GTP']<10) & (df['SGOT_AST']>40) & (df['SGPT_ALT']>40),\n",
        "            (df['SEX'] == 0) & (df['GAMMA_GTP']>71) & (df['SGOT_AST']>40) & (df['SGPT_ALT']>40),\n",
        "            (df['SEX'] == 1) & (df['GAMMA_GTP']<6) & (df['SGOT_AST']>40) & (df['SGPT_ALT']>40),\n",
        "            (df['SEX'] == 1) & (df['GAMMA_GTP']>42) & (df['SGOT_AST']>40) & (df['SGPT_ALT']>40)\n",
        "]\n",
        "vals = ['의심','의심','의심','의심']\n",
        "\n",
        "df['t_liver'] = np.select(conditions, vals)\n",
        "df['t_liver'] = np.where(df['t_liver']=='0', '정상', df['t_liver'])\n",
        "\n",
        "conditions = [\n",
        "            (df['eGFR']<90),\n",
        "            (df['eGFR']>120)\n",
        "]\n",
        "vals = ['의심', '의심']\n",
        "df['t_egfr'] = np.select(conditions, vals)\n",
        "df['t_egfr'] = np.where(df['t_egfr']=='0', '정상',df['t_egfr'])\n",
        "\n",
        "conditions = [\n",
        "            (df['SEX'] == 0) & (df['BMI']>=25) & (df['WAIST']>=90),\n",
        "            (df['SEX'] == 1) & (df['BMI']>=25) & (df['WAIST']>=85)\n",
        "]\n",
        "vals = ['의심', '의심']\n",
        "\n",
        "df['t_abdominal'] = np.select(conditions, vals)\n",
        "df['t_abdominal'] = np.where(df['t_abdominal']=='0', '정상',df['t_abdominal'])\n",
        "\n",
        "conditions = [\n",
        "            (df['BMI']<18.5),(df['BMI']<23),(df['BMI']<25),(df['BMI']<30),(df['BMI']>=30)\n",
        "            ]\n",
        "vals = ['저체중', '정상', '위험체중', '1단계 비만', '2단계 비만']\n",
        "\n",
        "df['t_bmi'] = np.select(conditions, vals)\n",
        "df['t_bmi'] = np.where(df['t_bmi']=='0', '정상',df['t_bmi'])\n",
        "\n",
        "conditions = [\n",
        "            (df['TOT_CHOLE'] <=200) & (df['LDL_CHOLE']<=130) & (df['HDL_CHOLE']>=60)& (df['TRIGLYCERIDE']<=200) ,\n",
        "            (df['TOT_CHOLE'] <240)  & (df['LDL_CHOLE']<160)& (df['TRIGLYCERIDE']<400),\n",
        "            (df['TOT_CHOLE'] >=240) & (df['LDL_CHOLE']>=160) & (df['HDL_CHOLE']<35)& (df['TRIGLYCERIDE']>=400) \n",
        "]\n",
        "vals = ['정상','경계위험','고위험']\n",
        "\n",
        "df['t_hyperlipidemia'] = np.select(conditions, vals)\n",
        "df['t_hyperlipidemia'] = np.where(df['t_hyperlipidemia']=='0', '정상',df['t_hyperlipidemia'])\n",
        "\n",
        "conditions = [\n",
        "            (df['BP_HIGH']<120) & (df['BP_LWST']<80),\n",
        "            (df['BP_HIGH']<140) & (df['BP_LWST']<90),\n",
        "            (df['BP_HIGH']<160) & (df['BP_LWST']<100),\n",
        "            (df['BP_HIGH']>=160) & (df['BP_LWST']>=100)\n",
        "]\n",
        "vals = ['정상','고혈압 전 단계','경도 고혈압','중등도 이상 고혈압']\n",
        "\n",
        "df['t_hypertension'] = np.select(conditions, vals)\n",
        "df['t_hypertension'] = np.where(df['t_hypertension']=='0', '정상',df['t_hypertension'])\n",
        "#합친 데이터 저장\n",
        "df.to_csv('/content/drive/MyDrive/test/merge_df_target.csv', encoding='euc-kr', index=False)"
      ],
      "execution_count": null,
      "outputs": []
    },
    {
      "cell_type": "code",
      "metadata": {
        "colab": {
          "base_uri": "https://localhost:8080/"
        },
        "id": "tZBNLIIAxaR7",
        "outputId": "c894b912-268c-43da-9eb4-6814d5651ce3"
      },
      "source": [
        "df.info()"
      ],
      "execution_count": null,
      "outputs": [
        {
          "output_type": "stream",
          "name": "stdout",
          "text": [
            "<class 'pandas.core.frame.DataFrame'>\n",
            "RangeIndex: 5363799 entries, 0 to 5363798\n",
            "Data columns (total 32 columns):\n",
            " #   Column            Dtype  \n",
            "---  ------            -----  \n",
            " 0   HCHK_YEAR         float64\n",
            " 1   SEX               float64\n",
            " 2   AGE_GROUP         float64\n",
            " 3   SIDO              float64\n",
            " 4   HEIGHT            float64\n",
            " 5   WEIGHT            float64\n",
            " 6   WAIST             float64\n",
            " 7   BP_HIGH           float64\n",
            " 8   BP_LWST           float64\n",
            " 9   BLDS              float64\n",
            " 10  TOT_CHOLE         float64\n",
            " 11  TRIGLYCERIDE      float64\n",
            " 12  HDL_CHOLE         float64\n",
            " 13  LDL_CHOLE         float64\n",
            " 14  HMG               float64\n",
            " 15  OLIG_PROTE_CD     float64\n",
            " 16  CREATININE        float64\n",
            " 17  SGOT_AST          float64\n",
            " 18  SGPT_ALT          float64\n",
            " 19  GAMMA_GTP         float64\n",
            " 20  SMK_STAT_TYPE_CD  float64\n",
            " 21  DRK_YN            float64\n",
            " 22  BMI               float64\n",
            " 23  eGFR              float64\n",
            " 24  t_diabetes        object \n",
            " 25  t_anemia          object \n",
            " 26  t_liver           object \n",
            " 27  t_egfr            object \n",
            " 28  t_abdominal       object \n",
            " 29  t_bmi             object \n",
            " 30  t_hyperlipidemia  object \n",
            " 31  t_hypertension    object \n",
            "dtypes: float64(24), object(8)\n",
            "memory usage: 1.3+ GB\n"
          ]
        }
      ]
    },
    {
      "cell_type": "code",
      "metadata": {
        "id": "Jp1JOlHFbt4_"
      },
      "source": [
        "def 건강예측() :\n",
        "  sex = input(\"[1/6]성별을 입력하세요(남자/여자): \")\n",
        "  age = input(\"[2/6]나이를 입력하세요(숫자만): \")\n",
        "  height = input(\"[3/6]키(cm)를 입력하세요: \")\n",
        "  weight = input(\"[4/6]몸무게(kg)를 입력하세요: \")\n",
        "  흡연여부 = input(\"[5/6]흡연여부를 입력하세요(안핌/핌): \")\n",
        "  음주여부 = input(\"[6/6]음주여부를 입력하세요(안함/함): \")\n",
        "  data=[sex, age, height, weight, 흡연여부, 음주여부]#list\n",
        "  data=pd.DataFrame([data],columns=['SEX', 'AGE_GROUP','HEIGHT', 'WEIGHT','SMK_STAT_TYPE_CD', 'DRK_YN'])#.astype('category') 원핫 안함 #data3=pd.get_dummies(data2)\n",
        "  data=data.replace(['남자','안핌','안함'],0)\n",
        "  data=data.replace(['여자','핌','함'],1)\n",
        "  predicted_df = pd.DataFrame(model.predict(np.asarray(data).astype('float')),columns=['WAIST', 'BP_HIGH', 'BP_LWST', 'BLDS', 'TOT_CHOLE', 'TRIGLYCERIDE',\n",
        "        'HDL_CHOLE', 'LDL_CHOLE', 'HMG', 'CREATININE', 'SGOT_AST', 'SGPT_ALT','GAMMA_GTP', 'BMI', 'eGFR'])#list\n",
        "  scaler = RobustScaler()\n",
        "  scaler.fit(df2_log1p)\n",
        "  predicted_df_rescaled = scaler.inverse_transform(predicted_df)\n",
        "  predicted_df_rescaled_expm1 = np.expm1(predicted_df_rescaled)\n",
        "  pred_df = pd.DataFrame(predicted_df_rescaled_expm1,columns=['WAIST', 'BP_HIGH', 'BP_LWST', 'BLDS', 'TOT_CHOLE', 'TRIGLYCERIDE',\n",
        "        'HDL_CHOLE', 'LDL_CHOLE', 'HMG', 'CREATININE', 'SGOT_AST', 'SGPT_ALT','GAMMA_GTP', 'BMI', 'eGFR'])\n",
        "  pred_df\n",
        "\n",
        "  #아산병원 정보\n",
        "  #당뇨병 https://www.amc.seoul.kr/asan/healthinfo/disease/diseaseDetail.do?contentId=31596\n",
        "  #정상수치 : 공복혈당 126 미만\n",
        "  #0:정상 1:의심\n",
        "  pred_df['t_diabetes'] = np.where(pred_df['BLDS']>=126, '의심','정상')\n",
        "  print('당뇨: ',pred_df['t_diabetes'][0], ' 질병에 관련 된 링크 클릭→ https://www.amc.seoul.kr/asan/healthinfo/disease/diseaseDetail.do?contentId=31596')\n",
        "\n",
        "  #빈혈 https://www.amc.seoul.kr/asan/healthinfo/management/managementDetail.do?managementId=119\n",
        "  #정상수치 : 혈색소(헤모글로빈) 남자일 때 13~17, 여자일 때 12~16 \n",
        "  #0:정상 1:의심\n",
        "  conditions = [\n",
        "              (data['SEX'] == 0) & (pred_df['HMG']<13),\n",
        "              (data['SEX'] == 1) & (pred_df['HMG']<12),\n",
        "              (data['SEX'] == 0) & (pred_df['HMG']>17),\n",
        "              (data['SEX'] == 1) & (pred_df['HMG']>16),\n",
        "  ]\n",
        "  vals = ['의심','의심','의심','의심']\n",
        "\n",
        "  pred_df['t_anemia'] = np.select(conditions, vals)\n",
        "  pred_df['t_anemia'] = np.where(pred_df['t_anemia']=='0', '정상',pred_df['t_anemia'])\n",
        "  print('빈혈: ',pred_df['t_anemia'][0], ' 질병에 관련 된 링크 클릭→ https://www.amc.seoul.kr/asan/healthinfo/management/managementDetail.do?managementId=119')\n",
        "\n",
        "  #간수치 https://www.amc.seoul.kr/asan/healthinfo/management/managementDetail.do?managementId=36\n",
        "  #정상수치 : AST&ALT 40이하, GTP 남자일 때 10~71, 여자일 때 6~42\n",
        "  #0:정상 1:의심\n",
        "  conditions = [\n",
        "              (data['SEX'] == 0) & (pred_df['GAMMA_GTP']<10) & (pred_df['SGOT_AST']>40) & (pred_df['SGPT_ALT']>40),\n",
        "              (data['SEX'] == 0) & (pred_df['GAMMA_GTP']>71) & (pred_df['SGOT_AST']>40) & (pred_df['SGPT_ALT']>40),\n",
        "              (data['SEX'] == 1) & (pred_df['GAMMA_GTP']<6) & (pred_df['SGOT_AST']>40) & (pred_df['SGPT_ALT']>40),\n",
        "              (data['SEX'] == 1) & (pred_df['GAMMA_GTP']>42) & (pred_df['SGOT_AST']>40) & (pred_df['SGPT_ALT']>40)\n",
        "  ]\n",
        "  vals = ['의심','의심','의심','의심']\n",
        "\n",
        "  pred_df['t_liver'] = np.select(conditions, vals)\n",
        "  pred_df['t_liver'] = np.where(pred_df['t_liver']=='0', '정상', pred_df['t_liver'])\n",
        "  print('간수치: ',pred_df['t_liver'][0], ' 질병에 관련 된 링크 클릭→ https://www.amc.seoul.kr/asan/healthinfo/management/managementDetail.do?managementId=36')\n",
        "\n",
        "  #사구체여과율 https://www.amc.seoul.kr/asan/healthinfo/body/bodyDetail.do?bodyId=133\n",
        "  # 정상 사구체 여과율은 분당 90~120ml\n",
        "  #0:정상 1:의심\n",
        "\n",
        "  conditions = [\n",
        "              (pred_df['eGFR']<90),\n",
        "              (pred_df['eGFR']>120)\n",
        "  ]\n",
        "  vals = ['의심', '의심']\n",
        "  pred_df['t_egfr'] = np.select(conditions, vals)\n",
        "  pred_df['t_egfr'] = np.where(pred_df['t_egfr']=='0', '정상',pred_df['t_egfr'])\n",
        "  print('신장수치: ',pred_df['t_egfr'][0], ' 질병에 관련 된 링크 클릭→ https://www.amc.seoul.kr/asan/healthinfo/body/bodyDetail.do?bodyId=133')\n",
        "\n",
        "  #복부비만 https://www.amc.seoul.kr/asan/healthstory/medicalcolumn/medicalColumnDetail.do?medicalColumnId=33912\n",
        "  #정상수치 : BMI 25미만, WAIST 남자일 때 90미만, 여자일 때 85미만\n",
        "  #0:정상 1:의심\n",
        "  conditions = [\n",
        "              (data['SEX'] == 0) & (pred_df['BMI']>=25) & (pred_df['WAIST']>=90),\n",
        "              (data['SEX'] == 1) & (pred_df['BMI']>=25) & (pred_df['WAIST']>=85)\n",
        "  ]\n",
        "  vals = ['의심', '의심']\n",
        "\n",
        "  pred_df['t_abdominal'] = np.select(conditions, vals)\n",
        "  pred_df['t_abdominal'] = np.where(pred_df['t_abdominal']=='0', '정상',pred_df['t_abdominal'])\n",
        "  print('복부비만: ',pred_df['t_abdominal'][0], ' 질병에 관련 된 링크 클릭→ https://www.amc.seoul.kr/asan/healthstory/medicalcolumn/medicalColumnDetail.do?medicalColumnId=33912')\n",
        "\n",
        "  #체질량지수 https://www.amc.seoul.kr/asan/healthinfo/management/managementDetail.do?managementId=143\n",
        "  # 저체중 <18.5 # 정상 18.5~22.9 # 위험체중 23~24.9 # 1단계 비만 25~29.9 # 2단계 비만 >=30\n",
        "  #0:정상 1:저체중 2:위험체중 3:1단계 비만 4:2단계 비만\n",
        "  conditions = [\n",
        "              (pred_df['BMI']<18.5),(pred_df['BMI']<23),(pred_df['BMI']<25),(pred_df['BMI']<30),(pred_df['BMI']>=30)\n",
        "              ]\n",
        "  vals = ['저체중', '정상', '위험체중', '1단계 비만', '2단계 비만']\n",
        "\n",
        "  pred_df['t_bmi'] = np.select(conditions, vals)\n",
        "  df['t_bmi'] = np.where(df['t_bmi']=='0', '정상',df['t_bmi'])\n",
        "  print('비만: ',pred_df['t_bmi'][0], ' 질병에 관련 된 링크 클릭→ https://www.amc.seoul.kr/asan/healthinfo/management/managementDetail.do?managementId=143')\n",
        "\n",
        "  #고지혈증 http://amc.seoul.kr/asan/depts/stroke/K/content.do?menuId=2191\n",
        "  #정상수치 : 총콜레스테롤<=200,LDL콜레스테롤<=130, HDL콜레스테롤>=60, 중성지방<=200\n",
        "  #경계위험수치 : 총콜레스테롤<240, LDL콜레스테롤<160, 중성지방<400\n",
        "  #고위험수치 : 총콜레스테롤>=240,LDL콜레스테롤>=160, HDL콜레스테롤<35, 중성지방>=400\n",
        "  #0:정상 1:경계 2: 위험\n",
        "  conditions = [\n",
        "              (pred_df['TOT_CHOLE'] <=200) & (pred_df['LDL_CHOLE']<=130) & (pred_df['HDL_CHOLE']>=60)& (pred_df['TRIGLYCERIDE']<=200) ,\n",
        "              (pred_df['TOT_CHOLE'] <240)  & (pred_df['LDL_CHOLE']<160)& (pred_df['TRIGLYCERIDE']<400),\n",
        "              (pred_df['TOT_CHOLE'] >=240) & (pred_df['LDL_CHOLE']>=160) & (pred_df['HDL_CHOLE']<35)& (pred_df['TRIGLYCERIDE']>=400) \n",
        "  ]\n",
        "  vals = ['정상','경계위험','고위험']\n",
        "\n",
        "  pred_df['t_hyperlipidemia'] = np.select(conditions, vals) \n",
        "  df['t_hyperlipidemia'] = np.where(df['t_hyperlipidemia']=='0', '정상',df['t_hyperlipidemia'])\n",
        "\n",
        "  print('고지혈증: ',pred_df['t_hyperlipidemia'][0], ' 질병에 관련 된 링크 클릭→ http://amc.seoul.kr/asan/depts/stroke/K/content.do?menuId=2191')\n",
        "\n",
        "  #고혈압 https://www.amc.seoul.kr/asan/healthinfo/disease/diseaseDetail.do?contentId=31322\n",
        "  # ① 정상 혈압 : 수축기 혈압 120mmHg 미만, 확장기 혈압 80mmHg 미만\n",
        "  # ② 고혈압 전 단계 : 수축기 혈압 120~139mmHg이거나, 확장기 혈압 80~89mmHg\n",
        "  # ③ 1기 고혈압(경도 고혈압) : 수축기 혈압 140~159mmHg이거나, 확장기 혈압 90~99mmHg\n",
        "  # ④ 2기 고혈압(중등도 이상 고혈압) : 수축기 혈압 160mmHg 이상이거나, 확장기 혈압 100mmHg 이상\n",
        "\n",
        "  #0:정상 1:고혈압 전 단계 2:경도 고혈압 3:중등도 이상 고혈압\n",
        "  conditions = [\n",
        "              (pred_df['BP_HIGH']<120) & (pred_df['BP_LWST']<80),\n",
        "              (pred_df['BP_HIGH']<140) & (pred_df['BP_LWST']<90),\n",
        "              (pred_df['BP_HIGH']<160) & (pred_df['BP_LWST']<100),\n",
        "              (pred_df['BP_HIGH']>=160) & (pred_df['BP_LWST']>=100)\n",
        "  ]\n",
        "  vals = ['정상','고혈압 전 단계','경도 고혈압','중등도 이상 고혈압']\n",
        "\n",
        "  pred_df['t_hypertension'] = np.select(conditions, vals)\n",
        "  df['t_hypertension'] = np.where(df['t_hypertension']=='0', '정상',df['t_hypertension'])\n",
        "  print('고혈압: ',pred_df['t_hypertension'][0], ' 질병에 관련 된 링크 클릭→ https://www.amc.seoul.kr/asan/healthinfo/disease/diseaseDetail.do?contentId=31322')"
      ],
      "execution_count": null,
      "outputs": []
    },
    {
      "cell_type": "markdown",
      "metadata": {
        "id": "oWAVNn7PfYgb"
      },
      "source": [
        "# 모델 구현"
      ]
    },
    {
      "cell_type": "code",
      "metadata": {
        "colab": {
          "base_uri": "https://localhost:8080/"
        },
        "id": "tUeWL3zScY4v",
        "outputId": "05ff2867-816f-48f2-ff4c-fa34f7b520de"
      },
      "source": [
        "건강예측()"
      ],
      "execution_count": null,
      "outputs": [
        {
          "output_type": "stream",
          "name": "stdout",
          "text": [
            "[1/6]성별을 입력하세요(남자/여자): 여자\n",
            "[2/6]나이를 입력하세요(숫자만): 27\n",
            "[3/6]키(cm)를 입력하세요: 169\n",
            "[4/6]몸무게(kg)를 입력하세요: 68\n",
            "[5/6]흡연여부를 입력하세요(안핌/핌): 핌\n",
            "[6/6]음주여부를 입력하세요(안함/함): 안함\n",
            "당뇨:  정상  질병에 관련 된 링크 클릭→ https://www.amc.seoul.kr/asan/healthinfo/disease/diseaseDetail.do?contentId=31596\n",
            "빈혈:  정상  질병에 관련 된 링크 클릭→ https://www.amc.seoul.kr/asan/healthinfo/management/managementDetail.do?managementId=119\n",
            "간수치:  정상  질병에 관련 된 링크 클릭→ https://www.amc.seoul.kr/asan/healthinfo/management/managementDetail.do?managementId=36\n",
            "신장수치:  정상  질병에 관련 된 링크 클릭→ https://www.amc.seoul.kr/asan/healthinfo/body/bodyDetail.do?bodyId=133\n",
            "복부비만:  정상  질병에 관련 된 링크 클릭→ https://www.amc.seoul.kr/asan/healthstory/medicalcolumn/medicalColumnDetail.do?medicalColumnId=33912\n",
            "비만:  위험체중  질병에 관련 된 링크 클릭→ https://www.amc.seoul.kr/asan/healthinfo/management/managementDetail.do?managementId=143\n",
            "고지혈증:  경계위험  질병에 관련 된 링크 클릭→ http://amc.seoul.kr/asan/depts/stroke/K/content.do?menuId=2191\n",
            "고혈압:  정상  질병에 관련 된 링크 클릭→ https://www.amc.seoul.kr/asan/healthinfo/disease/diseaseDetail.do?contentId=31322\n"
          ]
        }
      ]
    },
    {
      "cell_type": "code",
      "metadata": {
        "colab": {
          "base_uri": "https://localhost:8080/"
        },
        "id": "634Lk_UleUlY",
        "outputId": "a7d6e46a-b8c5-4661-f714-9e1873032f2f"
      },
      "source": [
        "건강예측()"
      ],
      "execution_count": null,
      "outputs": [
        {
          "output_type": "stream",
          "name": "stdout",
          "text": [
            "[1/6]성별을 입력하세요(남자/여자): 남자\n",
            "[2/6]나이를 입력하세요(숫자만): 30\n",
            "[3/6]키(cm)를 입력하세요: 175\n",
            "[4/6]몸무게(kg)를 입력하세요: 100\n",
            "[5/6]흡연여부를 입력하세요(안핌/핌): 안핌\n",
            "[6/6]음주여부를 입력하세요(안함/함): 함\n",
            "당뇨:  정상  질병에 관련 된 링크 클릭→ https://www.amc.seoul.kr/asan/healthinfo/disease/diseaseDetail.do?contentId=31596\n",
            "빈혈:  정상  질병에 관련 된 링크 클릭→ https://www.amc.seoul.kr/asan/healthinfo/management/managementDetail.do?managementId=119\n",
            "간수치:  정상  질병에 관련 된 링크 클릭→ https://www.amc.seoul.kr/asan/healthinfo/management/managementDetail.do?managementId=36\n",
            "신장수치:  의심  질병에 관련 된 링크 클릭→ https://www.amc.seoul.kr/asan/healthinfo/body/bodyDetail.do?bodyId=133\n",
            "복부비만:  의심  질병에 관련 된 링크 클릭→ https://www.amc.seoul.kr/asan/healthstory/medicalcolumn/medicalColumnDetail.do?medicalColumnId=33912\n",
            "비만:  2단계 비만  질병에 관련 된 링크 클릭→ https://www.amc.seoul.kr/asan/healthinfo/management/managementDetail.do?managementId=143\n",
            "고지혈증:  경계위험  질병에 관련 된 링크 클릭→ http://amc.seoul.kr/asan/depts/stroke/K/content.do?menuId=2191\n",
            "고혈압:  고혈압 전 단계  질병에 관련 된 링크 클릭→ https://www.amc.seoul.kr/asan/healthinfo/disease/diseaseDetail.do?contentId=31322\n"
          ]
        }
      ]
    },
    {
      "cell_type": "code",
      "metadata": {
        "colab": {
          "base_uri": "https://localhost:8080/"
        },
        "id": "Odk0tw9XFC6Z",
        "outputId": "3d43a8d3-0b59-4cb5-e22c-3ce977ed6278"
      },
      "source": [
        "건강예측()"
      ],
      "execution_count": null,
      "outputs": [
        {
          "output_type": "stream",
          "name": "stdout",
          "text": [
            "[1/6]성별을 입력하세요(남자/여자): 남자\n",
            "[2/6]나이를 입력하세요(숫자만): 70\n",
            "[3/6]키(cm)를 입력하세요: 165\n",
            "[4/6]몸무게(kg)를 입력하세요: 45\n",
            "[5/6]흡연여부를 입력하세요(안핌/핌): 핌\n",
            "[6/6]음주여부를 입력하세요(안함/함): 안함\n",
            "당뇨:  정상  질병에 관련 된 링크 클릭→ https://www.amc.seoul.kr/asan/healthinfo/disease/diseaseDetail.do?contentId=31596\n",
            "빈혈:  정상  질병에 관련 된 링크 클릭→ https://www.amc.seoul.kr/asan/healthinfo/management/managementDetail.do?managementId=119\n",
            "간수치:  정상  질병에 관련 된 링크 클릭→ https://www.amc.seoul.kr/asan/healthinfo/management/managementDetail.do?managementId=36\n",
            "신장수치:  의심  질병에 관련 된 링크 클릭→ https://www.amc.seoul.kr/asan/healthinfo/body/bodyDetail.do?bodyId=133\n",
            "복부비만:  정상  질병에 관련 된 링크 클릭→ https://www.amc.seoul.kr/asan/healthstory/medicalcolumn/medicalColumnDetail.do?medicalColumnId=33912\n",
            "비만:  저체중  질병에 관련 된 링크 클릭→ https://www.amc.seoul.kr/asan/healthinfo/management/managementDetail.do?managementId=143\n",
            "고지혈증:  경계위험  질병에 관련 된 링크 클릭→ http://amc.seoul.kr/asan/depts/stroke/K/content.do?menuId=2191\n",
            "고혈압:  고혈압 전 단계  질병에 관련 된 링크 클릭→ https://www.amc.seoul.kr/asan/healthinfo/disease/diseaseDetail.do?contentId=31322\n"
          ]
        }
      ]
    },
    {
      "cell_type": "code",
      "metadata": {
        "colab": {
          "base_uri": "https://localhost:8080/"
        },
        "id": "-W0uJCLmFaMs",
        "outputId": "328d3ad9-9f78-41ee-d92c-a189ac971361"
      },
      "source": [
        "건강예측()"
      ],
      "execution_count": null,
      "outputs": [
        {
          "output_type": "stream",
          "name": "stdout",
          "text": [
            "[1/6]성별을 입력하세요(남자/여자): 여자\n",
            "[2/6]나이를 입력하세요(숫자만): 35\n",
            "[3/6]키(cm)를 입력하세요: 160\n",
            "[4/6]몸무게(kg)를 입력하세요: 90\n",
            "[5/6]흡연여부를 입력하세요(안핌/핌): 안핌\n",
            "[6/6]음주여부를 입력하세요(안함/함): 함\n",
            "당뇨:  정상  질병에 관련 된 링크 클릭→ https://www.amc.seoul.kr/asan/healthinfo/disease/diseaseDetail.do?contentId=31596\n",
            "빈혈:  정상  질병에 관련 된 링크 클릭→ https://www.amc.seoul.kr/asan/healthinfo/management/managementDetail.do?managementId=119\n",
            "간수치:  정상  질병에 관련 된 링크 클릭→ https://www.amc.seoul.kr/asan/healthinfo/management/managementDetail.do?managementId=36\n",
            "신장수치:  의심  질병에 관련 된 링크 클릭→ https://www.amc.seoul.kr/asan/healthinfo/body/bodyDetail.do?bodyId=133\n",
            "복부비만:  의심  질병에 관련 된 링크 클릭→ https://www.amc.seoul.kr/asan/healthstory/medicalcolumn/medicalColumnDetail.do?medicalColumnId=33912\n",
            "비만:  2단계 비만  질병에 관련 된 링크 클릭→ https://www.amc.seoul.kr/asan/healthinfo/management/managementDetail.do?managementId=143\n",
            "고지혈증:  경계위험  질병에 관련 된 링크 클릭→ http://amc.seoul.kr/asan/depts/stroke/K/content.do?menuId=2191\n",
            "고혈압:  고혈압 전 단계  질병에 관련 된 링크 클릭→ https://www.amc.seoul.kr/asan/healthinfo/disease/diseaseDetail.do?contentId=31322\n"
          ]
        }
      ]
    }
  ]
}