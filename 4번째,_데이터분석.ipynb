{
  "nbformat": 4,
  "nbformat_minor": 0,
  "metadata": {
    "colab": {
      "name": "4번째, 데이터분석.ipynb",
      "provenance": [],
      "collapsed_sections": [],
      "mount_file_id": "10L1QQWpuYMLYKAniJMnzEFkUKN8Wl9qm",
      "authorship_tag": "ABX9TyOovDFLcPcXYpbNt0lG35EC",
      "include_colab_link": true
    },
    "kernelspec": {
      "name": "python3",
      "display_name": "Python 3"
    },
    "language_info": {
      "name": "python"
    },
    "accelerator": "GPU"
  },
  "cells": [
    {
      "cell_type": "markdown",
      "metadata": {
        "id": "view-in-github",
        "colab_type": "text"
      },
      "source": [
        "<a href=\"https://colab.research.google.com/github/danawa3000/CAPSTONE/blob/main/4%EB%B2%88%EC%A7%B8%2C_%EB%8D%B0%EC%9D%B4%ED%84%B0%EB%B6%84%EC%84%9D.ipynb\" target=\"_parent\"><img src=\"https://colab.research.google.com/assets/colab-badge.svg\" alt=\"Open In Colab\"/></a>"
      ]
    },
    {
      "cell_type": "code",
      "metadata": {
        "colab": {
          "base_uri": "https://localhost:8080/"
        },
        "id": "B8vImYzOFgX7",
        "outputId": "6e7a64ac-7136-45be-b02e-2980be2e9724"
      },
      "source": [
        "import matplotlib.pyplot as plt \n",
        "# 네이버 나눔 폰트 설치(네이버 나눔폰트 설치 실행 후 런타임 재시작 필수)\n",
        "!sudo apt-get install -y fonts-nanum\n",
        "!sudo fc-cache -fv\n",
        "!rm ~/.cache/matplotlib -rf\n",
        "plt.rc('font', family='NanumBarunGothic') \n",
        "%config InlineBackend.figure_format = 'retina'\n",
        "#실행후 런타임 재시작"
      ],
      "execution_count": 3,
      "outputs": [
        {
          "output_type": "stream",
          "name": "stdout",
          "text": [
            "Reading package lists... Done\n",
            "Building dependency tree       \n",
            "Reading state information... Done\n",
            "fonts-nanum is already the newest version (20170925-1).\n",
            "0 upgraded, 0 newly installed, 0 to remove and 37 not upgraded.\n",
            "/usr/share/fonts: caching, new cache contents: 0 fonts, 1 dirs\n",
            "/usr/share/fonts/truetype: caching, new cache contents: 0 fonts, 3 dirs\n",
            "/usr/share/fonts/truetype/humor-sans: caching, new cache contents: 1 fonts, 0 dirs\n",
            "/usr/share/fonts/truetype/liberation: caching, new cache contents: 16 fonts, 0 dirs\n",
            "/usr/share/fonts/truetype/nanum: caching, new cache contents: 10 fonts, 0 dirs\n",
            "/usr/local/share/fonts: caching, new cache contents: 0 fonts, 0 dirs\n",
            "/root/.local/share/fonts: skipping, no such directory\n",
            "/root/.fonts: skipping, no such directory\n",
            "/var/cache/fontconfig: cleaning cache directory\n",
            "/root/.cache/fontconfig: not cleaning non-existent cache directory\n",
            "/root/.fontconfig: not cleaning non-existent cache directory\n",
            "fc-cache: succeeded\n"
          ]
        }
      ]
    },
    {
      "cell_type": "code",
      "metadata": {
        "id": "XmpVF73E6aL5"
      },
      "source": [
        "#라이브러리 호출\n",
        "import numpy as np\n",
        "import pandas as pd\n",
        "import seaborn as sns\n",
        "import tensorflow as tf\n",
        "from sklearn.metrics import confusion_matrix"
      ],
      "execution_count": 1,
      "outputs": []
    },
    {
      "cell_type": "code",
      "metadata": {
        "id": "Ns9EsJBy7BPg"
      },
      "source": [
        "#df7 불러오기\n",
        "df7=pd.read_csv('/content/drive/MyDrive/test/전처리.csv', encoding='euc-kr')"
      ],
      "execution_count": 2,
      "outputs": []
    },
    {
      "cell_type": "code",
      "metadata": {
        "colab": {
          "base_uri": "https://localhost:8080/",
          "height": 608
        },
        "id": "th6RKUfv7YXh",
        "outputId": "d8dc779f-14f1-406d-9136-c2fce7819419"
      },
      "source": [
        "df7.head()"
      ],
      "execution_count": 3,
      "outputs": [
        {
          "output_type": "execute_result",
          "data": {
            "text/html": [
              "<div>\n",
              "<style scoped>\n",
              "    .dataframe tbody tr th:only-of-type {\n",
              "        vertical-align: middle;\n",
              "    }\n",
              "\n",
              "    .dataframe tbody tr th {\n",
              "        vertical-align: top;\n",
              "    }\n",
              "\n",
              "    .dataframe thead th {\n",
              "        text-align: right;\n",
              "    }\n",
              "</style>\n",
              "<table border=\"1\" class=\"dataframe\">\n",
              "  <thead>\n",
              "    <tr style=\"text-align: right;\">\n",
              "      <th></th>\n",
              "      <th>sex</th>\n",
              "      <th>age</th>\n",
              "      <th>height</th>\n",
              "      <th>weight</th>\n",
              "      <th>smk</th>\n",
              "      <th>drk</th>\n",
              "      <th>prote</th>\n",
              "      <th>waist</th>\n",
              "      <th>bp_high</th>\n",
              "      <th>bp_lwst</th>\n",
              "      <th>blds</th>\n",
              "      <th>tot_chole</th>\n",
              "      <th>triglyceride</th>\n",
              "      <th>hdl_chole</th>\n",
              "      <th>ldl_chole</th>\n",
              "      <th>hmg</th>\n",
              "      <th>creatinine</th>\n",
              "      <th>sgot_ast</th>\n",
              "      <th>sgpt_alt</th>\n",
              "      <th>gamma_gtp</th>\n",
              "      <th>bmi</th>\n",
              "      <th>egfr</th>\n",
              "    </tr>\n",
              "  </thead>\n",
              "  <tbody>\n",
              "    <tr>\n",
              "      <th>0</th>\n",
              "      <td>여자</td>\n",
              "      <td>85세 이상</td>\n",
              "      <td>145~149cm</td>\n",
              "      <td>30~34kg</td>\n",
              "      <td>피우지 않는다</td>\n",
              "      <td>마시지 않는다</td>\n",
              "      <td>-</td>\n",
              "      <td>-1.353882</td>\n",
              "      <td>-0.833293</td>\n",
              "      <td>-0.600104</td>\n",
              "      <td>-1.346497</td>\n",
              "      <td>-1.178767</td>\n",
              "      <td>-0.938286</td>\n",
              "      <td>-1.031234</td>\n",
              "      <td>-0.655184</td>\n",
              "      <td>-3.153017</td>\n",
              "      <td>-0.304837</td>\n",
              "      <td>0.208712</td>\n",
              "      <td>-0.504670</td>\n",
              "      <td>-0.689417</td>\n",
              "      <td>-2.788903</td>\n",
              "      <td>-0.227349</td>\n",
              "    </tr>\n",
              "    <tr>\n",
              "      <th>1</th>\n",
              "      <td>여자</td>\n",
              "      <td>20~24세</td>\n",
              "      <td>140~144cm</td>\n",
              "      <td>40~44kg</td>\n",
              "      <td>피우지 않는다</td>\n",
              "      <td>마시지 않는다</td>\n",
              "      <td>-</td>\n",
              "      <td>-0.406396</td>\n",
              "      <td>-1.451081</td>\n",
              "      <td>-1.307460</td>\n",
              "      <td>-0.148516</td>\n",
              "      <td>-0.831155</td>\n",
              "      <td>-0.214381</td>\n",
              "      <td>-0.128239</td>\n",
              "      <td>-0.944642</td>\n",
              "      <td>-1.721593</td>\n",
              "      <td>0.035960</td>\n",
              "      <td>-0.032242</td>\n",
              "      <td>-0.616204</td>\n",
              "      <td>-0.303664</td>\n",
              "      <td>-1.005895</td>\n",
              "      <td>-0.220577</td>\n",
              "    </tr>\n",
              "    <tr>\n",
              "      <th>2</th>\n",
              "      <td>여자</td>\n",
              "      <td>20~24세</td>\n",
              "      <td>145~149cm</td>\n",
              "      <td>35~39kg</td>\n",
              "      <td>피우지 않는다</td>\n",
              "      <td>마신다</td>\n",
              "      <td>-</td>\n",
              "      <td>-1.880263</td>\n",
              "      <td>-1.519725</td>\n",
              "      <td>-1.610612</td>\n",
              "      <td>-0.102439</td>\n",
              "      <td>1.040601</td>\n",
              "      <td>0.035241</td>\n",
              "      <td>1.886134</td>\n",
              "      <td>0.028991</td>\n",
              "      <td>-0.788056</td>\n",
              "      <td>-0.304837</td>\n",
              "      <td>-0.835422</td>\n",
              "      <td>-0.783505</td>\n",
              "      <td>-0.689417</td>\n",
              "      <td>-2.098252</td>\n",
              "      <td>0.395102</td>\n",
              "    </tr>\n",
              "    <tr>\n",
              "      <th>3</th>\n",
              "      <td>여자</td>\n",
              "      <td>20~24세</td>\n",
              "      <td>145~149cm</td>\n",
              "      <td>40~44kg</td>\n",
              "      <td>피운다</td>\n",
              "      <td>마신다</td>\n",
              "      <td>-</td>\n",
              "      <td>-1.985540</td>\n",
              "      <td>-1.519725</td>\n",
              "      <td>-1.610612</td>\n",
              "      <td>-0.102439</td>\n",
              "      <td>-0.750937</td>\n",
              "      <td>-0.813474</td>\n",
              "      <td>0.983139</td>\n",
              "      <td>-1.049899</td>\n",
              "      <td>-0.788056</td>\n",
              "      <td>-0.134438</td>\n",
              "      <td>-0.594468</td>\n",
              "      <td>-0.671971</td>\n",
              "      <td>-0.659743</td>\n",
              "      <td>-1.407600</td>\n",
              "      <td>0.045846</td>\n",
              "    </tr>\n",
              "    <tr>\n",
              "      <th>4</th>\n",
              "      <td>여자</td>\n",
              "      <td>20~24세</td>\n",
              "      <td>150~154cm</td>\n",
              "      <td>40~44kg</td>\n",
              "      <td>피우지 않는다</td>\n",
              "      <td>마시지 않는다</td>\n",
              "      <td>-</td>\n",
              "      <td>-2.301368</td>\n",
              "      <td>0.196355</td>\n",
              "      <td>0.006201</td>\n",
              "      <td>-0.471049</td>\n",
              "      <td>-0.964852</td>\n",
              "      <td>-0.651220</td>\n",
              "      <td>-0.545006</td>\n",
              "      <td>-0.734127</td>\n",
              "      <td>-0.476877</td>\n",
              "      <td>-0.304837</td>\n",
              "      <td>-0.273196</td>\n",
              "      <td>-0.783505</td>\n",
              "      <td>-0.719090</td>\n",
              "      <td>-1.769809</td>\n",
              "      <td>0.395102</td>\n",
              "    </tr>\n",
              "  </tbody>\n",
              "</table>\n",
              "</div>"
            ],
            "text/plain": [
              "  sex     age     height   weight  ...  sgpt_alt gamma_gtp       bmi      egfr\n",
              "0  여자  85세 이상  145~149cm  30~34kg  ... -0.504670 -0.689417 -2.788903 -0.227349\n",
              "1  여자  20~24세  140~144cm  40~44kg  ... -0.616204 -0.303664 -1.005895 -0.220577\n",
              "2  여자  20~24세  145~149cm  35~39kg  ... -0.783505 -0.689417 -2.098252  0.395102\n",
              "3  여자  20~24세  145~149cm  40~44kg  ... -0.671971 -0.659743 -1.407600  0.045846\n",
              "4  여자  20~24세  150~154cm  40~44kg  ... -0.783505 -0.719090 -1.769809  0.395102\n",
              "\n",
              "[5 rows x 22 columns]"
            ]
          },
          "metadata": {},
          "execution_count": 3
        }
      ]
    },
    {
      "cell_type": "code",
      "metadata": {
        "colab": {
          "base_uri": "https://localhost:8080/"
        },
        "id": "QDblFzRYG3fP",
        "outputId": "e6cfa989-ac95-4c78-9a9b-7f5388779ebc"
      },
      "source": [
        "df7.shape"
      ],
      "execution_count": 5,
      "outputs": [
        {
          "output_type": "execute_result",
          "data": {
            "text/plain": [
              "(2853545, 22)"
            ]
          },
          "metadata": {},
          "execution_count": 5
        }
      ]
    },
    {
      "cell_type": "code",
      "metadata": {
        "colab": {
          "base_uri": "https://localhost:8080/"
        },
        "id": "1ni3VElJG8cs",
        "outputId": "1c4a140c-dcfa-462a-fe3d-0d52cdaba99e"
      },
      "source": [
        "df7.dtypes"
      ],
      "execution_count": 6,
      "outputs": [
        {
          "output_type": "execute_result",
          "data": {
            "text/plain": [
              "sex              object\n",
              "age              object\n",
              "height           object\n",
              "weight           object\n",
              "smk              object\n",
              "drk              object\n",
              "prote            object\n",
              "waist           float64\n",
              "bp_high         float64\n",
              "bp_lwst         float64\n",
              "blds            float64\n",
              "tot_chole       float64\n",
              "triglyceride    float64\n",
              "hdl_chole       float64\n",
              "ldl_chole       float64\n",
              "hmg             float64\n",
              "creatinine      float64\n",
              "sgot_ast        float64\n",
              "sgpt_alt        float64\n",
              "gamma_gtp       float64\n",
              "bmi             float64\n",
              "egfr            float64\n",
              "dtype: object"
            ]
          },
          "metadata": {},
          "execution_count": 6
        }
      ]
    },
    {
      "cell_type": "code",
      "metadata": {
        "id": "xWw2R4Hh7oNM"
      },
      "source": [
        "temp=df7[['sex',\t'age',\t'height',\t'weight',\t'smk',\t'drk',\t'prote']]"
      ],
      "execution_count": 7,
      "outputs": []
    },
    {
      "cell_type": "code",
      "metadata": {
        "colab": {
          "base_uri": "https://localhost:8080/",
          "height": 206
        },
        "id": "gPbW2O6CESHA",
        "outputId": "1fd97eef-322e-481a-aa3b-681ded8d1b0a"
      },
      "source": [
        "temp.head()"
      ],
      "execution_count": 8,
      "outputs": [
        {
          "output_type": "execute_result",
          "data": {
            "text/html": [
              "<div>\n",
              "<style scoped>\n",
              "    .dataframe tbody tr th:only-of-type {\n",
              "        vertical-align: middle;\n",
              "    }\n",
              "\n",
              "    .dataframe tbody tr th {\n",
              "        vertical-align: top;\n",
              "    }\n",
              "\n",
              "    .dataframe thead th {\n",
              "        text-align: right;\n",
              "    }\n",
              "</style>\n",
              "<table border=\"1\" class=\"dataframe\">\n",
              "  <thead>\n",
              "    <tr style=\"text-align: right;\">\n",
              "      <th></th>\n",
              "      <th>sex</th>\n",
              "      <th>age</th>\n",
              "      <th>height</th>\n",
              "      <th>weight</th>\n",
              "      <th>smk</th>\n",
              "      <th>drk</th>\n",
              "      <th>prote</th>\n",
              "    </tr>\n",
              "  </thead>\n",
              "  <tbody>\n",
              "    <tr>\n",
              "      <th>0</th>\n",
              "      <td>여자</td>\n",
              "      <td>85세 이상</td>\n",
              "      <td>145~149cm</td>\n",
              "      <td>30~34kg</td>\n",
              "      <td>피우지 않는다</td>\n",
              "      <td>마시지 않는다</td>\n",
              "      <td>-</td>\n",
              "    </tr>\n",
              "    <tr>\n",
              "      <th>1</th>\n",
              "      <td>여자</td>\n",
              "      <td>20~24세</td>\n",
              "      <td>140~144cm</td>\n",
              "      <td>40~44kg</td>\n",
              "      <td>피우지 않는다</td>\n",
              "      <td>마시지 않는다</td>\n",
              "      <td>-</td>\n",
              "    </tr>\n",
              "    <tr>\n",
              "      <th>2</th>\n",
              "      <td>여자</td>\n",
              "      <td>20~24세</td>\n",
              "      <td>145~149cm</td>\n",
              "      <td>35~39kg</td>\n",
              "      <td>피우지 않는다</td>\n",
              "      <td>마신다</td>\n",
              "      <td>-</td>\n",
              "    </tr>\n",
              "    <tr>\n",
              "      <th>3</th>\n",
              "      <td>여자</td>\n",
              "      <td>20~24세</td>\n",
              "      <td>145~149cm</td>\n",
              "      <td>40~44kg</td>\n",
              "      <td>피운다</td>\n",
              "      <td>마신다</td>\n",
              "      <td>-</td>\n",
              "    </tr>\n",
              "    <tr>\n",
              "      <th>4</th>\n",
              "      <td>여자</td>\n",
              "      <td>20~24세</td>\n",
              "      <td>150~154cm</td>\n",
              "      <td>40~44kg</td>\n",
              "      <td>피우지 않는다</td>\n",
              "      <td>마시지 않는다</td>\n",
              "      <td>-</td>\n",
              "    </tr>\n",
              "  </tbody>\n",
              "</table>\n",
              "</div>"
            ],
            "text/plain": [
              "  sex     age     height   weight      smk      drk prote\n",
              "0  여자  85세 이상  145~149cm  30~34kg  피우지 않는다  마시지 않는다     -\n",
              "1  여자  20~24세  140~144cm  40~44kg  피우지 않는다  마시지 않는다     -\n",
              "2  여자  20~24세  145~149cm  35~39kg  피우지 않는다      마신다     -\n",
              "3  여자  20~24세  145~149cm  40~44kg      피운다      마신다     -\n",
              "4  여자  20~24세  150~154cm  40~44kg  피우지 않는다  마시지 않는다     -"
            ]
          },
          "metadata": {},
          "execution_count": 8
        }
      ]
    },
    {
      "cell_type": "code",
      "metadata": {
        "colab": {
          "base_uri": "https://localhost:8080/",
          "height": 296
        },
        "id": "f5qzM1JIHWf0",
        "outputId": "b0ebecaa-38cd-4b5b-b796-4fa4ac8b946b"
      },
      "source": [
        "X = pd.get_dummies(temp)\n",
        "X.head()"
      ],
      "execution_count": 10,
      "outputs": [
        {
          "output_type": "execute_result",
          "data": {
            "text/html": [
              "<div>\n",
              "<style scoped>\n",
              "    .dataframe tbody tr th:only-of-type {\n",
              "        vertical-align: middle;\n",
              "    }\n",
              "\n",
              "    .dataframe tbody tr th {\n",
              "        vertical-align: top;\n",
              "    }\n",
              "\n",
              "    .dataframe thead th {\n",
              "        text-align: right;\n",
              "    }\n",
              "</style>\n",
              "<table border=\"1\" class=\"dataframe\">\n",
              "  <thead>\n",
              "    <tr style=\"text-align: right;\">\n",
              "      <th></th>\n",
              "      <th>sex_남자</th>\n",
              "      <th>sex_여자</th>\n",
              "      <th>age_20~24세</th>\n",
              "      <th>age_25~29세</th>\n",
              "      <th>age_30~34세</th>\n",
              "      <th>age_35~39세</th>\n",
              "      <th>age_40~44세</th>\n",
              "      <th>age_45~49세</th>\n",
              "      <th>age_50~54세</th>\n",
              "      <th>age_55~59세</th>\n",
              "      <th>age_60~64세</th>\n",
              "      <th>age_65~69세</th>\n",
              "      <th>age_70~74세</th>\n",
              "      <th>age_75~79세</th>\n",
              "      <th>age_80~84세</th>\n",
              "      <th>age_85세 이상</th>\n",
              "      <th>height_120~124cm</th>\n",
              "      <th>height_125~129cm</th>\n",
              "      <th>height_130~134cm</th>\n",
              "      <th>height_135~139cm</th>\n",
              "      <th>height_140~144cm</th>\n",
              "      <th>height_145~149cm</th>\n",
              "      <th>height_150~154cm</th>\n",
              "      <th>height_155~159cm</th>\n",
              "      <th>height_160~164cm</th>\n",
              "      <th>height_165~169cm</th>\n",
              "      <th>height_170~174cm</th>\n",
              "      <th>height_175~179cm</th>\n",
              "      <th>height_180~184cm</th>\n",
              "      <th>height_185~189cm</th>\n",
              "      <th>height_190~194cm</th>\n",
              "      <th>height_195~199cm</th>\n",
              "      <th>height_200cm 이상</th>\n",
              "      <th>weight_100~104kg</th>\n",
              "      <th>weight_105~109kg</th>\n",
              "      <th>weight_110~114kg</th>\n",
              "      <th>weight_115~119kg</th>\n",
              "      <th>weight_120~124kg</th>\n",
              "      <th>weight_125~129kg</th>\n",
              "      <th>weight_130~134kg</th>\n",
              "      <th>weight_135~139kg</th>\n",
              "      <th>weight_140kg 이상</th>\n",
              "      <th>weight_30~34kg</th>\n",
              "      <th>weight_35~39kg</th>\n",
              "      <th>weight_40~44kg</th>\n",
              "      <th>weight_45~49kg</th>\n",
              "      <th>weight_50~54kg</th>\n",
              "      <th>weight_55~59kg</th>\n",
              "      <th>weight_60~64kg</th>\n",
              "      <th>weight_65~69kg</th>\n",
              "      <th>weight_70~74kg</th>\n",
              "      <th>weight_75~79kg</th>\n",
              "      <th>weight_80~84kg</th>\n",
              "      <th>weight_85~89kg</th>\n",
              "      <th>weight_90~94kg</th>\n",
              "      <th>weight_95~99kg</th>\n",
              "      <th>smk_피우지 않는다</th>\n",
              "      <th>smk_피운다</th>\n",
              "      <th>drk_마시지 않는다</th>\n",
              "      <th>drk_마신다</th>\n",
              "      <th>prote_+1</th>\n",
              "      <th>prote_+2</th>\n",
              "      <th>prote_+3</th>\n",
              "      <th>prote_+4</th>\n",
              "      <th>prote_-</th>\n",
              "      <th>prote_±</th>\n",
              "    </tr>\n",
              "  </thead>\n",
              "  <tbody>\n",
              "    <tr>\n",
              "      <th>0</th>\n",
              "      <td>0</td>\n",
              "      <td>1</td>\n",
              "      <td>0</td>\n",
              "      <td>0</td>\n",
              "      <td>0</td>\n",
              "      <td>0</td>\n",
              "      <td>0</td>\n",
              "      <td>0</td>\n",
              "      <td>0</td>\n",
              "      <td>0</td>\n",
              "      <td>0</td>\n",
              "      <td>0</td>\n",
              "      <td>0</td>\n",
              "      <td>0</td>\n",
              "      <td>0</td>\n",
              "      <td>1</td>\n",
              "      <td>0</td>\n",
              "      <td>0</td>\n",
              "      <td>0</td>\n",
              "      <td>0</td>\n",
              "      <td>0</td>\n",
              "      <td>1</td>\n",
              "      <td>0</td>\n",
              "      <td>0</td>\n",
              "      <td>0</td>\n",
              "      <td>0</td>\n",
              "      <td>0</td>\n",
              "      <td>0</td>\n",
              "      <td>0</td>\n",
              "      <td>0</td>\n",
              "      <td>0</td>\n",
              "      <td>0</td>\n",
              "      <td>0</td>\n",
              "      <td>0</td>\n",
              "      <td>0</td>\n",
              "      <td>0</td>\n",
              "      <td>0</td>\n",
              "      <td>0</td>\n",
              "      <td>0</td>\n",
              "      <td>0</td>\n",
              "      <td>0</td>\n",
              "      <td>0</td>\n",
              "      <td>1</td>\n",
              "      <td>0</td>\n",
              "      <td>0</td>\n",
              "      <td>0</td>\n",
              "      <td>0</td>\n",
              "      <td>0</td>\n",
              "      <td>0</td>\n",
              "      <td>0</td>\n",
              "      <td>0</td>\n",
              "      <td>0</td>\n",
              "      <td>0</td>\n",
              "      <td>0</td>\n",
              "      <td>0</td>\n",
              "      <td>0</td>\n",
              "      <td>1</td>\n",
              "      <td>0</td>\n",
              "      <td>1</td>\n",
              "      <td>0</td>\n",
              "      <td>0</td>\n",
              "      <td>0</td>\n",
              "      <td>0</td>\n",
              "      <td>0</td>\n",
              "      <td>1</td>\n",
              "      <td>0</td>\n",
              "    </tr>\n",
              "    <tr>\n",
              "      <th>1</th>\n",
              "      <td>0</td>\n",
              "      <td>1</td>\n",
              "      <td>1</td>\n",
              "      <td>0</td>\n",
              "      <td>0</td>\n",
              "      <td>0</td>\n",
              "      <td>0</td>\n",
              "      <td>0</td>\n",
              "      <td>0</td>\n",
              "      <td>0</td>\n",
              "      <td>0</td>\n",
              "      <td>0</td>\n",
              "      <td>0</td>\n",
              "      <td>0</td>\n",
              "      <td>0</td>\n",
              "      <td>0</td>\n",
              "      <td>0</td>\n",
              "      <td>0</td>\n",
              "      <td>0</td>\n",
              "      <td>0</td>\n",
              "      <td>1</td>\n",
              "      <td>0</td>\n",
              "      <td>0</td>\n",
              "      <td>0</td>\n",
              "      <td>0</td>\n",
              "      <td>0</td>\n",
              "      <td>0</td>\n",
              "      <td>0</td>\n",
              "      <td>0</td>\n",
              "      <td>0</td>\n",
              "      <td>0</td>\n",
              "      <td>0</td>\n",
              "      <td>0</td>\n",
              "      <td>0</td>\n",
              "      <td>0</td>\n",
              "      <td>0</td>\n",
              "      <td>0</td>\n",
              "      <td>0</td>\n",
              "      <td>0</td>\n",
              "      <td>0</td>\n",
              "      <td>0</td>\n",
              "      <td>0</td>\n",
              "      <td>0</td>\n",
              "      <td>0</td>\n",
              "      <td>1</td>\n",
              "      <td>0</td>\n",
              "      <td>0</td>\n",
              "      <td>0</td>\n",
              "      <td>0</td>\n",
              "      <td>0</td>\n",
              "      <td>0</td>\n",
              "      <td>0</td>\n",
              "      <td>0</td>\n",
              "      <td>0</td>\n",
              "      <td>0</td>\n",
              "      <td>0</td>\n",
              "      <td>1</td>\n",
              "      <td>0</td>\n",
              "      <td>1</td>\n",
              "      <td>0</td>\n",
              "      <td>0</td>\n",
              "      <td>0</td>\n",
              "      <td>0</td>\n",
              "      <td>0</td>\n",
              "      <td>1</td>\n",
              "      <td>0</td>\n",
              "    </tr>\n",
              "    <tr>\n",
              "      <th>2</th>\n",
              "      <td>0</td>\n",
              "      <td>1</td>\n",
              "      <td>1</td>\n",
              "      <td>0</td>\n",
              "      <td>0</td>\n",
              "      <td>0</td>\n",
              "      <td>0</td>\n",
              "      <td>0</td>\n",
              "      <td>0</td>\n",
              "      <td>0</td>\n",
              "      <td>0</td>\n",
              "      <td>0</td>\n",
              "      <td>0</td>\n",
              "      <td>0</td>\n",
              "      <td>0</td>\n",
              "      <td>0</td>\n",
              "      <td>0</td>\n",
              "      <td>0</td>\n",
              "      <td>0</td>\n",
              "      <td>0</td>\n",
              "      <td>0</td>\n",
              "      <td>1</td>\n",
              "      <td>0</td>\n",
              "      <td>0</td>\n",
              "      <td>0</td>\n",
              "      <td>0</td>\n",
              "      <td>0</td>\n",
              "      <td>0</td>\n",
              "      <td>0</td>\n",
              "      <td>0</td>\n",
              "      <td>0</td>\n",
              "      <td>0</td>\n",
              "      <td>0</td>\n",
              "      <td>0</td>\n",
              "      <td>0</td>\n",
              "      <td>0</td>\n",
              "      <td>0</td>\n",
              "      <td>0</td>\n",
              "      <td>0</td>\n",
              "      <td>0</td>\n",
              "      <td>0</td>\n",
              "      <td>0</td>\n",
              "      <td>0</td>\n",
              "      <td>1</td>\n",
              "      <td>0</td>\n",
              "      <td>0</td>\n",
              "      <td>0</td>\n",
              "      <td>0</td>\n",
              "      <td>0</td>\n",
              "      <td>0</td>\n",
              "      <td>0</td>\n",
              "      <td>0</td>\n",
              "      <td>0</td>\n",
              "      <td>0</td>\n",
              "      <td>0</td>\n",
              "      <td>0</td>\n",
              "      <td>1</td>\n",
              "      <td>0</td>\n",
              "      <td>0</td>\n",
              "      <td>1</td>\n",
              "      <td>0</td>\n",
              "      <td>0</td>\n",
              "      <td>0</td>\n",
              "      <td>0</td>\n",
              "      <td>1</td>\n",
              "      <td>0</td>\n",
              "    </tr>\n",
              "    <tr>\n",
              "      <th>3</th>\n",
              "      <td>0</td>\n",
              "      <td>1</td>\n",
              "      <td>1</td>\n",
              "      <td>0</td>\n",
              "      <td>0</td>\n",
              "      <td>0</td>\n",
              "      <td>0</td>\n",
              "      <td>0</td>\n",
              "      <td>0</td>\n",
              "      <td>0</td>\n",
              "      <td>0</td>\n",
              "      <td>0</td>\n",
              "      <td>0</td>\n",
              "      <td>0</td>\n",
              "      <td>0</td>\n",
              "      <td>0</td>\n",
              "      <td>0</td>\n",
              "      <td>0</td>\n",
              "      <td>0</td>\n",
              "      <td>0</td>\n",
              "      <td>0</td>\n",
              "      <td>1</td>\n",
              "      <td>0</td>\n",
              "      <td>0</td>\n",
              "      <td>0</td>\n",
              "      <td>0</td>\n",
              "      <td>0</td>\n",
              "      <td>0</td>\n",
              "      <td>0</td>\n",
              "      <td>0</td>\n",
              "      <td>0</td>\n",
              "      <td>0</td>\n",
              "      <td>0</td>\n",
              "      <td>0</td>\n",
              "      <td>0</td>\n",
              "      <td>0</td>\n",
              "      <td>0</td>\n",
              "      <td>0</td>\n",
              "      <td>0</td>\n",
              "      <td>0</td>\n",
              "      <td>0</td>\n",
              "      <td>0</td>\n",
              "      <td>0</td>\n",
              "      <td>0</td>\n",
              "      <td>1</td>\n",
              "      <td>0</td>\n",
              "      <td>0</td>\n",
              "      <td>0</td>\n",
              "      <td>0</td>\n",
              "      <td>0</td>\n",
              "      <td>0</td>\n",
              "      <td>0</td>\n",
              "      <td>0</td>\n",
              "      <td>0</td>\n",
              "      <td>0</td>\n",
              "      <td>0</td>\n",
              "      <td>0</td>\n",
              "      <td>1</td>\n",
              "      <td>0</td>\n",
              "      <td>1</td>\n",
              "      <td>0</td>\n",
              "      <td>0</td>\n",
              "      <td>0</td>\n",
              "      <td>0</td>\n",
              "      <td>1</td>\n",
              "      <td>0</td>\n",
              "    </tr>\n",
              "    <tr>\n",
              "      <th>4</th>\n",
              "      <td>0</td>\n",
              "      <td>1</td>\n",
              "      <td>1</td>\n",
              "      <td>0</td>\n",
              "      <td>0</td>\n",
              "      <td>0</td>\n",
              "      <td>0</td>\n",
              "      <td>0</td>\n",
              "      <td>0</td>\n",
              "      <td>0</td>\n",
              "      <td>0</td>\n",
              "      <td>0</td>\n",
              "      <td>0</td>\n",
              "      <td>0</td>\n",
              "      <td>0</td>\n",
              "      <td>0</td>\n",
              "      <td>0</td>\n",
              "      <td>0</td>\n",
              "      <td>0</td>\n",
              "      <td>0</td>\n",
              "      <td>0</td>\n",
              "      <td>0</td>\n",
              "      <td>1</td>\n",
              "      <td>0</td>\n",
              "      <td>0</td>\n",
              "      <td>0</td>\n",
              "      <td>0</td>\n",
              "      <td>0</td>\n",
              "      <td>0</td>\n",
              "      <td>0</td>\n",
              "      <td>0</td>\n",
              "      <td>0</td>\n",
              "      <td>0</td>\n",
              "      <td>0</td>\n",
              "      <td>0</td>\n",
              "      <td>0</td>\n",
              "      <td>0</td>\n",
              "      <td>0</td>\n",
              "      <td>0</td>\n",
              "      <td>0</td>\n",
              "      <td>0</td>\n",
              "      <td>0</td>\n",
              "      <td>0</td>\n",
              "      <td>0</td>\n",
              "      <td>1</td>\n",
              "      <td>0</td>\n",
              "      <td>0</td>\n",
              "      <td>0</td>\n",
              "      <td>0</td>\n",
              "      <td>0</td>\n",
              "      <td>0</td>\n",
              "      <td>0</td>\n",
              "      <td>0</td>\n",
              "      <td>0</td>\n",
              "      <td>0</td>\n",
              "      <td>0</td>\n",
              "      <td>1</td>\n",
              "      <td>0</td>\n",
              "      <td>1</td>\n",
              "      <td>0</td>\n",
              "      <td>0</td>\n",
              "      <td>0</td>\n",
              "      <td>0</td>\n",
              "      <td>0</td>\n",
              "      <td>1</td>\n",
              "      <td>0</td>\n",
              "    </tr>\n",
              "  </tbody>\n",
              "</table>\n",
              "</div>"
            ],
            "text/plain": [
              "   sex_남자  sex_여자  age_20~24세  age_25~29세  ...  prote_+3  prote_+4  prote_-  prote_±\n",
              "0       0       1           0           0  ...         0         0        1        0\n",
              "1       0       1           1           0  ...         0         0        1        0\n",
              "2       0       1           1           0  ...         0         0        1        0\n",
              "3       0       1           1           0  ...         0         0        1        0\n",
              "4       0       1           1           0  ...         0         0        1        0\n",
              "\n",
              "[5 rows x 66 columns]"
            ]
          },
          "metadata": {},
          "execution_count": 10
        }
      ]
    },
    {
      "cell_type": "code",
      "metadata": {
        "colab": {
          "base_uri": "https://localhost:8080/",
          "height": 206
        },
        "id": "U3qowO82HpQD",
        "outputId": "7d4d1117-6eeb-4eb3-f1fd-abc7d6de07f1"
      },
      "source": [
        "Y=df7[['waist',\t'bp_high',\t'bp_lwst',\t'blds',\t'tot_chole',\t'triglyceride',\t'hdl_chole',\t'ldl_chole',\t'hmg',\t'creatinine',\t'sgot_ast',\t'sgpt_alt',\t'gamma_gtp',\t'bmi',\t'egfr']]\n",
        "Y.head()"
      ],
      "execution_count": 12,
      "outputs": [
        {
          "output_type": "execute_result",
          "data": {
            "text/html": [
              "<div>\n",
              "<style scoped>\n",
              "    .dataframe tbody tr th:only-of-type {\n",
              "        vertical-align: middle;\n",
              "    }\n",
              "\n",
              "    .dataframe tbody tr th {\n",
              "        vertical-align: top;\n",
              "    }\n",
              "\n",
              "    .dataframe thead th {\n",
              "        text-align: right;\n",
              "    }\n",
              "</style>\n",
              "<table border=\"1\" class=\"dataframe\">\n",
              "  <thead>\n",
              "    <tr style=\"text-align: right;\">\n",
              "      <th></th>\n",
              "      <th>waist</th>\n",
              "      <th>bp_high</th>\n",
              "      <th>bp_lwst</th>\n",
              "      <th>blds</th>\n",
              "      <th>tot_chole</th>\n",
              "      <th>triglyceride</th>\n",
              "      <th>hdl_chole</th>\n",
              "      <th>ldl_chole</th>\n",
              "      <th>hmg</th>\n",
              "      <th>creatinine</th>\n",
              "      <th>sgot_ast</th>\n",
              "      <th>sgpt_alt</th>\n",
              "      <th>gamma_gtp</th>\n",
              "      <th>bmi</th>\n",
              "      <th>egfr</th>\n",
              "    </tr>\n",
              "  </thead>\n",
              "  <tbody>\n",
              "    <tr>\n",
              "      <th>0</th>\n",
              "      <td>-1.353882</td>\n",
              "      <td>-0.833293</td>\n",
              "      <td>-0.600104</td>\n",
              "      <td>-1.346497</td>\n",
              "      <td>-1.178767</td>\n",
              "      <td>-0.938286</td>\n",
              "      <td>-1.031234</td>\n",
              "      <td>-0.655184</td>\n",
              "      <td>-3.153017</td>\n",
              "      <td>-0.304837</td>\n",
              "      <td>0.208712</td>\n",
              "      <td>-0.504670</td>\n",
              "      <td>-0.689417</td>\n",
              "      <td>-2.788903</td>\n",
              "      <td>-0.227349</td>\n",
              "    </tr>\n",
              "    <tr>\n",
              "      <th>1</th>\n",
              "      <td>-0.406396</td>\n",
              "      <td>-1.451081</td>\n",
              "      <td>-1.307460</td>\n",
              "      <td>-0.148516</td>\n",
              "      <td>-0.831155</td>\n",
              "      <td>-0.214381</td>\n",
              "      <td>-0.128239</td>\n",
              "      <td>-0.944642</td>\n",
              "      <td>-1.721593</td>\n",
              "      <td>0.035960</td>\n",
              "      <td>-0.032242</td>\n",
              "      <td>-0.616204</td>\n",
              "      <td>-0.303664</td>\n",
              "      <td>-1.005895</td>\n",
              "      <td>-0.220577</td>\n",
              "    </tr>\n",
              "    <tr>\n",
              "      <th>2</th>\n",
              "      <td>-1.880263</td>\n",
              "      <td>-1.519725</td>\n",
              "      <td>-1.610612</td>\n",
              "      <td>-0.102439</td>\n",
              "      <td>1.040601</td>\n",
              "      <td>0.035241</td>\n",
              "      <td>1.886134</td>\n",
              "      <td>0.028991</td>\n",
              "      <td>-0.788056</td>\n",
              "      <td>-0.304837</td>\n",
              "      <td>-0.835422</td>\n",
              "      <td>-0.783505</td>\n",
              "      <td>-0.689417</td>\n",
              "      <td>-2.098252</td>\n",
              "      <td>0.395102</td>\n",
              "    </tr>\n",
              "    <tr>\n",
              "      <th>3</th>\n",
              "      <td>-1.985540</td>\n",
              "      <td>-1.519725</td>\n",
              "      <td>-1.610612</td>\n",
              "      <td>-0.102439</td>\n",
              "      <td>-0.750937</td>\n",
              "      <td>-0.813474</td>\n",
              "      <td>0.983139</td>\n",
              "      <td>-1.049899</td>\n",
              "      <td>-0.788056</td>\n",
              "      <td>-0.134438</td>\n",
              "      <td>-0.594468</td>\n",
              "      <td>-0.671971</td>\n",
              "      <td>-0.659743</td>\n",
              "      <td>-1.407600</td>\n",
              "      <td>0.045846</td>\n",
              "    </tr>\n",
              "    <tr>\n",
              "      <th>4</th>\n",
              "      <td>-2.301368</td>\n",
              "      <td>0.196355</td>\n",
              "      <td>0.006201</td>\n",
              "      <td>-0.471049</td>\n",
              "      <td>-0.964852</td>\n",
              "      <td>-0.651220</td>\n",
              "      <td>-0.545006</td>\n",
              "      <td>-0.734127</td>\n",
              "      <td>-0.476877</td>\n",
              "      <td>-0.304837</td>\n",
              "      <td>-0.273196</td>\n",
              "      <td>-0.783505</td>\n",
              "      <td>-0.719090</td>\n",
              "      <td>-1.769809</td>\n",
              "      <td>0.395102</td>\n",
              "    </tr>\n",
              "  </tbody>\n",
              "</table>\n",
              "</div>"
            ],
            "text/plain": [
              "      waist   bp_high   bp_lwst  ...  gamma_gtp       bmi      egfr\n",
              "0 -1.353882 -0.833293 -0.600104  ...  -0.689417 -2.788903 -0.227349\n",
              "1 -0.406396 -1.451081 -1.307460  ...  -0.303664 -1.005895 -0.220577\n",
              "2 -1.880263 -1.519725 -1.610612  ...  -0.689417 -2.098252  0.395102\n",
              "3 -1.985540 -1.519725 -1.610612  ...  -0.659743 -1.407600  0.045846\n",
              "4 -2.301368  0.196355  0.006201  ...  -0.719090 -1.769809  0.395102\n",
              "\n",
              "[5 rows x 15 columns]"
            ]
          },
          "metadata": {},
          "execution_count": 12
        }
      ]
    },
    {
      "cell_type": "code",
      "metadata": {
        "colab": {
          "base_uri": "https://localhost:8080/"
        },
        "id": "EOVUuCo7JbrS",
        "outputId": "c841dea8-1d6d-407c-99e5-61ce01634b73"
      },
      "source": [
        "X.shape"
      ],
      "execution_count": 17,
      "outputs": [
        {
          "output_type": "execute_result",
          "data": {
            "text/plain": [
              "(2853545, 66)"
            ]
          },
          "metadata": {},
          "execution_count": 17
        }
      ]
    },
    {
      "cell_type": "code",
      "metadata": {
        "colab": {
          "base_uri": "https://localhost:8080/"
        },
        "id": "udJia5DWJP0T",
        "outputId": "108f092c-78a1-42ba-984b-1fc95a067a77"
      },
      "source": [
        "X_sample = X.sample(frac=0.1, replace=True, random_state=0)\n",
        "X_sample.shape"
      ],
      "execution_count": 15,
      "outputs": [
        {
          "output_type": "execute_result",
          "data": {
            "text/plain": [
              "(285354, 66)"
            ]
          },
          "metadata": {},
          "execution_count": 15
        }
      ]
    },
    {
      "cell_type": "code",
      "metadata": {
        "colab": {
          "base_uri": "https://localhost:8080/"
        },
        "id": "N7WpYcZ9Jhhm",
        "outputId": "6e1ca5fc-a63f-4cfe-aca6-9e0a59b6eae4"
      },
      "source": [
        "Y_sample = Y.sample(frac=0.1, replace=True, random_state=0)\n",
        "Y_sample.shape"
      ],
      "execution_count": 18,
      "outputs": [
        {
          "output_type": "execute_result",
          "data": {
            "text/plain": [
              "(285354, 15)"
            ]
          },
          "metadata": {},
          "execution_count": 18
        }
      ]
    },
    {
      "cell_type": "code",
      "metadata": {
        "id": "szhDu3KlOylR"
      },
      "source": [
        "#데이터나누기\n",
        "from sklearn.model_selection import train_test_split\n",
        "X_train,X_test,y_train,y_test = train_test_split(X_sample,Y_sample,test_size=0.2, random_state=0)"
      ],
      "execution_count": 27,
      "outputs": []
    },
    {
      "cell_type": "code",
      "metadata": {
        "id": "e3iHP6BkIG2D"
      },
      "source": [
        "#모델 구조 만들기\n",
        "x=tf.keras.layers.Input(shape=[66])\n",
        "h=tf.keras.layers.Dense(32, activation='softmax')(x)\n",
        "y=tf.keras.layers.Dense(15, activation='softmax')(h)\n",
        "model = tf.keras.models.Model(x,y)\n",
        "model.compile(optimizer='SGD', loss='mse', metrics='accuracy')"
      ],
      "execution_count": 40,
      "outputs": []
    },
    {
      "cell_type": "code",
      "metadata": {
        "colab": {
          "base_uri": "https://localhost:8080/"
        },
        "id": "Lnkr2XhkKaRd",
        "outputId": "bae6a413-2e7f-4299-c6d8-29687414eee6"
      },
      "source": [
        "#학습\n",
        "model.fit(X_train,y_train, epochs=10, validation_split=0.2)"
      ],
      "execution_count": 41,
      "outputs": [
        {
          "output_type": "stream",
          "name": "stdout",
          "text": [
            "Epoch 1/10\n",
            "5708/5708 [==============================] - 23s 4ms/step - loss: 1.0214 - accuracy: 0.0701 - val_loss: 1.0198 - val_accuracy: 0.0753\n",
            "Epoch 2/10\n",
            "5708/5708 [==============================] - 23s 4ms/step - loss: 1.0201 - accuracy: 0.0746 - val_loss: 1.0187 - val_accuracy: 0.0754\n",
            "Epoch 3/10\n",
            "5708/5708 [==============================] - 25s 4ms/step - loss: 1.0191 - accuracy: 0.0746 - val_loss: 1.0177 - val_accuracy: 0.0754\n",
            "Epoch 4/10\n",
            "5708/5708 [==============================] - 25s 4ms/step - loss: 1.0182 - accuracy: 0.0746 - val_loss: 1.0170 - val_accuracy: 0.0754\n",
            "Epoch 5/10\n",
            "5708/5708 [==============================] - 25s 4ms/step - loss: 1.0175 - accuracy: 0.0746 - val_loss: 1.0163 - val_accuracy: 0.0754\n",
            "Epoch 6/10\n",
            "5708/5708 [==============================] - 23s 4ms/step - loss: 1.0169 - accuracy: 0.0746 - val_loss: 1.0157 - val_accuracy: 0.0754\n",
            "Epoch 7/10\n",
            "5708/5708 [==============================] - 25s 4ms/step - loss: 1.0163 - accuracy: 0.0746 - val_loss: 1.0152 - val_accuracy: 0.0754\n",
            "Epoch 8/10\n",
            "5708/5708 [==============================] - 23s 4ms/step - loss: 1.0158 - accuracy: 0.0746 - val_loss: 1.0148 - val_accuracy: 0.0754\n",
            "Epoch 9/10\n",
            "5708/5708 [==============================] - 25s 4ms/step - loss: 1.0154 - accuracy: 0.0746 - val_loss: 1.0144 - val_accuracy: 0.0754\n",
            "Epoch 10/10\n",
            "5708/5708 [==============================] - 25s 4ms/step - loss: 1.0150 - accuracy: 0.0746 - val_loss: 1.0141 - val_accuracy: 0.0754\n"
          ]
        },
        {
          "output_type": "execute_result",
          "data": {
            "text/plain": [
              "<keras.callbacks.History at 0x7f214f5c7090>"
            ]
          },
          "metadata": {},
          "execution_count": 41
        }
      ]
    },
    {
      "cell_type": "code",
      "metadata": {
        "colab": {
          "base_uri": "https://localhost:8080/"
        },
        "id": "M_h3HWvpUPjh",
        "outputId": "e1edd5f9-027f-4d26-ce01-0d167df82d29"
      },
      "source": [
        "model.evaluate(X_test,y_test)"
      ],
      "execution_count": 55,
      "outputs": [
        {
          "output_type": "stream",
          "name": "stdout",
          "text": [
            "1784/1784 [==============================] - 5s 3ms/step - loss: 1.0051 - accuracy: 0.0736\n"
          ]
        },
        {
          "output_type": "execute_result",
          "data": {
            "text/plain": [
              "[1.0050917863845825, 0.07357501983642578]"
            ]
          },
          "metadata": {},
          "execution_count": 55
        }
      ]
    },
    {
      "cell_type": "code",
      "metadata": {
        "colab": {
          "base_uri": "https://localhost:8080/",
          "height": 787
        },
        "id": "OvkDxuXtVYkk",
        "outputId": "b8396ef5-11cc-4e01-b4af-b7f2a2291ff1"
      },
      "source": [
        "model.predict(arr)"
      ],
      "execution_count": 58,
      "outputs": [
        {
          "output_type": "stream",
          "name": "stdout",
          "text": [
            "WARNING:tensorflow:Model was constructed with shape (None, 66) for input KerasTensor(type_spec=TensorSpec(shape=(None, 66), dtype=tf.float32, name='input_11'), name='input_11', description=\"created by layer 'input_11'\"), but it was called on an input with incompatible shape (None,).\n"
          ]
        },
        {
          "output_type": "error",
          "ename": "ValueError",
          "evalue": "ignored",
          "traceback": [
            "\u001b[0;31m---------------------------------------------------------------------------\u001b[0m",
            "\u001b[0;31mValueError\u001b[0m                                Traceback (most recent call last)",
            "\u001b[0;32m<ipython-input-58-ca50b32814f5>\u001b[0m in \u001b[0;36m<module>\u001b[0;34m()\u001b[0m\n\u001b[0;32m----> 1\u001b[0;31m \u001b[0mmodel\u001b[0m\u001b[0;34m.\u001b[0m\u001b[0mpredict\u001b[0m\u001b[0;34m(\u001b[0m\u001b[0marr\u001b[0m\u001b[0;34m)\u001b[0m\u001b[0;34m\u001b[0m\u001b[0;34m\u001b[0m\u001b[0m\n\u001b[0m",
            "\u001b[0;32m/usr/local/lib/python3.7/dist-packages/keras/utils/traceback_utils.py\u001b[0m in \u001b[0;36merror_handler\u001b[0;34m(*args, **kwargs)\u001b[0m\n\u001b[1;32m     65\u001b[0m     \u001b[0;32mexcept\u001b[0m \u001b[0mException\u001b[0m \u001b[0;32mas\u001b[0m \u001b[0me\u001b[0m\u001b[0;34m:\u001b[0m  \u001b[0;31m# pylint: disable=broad-except\u001b[0m\u001b[0;34m\u001b[0m\u001b[0;34m\u001b[0m\u001b[0m\n\u001b[1;32m     66\u001b[0m       \u001b[0mfiltered_tb\u001b[0m \u001b[0;34m=\u001b[0m \u001b[0m_process_traceback_frames\u001b[0m\u001b[0;34m(\u001b[0m\u001b[0me\u001b[0m\u001b[0;34m.\u001b[0m\u001b[0m__traceback__\u001b[0m\u001b[0;34m)\u001b[0m\u001b[0;34m\u001b[0m\u001b[0;34m\u001b[0m\u001b[0m\n\u001b[0;32m---> 67\u001b[0;31m       \u001b[0;32mraise\u001b[0m \u001b[0me\u001b[0m\u001b[0;34m.\u001b[0m\u001b[0mwith_traceback\u001b[0m\u001b[0;34m(\u001b[0m\u001b[0mfiltered_tb\u001b[0m\u001b[0;34m)\u001b[0m \u001b[0;32mfrom\u001b[0m \u001b[0;32mNone\u001b[0m\u001b[0;34m\u001b[0m\u001b[0;34m\u001b[0m\u001b[0m\n\u001b[0m\u001b[1;32m     68\u001b[0m     \u001b[0;32mfinally\u001b[0m\u001b[0;34m:\u001b[0m\u001b[0;34m\u001b[0m\u001b[0;34m\u001b[0m\u001b[0m\n\u001b[1;32m     69\u001b[0m       \u001b[0;32mdel\u001b[0m \u001b[0mfiltered_tb\u001b[0m\u001b[0;34m\u001b[0m\u001b[0;34m\u001b[0m\u001b[0m\n",
            "\u001b[0;32m/usr/local/lib/python3.7/dist-packages/tensorflow/python/framework/func_graph.py\u001b[0m in \u001b[0;36mautograph_handler\u001b[0;34m(*args, **kwargs)\u001b[0m\n\u001b[1;32m   1127\u001b[0m           \u001b[0;32mexcept\u001b[0m \u001b[0mException\u001b[0m \u001b[0;32mas\u001b[0m \u001b[0me\u001b[0m\u001b[0;34m:\u001b[0m  \u001b[0;31m# pylint:disable=broad-except\u001b[0m\u001b[0;34m\u001b[0m\u001b[0;34m\u001b[0m\u001b[0m\n\u001b[1;32m   1128\u001b[0m             \u001b[0;32mif\u001b[0m \u001b[0mhasattr\u001b[0m\u001b[0;34m(\u001b[0m\u001b[0me\u001b[0m\u001b[0;34m,\u001b[0m \u001b[0;34m\"ag_error_metadata\"\u001b[0m\u001b[0;34m)\u001b[0m\u001b[0;34m:\u001b[0m\u001b[0;34m\u001b[0m\u001b[0;34m\u001b[0m\u001b[0m\n\u001b[0;32m-> 1129\u001b[0;31m               \u001b[0;32mraise\u001b[0m \u001b[0me\u001b[0m\u001b[0;34m.\u001b[0m\u001b[0mag_error_metadata\u001b[0m\u001b[0;34m.\u001b[0m\u001b[0mto_exception\u001b[0m\u001b[0;34m(\u001b[0m\u001b[0me\u001b[0m\u001b[0;34m)\u001b[0m\u001b[0;34m\u001b[0m\u001b[0;34m\u001b[0m\u001b[0m\n\u001b[0m\u001b[1;32m   1130\u001b[0m             \u001b[0;32melse\u001b[0m\u001b[0;34m:\u001b[0m\u001b[0;34m\u001b[0m\u001b[0;34m\u001b[0m\u001b[0m\n\u001b[1;32m   1131\u001b[0m               \u001b[0;32mraise\u001b[0m\u001b[0;34m\u001b[0m\u001b[0;34m\u001b[0m\u001b[0m\n",
            "\u001b[0;31mValueError\u001b[0m: in user code:\n\n    File \"/usr/local/lib/python3.7/dist-packages/keras/engine/training.py\", line 1621, in predict_function  *\n        return step_function(self, iterator)\n    File \"/usr/local/lib/python3.7/dist-packages/keras/engine/training.py\", line 1611, in step_function  **\n        outputs = model.distribute_strategy.run(run_step, args=(data,))\n    File \"/usr/local/lib/python3.7/dist-packages/keras/engine/training.py\", line 1604, in run_step  **\n        outputs = model.predict_step(data)\n    File \"/usr/local/lib/python3.7/dist-packages/keras/engine/training.py\", line 1572, in predict_step\n        return self(x, training=False)\n    File \"/usr/local/lib/python3.7/dist-packages/keras/utils/traceback_utils.py\", line 67, in error_handler\n        raise e.with_traceback(filtered_tb) from None\n    File \"/usr/local/lib/python3.7/dist-packages/keras/engine/input_spec.py\", line 227, in assert_input_compatibility\n        raise ValueError(f'Input {input_index} of layer \"{layer_name}\" '\n\n    ValueError: Exception encountered when calling layer \"model_10\" (type Functional).\n    \n    Input 0 of layer \"dense_13\" is incompatible with the layer: expected min_ndim=2, found ndim=1. Full shape received: (None,)\n    \n    Call arguments received:\n      • inputs=tf.Tensor(shape=(None,), dtype=uint8)\n      • training=False\n      • mask=None\n"
          ]
        }
      ]
    },
    {
      "cell_type": "code",
      "metadata": {
        "id": "pzuu71p0U2XV"
      },
      "source": [
        "arr= X_sample.iloc[1].values"
      ],
      "execution_count": 57,
      "outputs": []
    },
    {
      "cell_type": "code",
      "metadata": {
        "colab": {
          "base_uri": "https://localhost:8080/",
          "height": 530
        },
        "id": "QAZD_nNnSdmC",
        "outputId": "dd061867-6f48-4498-ff48-bd6aced071fe"
      },
      "source": [
        "import matplotlib.pyplot as plt \n",
        "plt.title('Loss')\n",
        "plt.xlabel('epochs')\n",
        "plt.ylabel('loss')\n",
        "plt.grid()\n",
        "plt.plot(History['loss'],label='train loss')\n",
        "plt.plot(History['val_loss'],label='validation loss')\n",
        "plt.legend(loc='best')\n",
        "plt.show()"
      ],
      "execution_count": 48,
      "outputs": [
        {
          "output_type": "error",
          "ename": "NameError",
          "evalue": "ignored",
          "traceback": [
            "\u001b[0;31m---------------------------------------------------------------------------\u001b[0m",
            "\u001b[0;31mNameError\u001b[0m                                 Traceback (most recent call last)",
            "\u001b[0;32m<ipython-input-48-aa30798767fe>\u001b[0m in \u001b[0;36m<module>\u001b[0;34m()\u001b[0m\n\u001b[1;32m      4\u001b[0m \u001b[0mplt\u001b[0m\u001b[0;34m.\u001b[0m\u001b[0mylabel\u001b[0m\u001b[0;34m(\u001b[0m\u001b[0;34m'loss'\u001b[0m\u001b[0;34m)\u001b[0m\u001b[0;34m\u001b[0m\u001b[0;34m\u001b[0m\u001b[0m\n\u001b[1;32m      5\u001b[0m \u001b[0mplt\u001b[0m\u001b[0;34m.\u001b[0m\u001b[0mgrid\u001b[0m\u001b[0;34m(\u001b[0m\u001b[0;34m)\u001b[0m\u001b[0;34m\u001b[0m\u001b[0;34m\u001b[0m\u001b[0m\n\u001b[0;32m----> 6\u001b[0;31m \u001b[0mplt\u001b[0m\u001b[0;34m.\u001b[0m\u001b[0mplot\u001b[0m\u001b[0;34m(\u001b[0m\u001b[0mHistory\u001b[0m\u001b[0;34m[\u001b[0m\u001b[0;34m'loss'\u001b[0m\u001b[0;34m]\u001b[0m\u001b[0;34m,\u001b[0m\u001b[0mlabel\u001b[0m\u001b[0;34m=\u001b[0m\u001b[0;34m'train loss'\u001b[0m\u001b[0;34m)\u001b[0m\u001b[0;34m\u001b[0m\u001b[0;34m\u001b[0m\u001b[0m\n\u001b[0m\u001b[1;32m      7\u001b[0m \u001b[0mplt\u001b[0m\u001b[0;34m.\u001b[0m\u001b[0mplot\u001b[0m\u001b[0;34m(\u001b[0m\u001b[0mHistory\u001b[0m\u001b[0;34m[\u001b[0m\u001b[0;34m'val_loss'\u001b[0m\u001b[0;34m]\u001b[0m\u001b[0;34m,\u001b[0m\u001b[0mlabel\u001b[0m\u001b[0;34m=\u001b[0m\u001b[0;34m'validation loss'\u001b[0m\u001b[0;34m)\u001b[0m\u001b[0;34m\u001b[0m\u001b[0;34m\u001b[0m\u001b[0m\n\u001b[1;32m      8\u001b[0m \u001b[0mplt\u001b[0m\u001b[0;34m.\u001b[0m\u001b[0mlegend\u001b[0m\u001b[0;34m(\u001b[0m\u001b[0mloc\u001b[0m\u001b[0;34m=\u001b[0m\u001b[0;34m'best'\u001b[0m\u001b[0;34m)\u001b[0m\u001b[0;34m\u001b[0m\u001b[0;34m\u001b[0m\u001b[0m\n",
            "\u001b[0;31mNameError\u001b[0m: name 'History' is not defined"
          ]
        },
        {
          "output_type": "display_data",
          "data": {
            "image/png": "[encoded data removed]",
            "text/plain": [
              "<Figure size 432x288 with 1 Axes>"
            ]
          },
          "metadata": {
            "needs_background": "light"
          }
        }
      ]
    },
    {
      "cell_type": "code",
      "metadata": {
        "id": "LHaiU2xqLxTb"
      },
      "source": [
        "model.get_weights()"
      ],
      "execution_count": null,
      "outputs": []
    },
    {
      "cell_type": "code",
      "metadata": {
        "colab": {
          "base_uri": "https://localhost:8080/"
        },
        "id": "GZt3w1sbMi5h",
        "outputId": "6ad6ef05-0019-4433-c691-5ed10cf59e9b"
      },
      "source": [
        "model.summary()"
      ],
      "execution_count": 49,
      "outputs": [
        {
          "output_type": "stream",
          "name": "stdout",
          "text": [
            "Model: \"model_10\"\n",
            "_________________________________________________________________\n",
            " Layer (type)                Output Shape              Param #   \n",
            "=================================================================\n",
            " input_11 (InputLayer)       [(None, 66)]              0         \n",
            "                                                                 \n",
            " dense_13 (Dense)            (None, 32)                2144      \n",
            "                                                                 \n",
            " dense_14 (Dense)            (None, 15)                495       \n",
            "                                                                 \n",
            "=================================================================\n",
            "Total params: 2,639\n",
            "Trainable params: 2,639\n",
            "Non-trainable params: 0\n",
            "_________________________________________________________________\n"
          ]
        }
      ]
    },
    {
      "cell_type": "code",
      "metadata": {
        "colab": {
          "base_uri": "https://localhost:8080/"
        },
        "id": "jOA87aWBMqEs",
        "outputId": "d060ab1f-2a8e-4d71-c2aa-a8a3bf475431"
      },
      "source": [
        "X_sample.values"
      ],
      "execution_count": 23,
      "outputs": [
        {
          "output_type": "execute_result",
          "data": {
            "text/plain": [
              "array([[1, 0, 0, ..., 0, 1, 0],\n",
              "       [1, 0, 0, ..., 0, 1, 0],\n",
              "       [1, 0, 0, ..., 0, 1, 0],\n",
              "       ...,\n",
              "       [0, 1, 0, ..., 0, 1, 0],\n",
              "       [1, 0, 0, ..., 0, 1, 0],\n",
              "       [1, 0, 0, ..., 0, 1, 0]], dtype=uint8)"
            ]
          },
          "metadata": {},
          "execution_count": 23
        }
      ]
    },
    {
      "cell_type": "code",
      "metadata": {
        "colab": {
          "base_uri": "https://localhost:8080/"
        },
        "id": "0rq7tLInOHbv",
        "outputId": "28cee726-8349-45ce-86c3-75776ac1180f"
      },
      "source": [
        "X_sample.columns"
      ],
      "execution_count": 24,
      "outputs": [
        {
          "output_type": "execute_result",
          "data": {
            "text/plain": [
              "Index(['sex_남자', 'sex_여자', 'age_20~24세', 'age_25~29세', 'age_30~34세',\n",
              "       'age_35~39세', 'age_40~44세', 'age_45~49세', 'age_50~54세', 'age_55~59세',\n",
              "       'age_60~64세', 'age_65~69세', 'age_70~74세', 'age_75~79세', 'age_80~84세',\n",
              "       'age_85세 이상', 'height_120~124cm', 'height_125~129cm',\n",
              "       'height_130~134cm', 'height_135~139cm', 'height_140~144cm',\n",
              "       'height_145~149cm', 'height_150~154cm', 'height_155~159cm',\n",
              "       'height_160~164cm', 'height_165~169cm', 'height_170~174cm',\n",
              "       'height_175~179cm', 'height_180~184cm', 'height_185~189cm',\n",
              "       'height_190~194cm', 'height_195~199cm', 'height_200cm 이상',\n",
              "       'weight_100~104kg', 'weight_105~109kg', 'weight_110~114kg',\n",
              "       'weight_115~119kg', 'weight_120~124kg', 'weight_125~129kg',\n",
              "       'weight_130~134kg', 'weight_135~139kg', 'weight_140kg 이상',\n",
              "       'weight_30~34kg', 'weight_35~39kg', 'weight_40~44kg', 'weight_45~49kg',\n",
              "       'weight_50~54kg', 'weight_55~59kg', 'weight_60~64kg', 'weight_65~69kg',\n",
              "       'weight_70~74kg', 'weight_75~79kg', 'weight_80~84kg', 'weight_85~89kg',\n",
              "       'weight_90~94kg', 'weight_95~99kg', 'smk_피우지 않는다', 'smk_피운다',\n",
              "       'drk_마시지 않는다', 'drk_마신다', 'prote_+1', 'prote_+2', 'prote_+3',\n",
              "       'prote_+4', 'prote_-', 'prote_±'],\n",
              "      dtype='object')"
            ]
          },
          "metadata": {},
          "execution_count": 24
        }
      ]
    },
    {
      "cell_type": "code",
      "metadata": {
        "id": "0eBhqdk9N-83"
      },
      "source": [
        ""
      ],
      "execution_count": null,
      "outputs": []
    },
    {
      "cell_type": "code",
      "metadata": {
        "id": "yyKEXeJS7vfl"
      },
      "source": [
        "#temp['sum']=temp['sex']+'/'+temp['age']+'/'+temp['height']+'/'+temp['weight']+'/'+temp['smk']+'/'+temp['drk']+'/'+temp['prote']\n",
        "#y=temp['sum']\n",
        "#from sklearn.model_selection import train_test_split\n",
        "#from sklearn.metrics import confusion_matrix, classification_report, accuracy_score\n",
        "#from sklearn.linear_model import LogisticRegression\n",
        "#from sklearn.neighbors import KNeighborsClassifier\n",
        "#from sklearn.svm import SVC\n",
        "#knn = KNeighborsClassifier(n_neighbors=3)\n",
        "#svc = SVC(kernel='linear',gamma=10,C=1.0)\n",
        "#X_train,X_test,y_train,y_test = train_test_split(x,y,test_size=0.2, random_state=0)\n",
        "#model= LogisticRegression()\n",
        "#model.fit(X_train,y_train)"
      ],
      "execution_count": 14,
      "outputs": []
    },
    {
      "cell_type": "code",
      "metadata": {
        "id": "610L-imLGhsA"
      },
      "source": [
        ""
      ],
      "execution_count": 14,
      "outputs": []
    },
    {
      "cell_type": "code",
      "metadata": {
        "id": "4c2tOIbHJTC-"
      },
      "source": [
        ""
      ],
      "execution_count": null,
      "outputs": []
    },
    {
      "cell_type": "code",
      "metadata": {
        "id": "Fl7xCBGzJbGA"
      },
      "source": [
        ""
      ],
      "execution_count": null,
      "outputs": []
    }
  ]
}